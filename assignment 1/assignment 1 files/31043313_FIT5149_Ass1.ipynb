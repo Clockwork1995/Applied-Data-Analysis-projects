{
 "cells": [
  {
   "cell_type": "markdown",
   "metadata": {},
   "source": [
    "# FIT5149 Assessment 1 : Mining Knowledge from Data\n",
    "#### Student Name: Md. Saadman Hossain\n",
    "#### Student ID: 31043313\n",
    "\n",
    "\n",
    "\n",
    "\n",
    "\n",
    "\n",
    "Libraries used:\n",
    "\n",
    "    library(psych)\n",
    "    library(ISLR)\n",
    "    library(ggplot2)\n",
    "    library(GGally)\n",
    "    library(gridExtra)\n",
    "    library(cowplot)\n",
    "    library(lattice)\n",
    "    library(dplyr)\n",
    "    library(ggpubr)\n",
    "    library(randomForest)\n",
    "    library(Metrics)\n",
    "    library(yardstick)\n",
    "    library(car)\n",
    "\n",
    "\n",
    "\n"
   ]
  },
  {
   "cell_type": "markdown",
   "metadata": {},
   "source": [
    "## Importing required libraries"
   ]
  },
  {
   "cell_type": "code",
   "execution_count": 1,
   "metadata": {},
   "outputs": [
    {
     "name": "stderr",
     "output_type": "stream",
     "text": [
      "Warning message:\n",
      "\"package 'psych' was built under R version 4.0.2\"\n",
      "Warning message:\n",
      "\"package 'ISLR' was built under R version 4.0.2\"\n",
      "Warning message:\n",
      "\"package 'ggplot2' was built under R version 4.0.2\"\n",
      "\n",
      "Attaching package: 'ggplot2'\n",
      "\n",
      "\n",
      "The following objects are masked from 'package:psych':\n",
      "\n",
      "    %+%, alpha\n",
      "\n",
      "\n",
      "Warning message:\n",
      "\"package 'GGally' was built under R version 4.0.2\"\n",
      "Registered S3 method overwritten by 'GGally':\n",
      "  method from   \n",
      "  +.gg   ggplot2\n",
      "\n",
      "Warning message:\n",
      "\"package 'gridExtra' was built under R version 4.0.2\"\n",
      "Warning message:\n",
      "\"package 'cowplot' was built under R version 4.0.2\"\n",
      "Warning message:\n",
      "\"package 'lattice' was built under R version 4.0.2\"\n",
      "\n",
      "Attaching package: 'dplyr'\n",
      "\n",
      "\n",
      "The following object is masked from 'package:gridExtra':\n",
      "\n",
      "    combine\n",
      "\n",
      "\n",
      "The following objects are masked from 'package:stats':\n",
      "\n",
      "    filter, lag\n",
      "\n",
      "\n",
      "The following objects are masked from 'package:base':\n",
      "\n",
      "    intersect, setdiff, setequal, union\n",
      "\n",
      "\n",
      "Warning message:\n",
      "\"package 'ggpubr' was built under R version 4.0.2\"\n",
      "\n",
      "Attaching package: 'ggpubr'\n",
      "\n",
      "\n",
      "The following object is masked from 'package:cowplot':\n",
      "\n",
      "    get_legend\n",
      "\n",
      "\n",
      "Warning message:\n",
      "\"package 'randomForest' was built under R version 4.0.2\"\n",
      "randomForest 4.6-14\n",
      "\n",
      "Type rfNews() to see new features/changes/bug fixes.\n",
      "\n",
      "\n",
      "Attaching package: 'randomForest'\n",
      "\n",
      "\n",
      "The following object is masked from 'package:dplyr':\n",
      "\n",
      "    combine\n",
      "\n",
      "\n",
      "The following object is masked from 'package:gridExtra':\n",
      "\n",
      "    combine\n",
      "\n",
      "\n",
      "The following object is masked from 'package:ggplot2':\n",
      "\n",
      "    margin\n",
      "\n",
      "\n",
      "The following object is masked from 'package:psych':\n",
      "\n",
      "    outlier\n",
      "\n",
      "\n",
      "Warning message:\n",
      "\"package 'Metrics' was built under R version 4.0.2\"\n",
      "Warning message:\n",
      "\"package 'yardstick' was built under R version 4.0.2\"\n",
      "For binary classification, the first factor level is assumed to be the event.\n",
      "Use the argument `event_level = \"second\"` to alter this as needed.\n",
      "\n",
      "\n",
      "Attaching package: 'yardstick'\n",
      "\n",
      "\n",
      "The following objects are masked from 'package:Metrics':\n",
      "\n",
      "    accuracy, mae, mape, mase, precision, recall, rmse, smape\n",
      "\n",
      "\n",
      "Warning message:\n",
      "\"package 'car' was built under R version 4.0.2\"\n",
      "Loading required package: carData\n",
      "\n",
      "\n",
      "Attaching package: 'car'\n",
      "\n",
      "\n",
      "The following object is masked from 'package:dplyr':\n",
      "\n",
      "    recode\n",
      "\n",
      "\n",
      "The following object is masked from 'package:psych':\n",
      "\n",
      "    logit\n",
      "\n",
      "\n"
     ]
    }
   ],
   "source": [
    "library(psych)\n",
    "library(ISLR)\n",
    "library(ggplot2)\n",
    "library(GGally)\n",
    "library(gridExtra)\n",
    "library(cowplot)\n",
    "library(lattice)\n",
    "library(dplyr)\n",
    "library(ggpubr)\n",
    "library(randomForest)\n",
    "library(Metrics)\n",
    "library(yardstick)\n",
    "library(car)"
   ]
  },
  {
   "cell_type": "markdown",
   "metadata": {},
   "source": [
    "## Reading the train data"
   ]
  },
  {
   "cell_type": "code",
   "execution_count": 2,
   "metadata": {},
   "outputs": [],
   "source": [
    "data = read.csv('train.csv', header = TRUE)"
   ]
  },
  {
   "cell_type": "code",
   "execution_count": 3,
   "metadata": {},
   "outputs": [
    {
     "data": {
      "text/html": [
       "<style>\n",
       ".list-inline {list-style: none; margin:0; padding: 0}\n",
       ".list-inline>li {display: inline-block}\n",
       ".list-inline>li:not(:last-child)::after {content: \"\\00b7\"; padding: 0 .5ex}\n",
       "</style>\n",
       "<ol class=list-inline><li>7008</li><li>14</li></ol>\n"
      ],
      "text/latex": [
       "\\begin{enumerate*}\n",
       "\\item 7008\n",
       "\\item 14\n",
       "\\end{enumerate*}\n"
      ],
      "text/markdown": [
       "1. 7008\n",
       "2. 14\n",
       "\n",
       "\n"
      ],
      "text/plain": [
       "[1] 7008   14"
      ]
     },
     "metadata": {},
     "output_type": "display_data"
    }
   ],
   "source": [
    "dim(data) #dimension if the data"
   ]
  },
  {
   "cell_type": "code",
   "execution_count": 4,
   "metadata": {},
   "outputs": [
    {
     "data": {
      "text/html": [
       "<table>\n",
       "<caption>A data.frame: 6 × 14</caption>\n",
       "<thead>\n",
       "\t<tr><th></th><th scope=col>Date</th><th scope=col>Rented.Bike.Count</th><th scope=col>Hour</th><th scope=col>Temperature</th><th scope=col>Humidity</th><th scope=col>Wind.speed</th><th scope=col>Visibility</th><th scope=col>Dew.point.temperature</th><th scope=col>Solar.Radiation</th><th scope=col>Rainfall</th><th scope=col>Snowfall</th><th scope=col>Seasons</th><th scope=col>Holiday</th><th scope=col>Functioning.Day</th></tr>\n",
       "\t<tr><th></th><th scope=col>&lt;chr&gt;</th><th scope=col>&lt;int&gt;</th><th scope=col>&lt;int&gt;</th><th scope=col>&lt;dbl&gt;</th><th scope=col>&lt;int&gt;</th><th scope=col>&lt;dbl&gt;</th><th scope=col>&lt;int&gt;</th><th scope=col>&lt;dbl&gt;</th><th scope=col>&lt;dbl&gt;</th><th scope=col>&lt;dbl&gt;</th><th scope=col>&lt;dbl&gt;</th><th scope=col>&lt;chr&gt;</th><th scope=col>&lt;chr&gt;</th><th scope=col>&lt;chr&gt;</th></tr>\n",
       "</thead>\n",
       "<tbody>\n",
       "\t<tr><th scope=row>1</th><td>13/03/2018</td><td>705</td><td>14</td><td>18.3</td><td>43</td><td>2.2</td><td>1509</td><td>  5.4</td><td>2.43</td><td>0</td><td>0</td><td>Spring</td><td>No Holiday</td><td>Yes</td></tr>\n",
       "\t<tr><th scope=row>2</th><td>15/03/2018</td><td>289</td><td>14</td><td>12.1</td><td>97</td><td>2.0</td><td> 177</td><td> 11.6</td><td>0.20</td><td>0</td><td>0</td><td>Spring</td><td>No Holiday</td><td>Yes</td></tr>\n",
       "\t<tr><th scope=row>3</th><td>29/11/2018</td><td>126</td><td> 5</td><td> 1.8</td><td>34</td><td>0.9</td><td>1990</td><td>-12.4</td><td>0.00</td><td>0</td><td>0</td><td>Autumn</td><td>No Holiday</td><td>Yes</td></tr>\n",
       "\t<tr><th scope=row>4</th><td>4/04/2018 </td><td>378</td><td> 9</td><td>10.4</td><td>81</td><td>1.4</td><td>2000</td><td>  7.2</td><td>0.36</td><td>0</td><td>0</td><td>Spring</td><td>No Holiday</td><td>Yes</td></tr>\n",
       "\t<tr><th scope=row>5</th><td>15/02/2018</td><td>236</td><td>17</td><td> 2.4</td><td>17</td><td>3.1</td><td>1990</td><td>-20.2</td><td>0.78</td><td>0</td><td>0</td><td>Winter</td><td>Holiday   </td><td>Yes</td></tr>\n",
       "\t<tr><th scope=row>6</th><td>20/04/2018</td><td>708</td><td>10</td><td>18.2</td><td>36</td><td>1.0</td><td> 620</td><td>  2.8</td><td>1.99</td><td>0</td><td>0</td><td>Spring</td><td>No Holiday</td><td>Yes</td></tr>\n",
       "</tbody>\n",
       "</table>\n"
      ],
      "text/latex": [
       "A data.frame: 6 × 14\n",
       "\\begin{tabular}{r|llllllllllllll}\n",
       "  & Date & Rented.Bike.Count & Hour & Temperature & Humidity & Wind.speed & Visibility & Dew.point.temperature & Solar.Radiation & Rainfall & Snowfall & Seasons & Holiday & Functioning.Day\\\\\n",
       "  & <chr> & <int> & <int> & <dbl> & <int> & <dbl> & <int> & <dbl> & <dbl> & <dbl> & <dbl> & <chr> & <chr> & <chr>\\\\\n",
       "\\hline\n",
       "\t1 & 13/03/2018 & 705 & 14 & 18.3 & 43 & 2.2 & 1509 &   5.4 & 2.43 & 0 & 0 & Spring & No Holiday & Yes\\\\\n",
       "\t2 & 15/03/2018 & 289 & 14 & 12.1 & 97 & 2.0 &  177 &  11.6 & 0.20 & 0 & 0 & Spring & No Holiday & Yes\\\\\n",
       "\t3 & 29/11/2018 & 126 &  5 &  1.8 & 34 & 0.9 & 1990 & -12.4 & 0.00 & 0 & 0 & Autumn & No Holiday & Yes\\\\\n",
       "\t4 & 4/04/2018  & 378 &  9 & 10.4 & 81 & 1.4 & 2000 &   7.2 & 0.36 & 0 & 0 & Spring & No Holiday & Yes\\\\\n",
       "\t5 & 15/02/2018 & 236 & 17 &  2.4 & 17 & 3.1 & 1990 & -20.2 & 0.78 & 0 & 0 & Winter & Holiday    & Yes\\\\\n",
       "\t6 & 20/04/2018 & 708 & 10 & 18.2 & 36 & 1.0 &  620 &   2.8 & 1.99 & 0 & 0 & Spring & No Holiday & Yes\\\\\n",
       "\\end{tabular}\n"
      ],
      "text/markdown": [
       "\n",
       "A data.frame: 6 × 14\n",
       "\n",
       "| <!--/--> | Date &lt;chr&gt; | Rented.Bike.Count &lt;int&gt; | Hour &lt;int&gt; | Temperature &lt;dbl&gt; | Humidity &lt;int&gt; | Wind.speed &lt;dbl&gt; | Visibility &lt;int&gt; | Dew.point.temperature &lt;dbl&gt; | Solar.Radiation &lt;dbl&gt; | Rainfall &lt;dbl&gt; | Snowfall &lt;dbl&gt; | Seasons &lt;chr&gt; | Holiday &lt;chr&gt; | Functioning.Day &lt;chr&gt; |\n",
       "|---|---|---|---|---|---|---|---|---|---|---|---|---|---|---|\n",
       "| 1 | 13/03/2018 | 705 | 14 | 18.3 | 43 | 2.2 | 1509 |   5.4 | 2.43 | 0 | 0 | Spring | No Holiday | Yes |\n",
       "| 2 | 15/03/2018 | 289 | 14 | 12.1 | 97 | 2.0 |  177 |  11.6 | 0.20 | 0 | 0 | Spring | No Holiday | Yes |\n",
       "| 3 | 29/11/2018 | 126 |  5 |  1.8 | 34 | 0.9 | 1990 | -12.4 | 0.00 | 0 | 0 | Autumn | No Holiday | Yes |\n",
       "| 4 | 4/04/2018  | 378 |  9 | 10.4 | 81 | 1.4 | 2000 |   7.2 | 0.36 | 0 | 0 | Spring | No Holiday | Yes |\n",
       "| 5 | 15/02/2018 | 236 | 17 |  2.4 | 17 | 3.1 | 1990 | -20.2 | 0.78 | 0 | 0 | Winter | Holiday    | Yes |\n",
       "| 6 | 20/04/2018 | 708 | 10 | 18.2 | 36 | 1.0 |  620 |   2.8 | 1.99 | 0 | 0 | Spring | No Holiday | Yes |\n",
       "\n"
      ],
      "text/plain": [
       "  Date       Rented.Bike.Count Hour Temperature Humidity Wind.speed Visibility\n",
       "1 13/03/2018 705               14   18.3        43       2.2        1509      \n",
       "2 15/03/2018 289               14   12.1        97       2.0         177      \n",
       "3 29/11/2018 126                5    1.8        34       0.9        1990      \n",
       "4 4/04/2018  378                9   10.4        81       1.4        2000      \n",
       "5 15/02/2018 236               17    2.4        17       3.1        1990      \n",
       "6 20/04/2018 708               10   18.2        36       1.0         620      \n",
       "  Dew.point.temperature Solar.Radiation Rainfall Snowfall Seasons Holiday   \n",
       "1   5.4                 2.43            0        0        Spring  No Holiday\n",
       "2  11.6                 0.20            0        0        Spring  No Holiday\n",
       "3 -12.4                 0.00            0        0        Autumn  No Holiday\n",
       "4   7.2                 0.36            0        0        Spring  No Holiday\n",
       "5 -20.2                 0.78            0        0        Winter  Holiday   \n",
       "6   2.8                 1.99            0        0        Spring  No Holiday\n",
       "  Functioning.Day\n",
       "1 Yes            \n",
       "2 Yes            \n",
       "3 Yes            \n",
       "4 Yes            \n",
       "5 Yes            \n",
       "6 Yes            "
      ]
     },
     "metadata": {},
     "output_type": "display_data"
    }
   ],
   "source": [
    "head(data)"
   ]
  },
  {
   "cell_type": "markdown",
   "metadata": {},
   "source": [
    "## Changing Hour, Seasons, Holiday, Functioning.Day to factor as they are categorical variables\n",
    "\n",
    "### Here the hour attribute is the hour of the day, and i think hour of the day affects the number of bikes rented considerably. turning it into a categorical variable is justifiable in this scenario. Season, Holiday and Functioning.Day also need to be converted to factor for further analysis and exploration. \n"
   ]
  },
  {
   "cell_type": "code",
   "execution_count": 5,
   "metadata": {},
   "outputs": [],
   "source": [
    "# changing Hour, Seasons, Holiday, Functioning.Day to factor as they are categorical variables\n",
    "\n",
    "data$Seasons <- as.factor(data$Seasons) \n",
    "data$Holiday <- as.factor(data$Holiday) \n",
    "data$Functioning.Day <- as.factor(data$Functioning.Day) \n",
    "data$Hour <- as.factor(data$Hour) "
   ]
  },
  {
   "cell_type": "code",
   "execution_count": 6,
   "metadata": {},
   "outputs": [
    {
     "data": {
      "text/html": [
       "<table>\n",
       "<caption>A data.frame: 6 × 14</caption>\n",
       "<thead>\n",
       "\t<tr><th></th><th scope=col>Date</th><th scope=col>Rented.Bike.Count</th><th scope=col>Hour</th><th scope=col>Temperature</th><th scope=col>Humidity</th><th scope=col>Wind.speed</th><th scope=col>Visibility</th><th scope=col>Dew.point.temperature</th><th scope=col>Solar.Radiation</th><th scope=col>Rainfall</th><th scope=col>Snowfall</th><th scope=col>Seasons</th><th scope=col>Holiday</th><th scope=col>Functioning.Day</th></tr>\n",
       "\t<tr><th></th><th scope=col>&lt;chr&gt;</th><th scope=col>&lt;int&gt;</th><th scope=col>&lt;fct&gt;</th><th scope=col>&lt;dbl&gt;</th><th scope=col>&lt;int&gt;</th><th scope=col>&lt;dbl&gt;</th><th scope=col>&lt;int&gt;</th><th scope=col>&lt;dbl&gt;</th><th scope=col>&lt;dbl&gt;</th><th scope=col>&lt;dbl&gt;</th><th scope=col>&lt;dbl&gt;</th><th scope=col>&lt;fct&gt;</th><th scope=col>&lt;fct&gt;</th><th scope=col>&lt;fct&gt;</th></tr>\n",
       "</thead>\n",
       "<tbody>\n",
       "\t<tr><th scope=row>1</th><td>13/03/2018</td><td>705</td><td>14</td><td>18.3</td><td>43</td><td>2.2</td><td>1509</td><td>  5.4</td><td>2.43</td><td>0</td><td>0</td><td>Spring</td><td>No Holiday</td><td>Yes</td></tr>\n",
       "\t<tr><th scope=row>2</th><td>15/03/2018</td><td>289</td><td>14</td><td>12.1</td><td>97</td><td>2.0</td><td> 177</td><td> 11.6</td><td>0.20</td><td>0</td><td>0</td><td>Spring</td><td>No Holiday</td><td>Yes</td></tr>\n",
       "\t<tr><th scope=row>3</th><td>29/11/2018</td><td>126</td><td>5 </td><td> 1.8</td><td>34</td><td>0.9</td><td>1990</td><td>-12.4</td><td>0.00</td><td>0</td><td>0</td><td>Autumn</td><td>No Holiday</td><td>Yes</td></tr>\n",
       "\t<tr><th scope=row>4</th><td>4/04/2018 </td><td>378</td><td>9 </td><td>10.4</td><td>81</td><td>1.4</td><td>2000</td><td>  7.2</td><td>0.36</td><td>0</td><td>0</td><td>Spring</td><td>No Holiday</td><td>Yes</td></tr>\n",
       "\t<tr><th scope=row>5</th><td>15/02/2018</td><td>236</td><td>17</td><td> 2.4</td><td>17</td><td>3.1</td><td>1990</td><td>-20.2</td><td>0.78</td><td>0</td><td>0</td><td>Winter</td><td>Holiday   </td><td>Yes</td></tr>\n",
       "\t<tr><th scope=row>6</th><td>20/04/2018</td><td>708</td><td>10</td><td>18.2</td><td>36</td><td>1.0</td><td> 620</td><td>  2.8</td><td>1.99</td><td>0</td><td>0</td><td>Spring</td><td>No Holiday</td><td>Yes</td></tr>\n",
       "</tbody>\n",
       "</table>\n"
      ],
      "text/latex": [
       "A data.frame: 6 × 14\n",
       "\\begin{tabular}{r|llllllllllllll}\n",
       "  & Date & Rented.Bike.Count & Hour & Temperature & Humidity & Wind.speed & Visibility & Dew.point.temperature & Solar.Radiation & Rainfall & Snowfall & Seasons & Holiday & Functioning.Day\\\\\n",
       "  & <chr> & <int> & <fct> & <dbl> & <int> & <dbl> & <int> & <dbl> & <dbl> & <dbl> & <dbl> & <fct> & <fct> & <fct>\\\\\n",
       "\\hline\n",
       "\t1 & 13/03/2018 & 705 & 14 & 18.3 & 43 & 2.2 & 1509 &   5.4 & 2.43 & 0 & 0 & Spring & No Holiday & Yes\\\\\n",
       "\t2 & 15/03/2018 & 289 & 14 & 12.1 & 97 & 2.0 &  177 &  11.6 & 0.20 & 0 & 0 & Spring & No Holiday & Yes\\\\\n",
       "\t3 & 29/11/2018 & 126 & 5  &  1.8 & 34 & 0.9 & 1990 & -12.4 & 0.00 & 0 & 0 & Autumn & No Holiday & Yes\\\\\n",
       "\t4 & 4/04/2018  & 378 & 9  & 10.4 & 81 & 1.4 & 2000 &   7.2 & 0.36 & 0 & 0 & Spring & No Holiday & Yes\\\\\n",
       "\t5 & 15/02/2018 & 236 & 17 &  2.4 & 17 & 3.1 & 1990 & -20.2 & 0.78 & 0 & 0 & Winter & Holiday    & Yes\\\\\n",
       "\t6 & 20/04/2018 & 708 & 10 & 18.2 & 36 & 1.0 &  620 &   2.8 & 1.99 & 0 & 0 & Spring & No Holiday & Yes\\\\\n",
       "\\end{tabular}\n"
      ],
      "text/markdown": [
       "\n",
       "A data.frame: 6 × 14\n",
       "\n",
       "| <!--/--> | Date &lt;chr&gt; | Rented.Bike.Count &lt;int&gt; | Hour &lt;fct&gt; | Temperature &lt;dbl&gt; | Humidity &lt;int&gt; | Wind.speed &lt;dbl&gt; | Visibility &lt;int&gt; | Dew.point.temperature &lt;dbl&gt; | Solar.Radiation &lt;dbl&gt; | Rainfall &lt;dbl&gt; | Snowfall &lt;dbl&gt; | Seasons &lt;fct&gt; | Holiday &lt;fct&gt; | Functioning.Day &lt;fct&gt; |\n",
       "|---|---|---|---|---|---|---|---|---|---|---|---|---|---|---|\n",
       "| 1 | 13/03/2018 | 705 | 14 | 18.3 | 43 | 2.2 | 1509 |   5.4 | 2.43 | 0 | 0 | Spring | No Holiday | Yes |\n",
       "| 2 | 15/03/2018 | 289 | 14 | 12.1 | 97 | 2.0 |  177 |  11.6 | 0.20 | 0 | 0 | Spring | No Holiday | Yes |\n",
       "| 3 | 29/11/2018 | 126 | 5  |  1.8 | 34 | 0.9 | 1990 | -12.4 | 0.00 | 0 | 0 | Autumn | No Holiday | Yes |\n",
       "| 4 | 4/04/2018  | 378 | 9  | 10.4 | 81 | 1.4 | 2000 |   7.2 | 0.36 | 0 | 0 | Spring | No Holiday | Yes |\n",
       "| 5 | 15/02/2018 | 236 | 17 |  2.4 | 17 | 3.1 | 1990 | -20.2 | 0.78 | 0 | 0 | Winter | Holiday    | Yes |\n",
       "| 6 | 20/04/2018 | 708 | 10 | 18.2 | 36 | 1.0 |  620 |   2.8 | 1.99 | 0 | 0 | Spring | No Holiday | Yes |\n",
       "\n"
      ],
      "text/plain": [
       "  Date       Rented.Bike.Count Hour Temperature Humidity Wind.speed Visibility\n",
       "1 13/03/2018 705               14   18.3        43       2.2        1509      \n",
       "2 15/03/2018 289               14   12.1        97       2.0         177      \n",
       "3 29/11/2018 126               5     1.8        34       0.9        1990      \n",
       "4 4/04/2018  378               9    10.4        81       1.4        2000      \n",
       "5 15/02/2018 236               17    2.4        17       3.1        1990      \n",
       "6 20/04/2018 708               10   18.2        36       1.0         620      \n",
       "  Dew.point.temperature Solar.Radiation Rainfall Snowfall Seasons Holiday   \n",
       "1   5.4                 2.43            0        0        Spring  No Holiday\n",
       "2  11.6                 0.20            0        0        Spring  No Holiday\n",
       "3 -12.4                 0.00            0        0        Autumn  No Holiday\n",
       "4   7.2                 0.36            0        0        Spring  No Holiday\n",
       "5 -20.2                 0.78            0        0        Winter  Holiday   \n",
       "6   2.8                 1.99            0        0        Spring  No Holiday\n",
       "  Functioning.Day\n",
       "1 Yes            \n",
       "2 Yes            \n",
       "3 Yes            \n",
       "4 Yes            \n",
       "5 Yes            \n",
       "6 Yes            "
      ]
     },
     "metadata": {},
     "output_type": "display_data"
    }
   ],
   "source": [
    "head(data)"
   ]
  },
  {
   "cell_type": "markdown",
   "metadata": {},
   "source": [
    "## Changing a few attribute names\n",
    "\n",
    "#### Rented.Bike.Count = BikeCount\n",
    "#### Temperature = Temp\n",
    "#### Dew.point.temperature = DPtemp\n",
    "#### Solar.Radiation = SR\n",
    "#### Functioning.Day = Fday"
   ]
  },
  {
   "cell_type": "code",
   "execution_count": 7,
   "metadata": {},
   "outputs": [
    {
     "data": {
      "text/html": [
       "<table>\n",
       "<caption>A data.frame: 6 × 14</caption>\n",
       "<thead>\n",
       "\t<tr><th></th><th scope=col>Date</th><th scope=col>BikeCount</th><th scope=col>Hour</th><th scope=col>Temp</th><th scope=col>Humidity</th><th scope=col>Wind.speed</th><th scope=col>Visibility</th><th scope=col>DPtemp</th><th scope=col>SR</th><th scope=col>Rainfall</th><th scope=col>Snowfall</th><th scope=col>Seasons</th><th scope=col>Holiday</th><th scope=col>Fday</th></tr>\n",
       "\t<tr><th></th><th scope=col>&lt;chr&gt;</th><th scope=col>&lt;int&gt;</th><th scope=col>&lt;fct&gt;</th><th scope=col>&lt;dbl&gt;</th><th scope=col>&lt;int&gt;</th><th scope=col>&lt;dbl&gt;</th><th scope=col>&lt;int&gt;</th><th scope=col>&lt;dbl&gt;</th><th scope=col>&lt;dbl&gt;</th><th scope=col>&lt;dbl&gt;</th><th scope=col>&lt;dbl&gt;</th><th scope=col>&lt;fct&gt;</th><th scope=col>&lt;fct&gt;</th><th scope=col>&lt;fct&gt;</th></tr>\n",
       "</thead>\n",
       "<tbody>\n",
       "\t<tr><th scope=row>1</th><td>13/03/2018</td><td>705</td><td>14</td><td>18.3</td><td>43</td><td>2.2</td><td>1509</td><td>  5.4</td><td>2.43</td><td>0</td><td>0</td><td>Spring</td><td>No Holiday</td><td>Yes</td></tr>\n",
       "\t<tr><th scope=row>2</th><td>15/03/2018</td><td>289</td><td>14</td><td>12.1</td><td>97</td><td>2.0</td><td> 177</td><td> 11.6</td><td>0.20</td><td>0</td><td>0</td><td>Spring</td><td>No Holiday</td><td>Yes</td></tr>\n",
       "\t<tr><th scope=row>3</th><td>29/11/2018</td><td>126</td><td>5 </td><td> 1.8</td><td>34</td><td>0.9</td><td>1990</td><td>-12.4</td><td>0.00</td><td>0</td><td>0</td><td>Autumn</td><td>No Holiday</td><td>Yes</td></tr>\n",
       "\t<tr><th scope=row>4</th><td>4/04/2018 </td><td>378</td><td>9 </td><td>10.4</td><td>81</td><td>1.4</td><td>2000</td><td>  7.2</td><td>0.36</td><td>0</td><td>0</td><td>Spring</td><td>No Holiday</td><td>Yes</td></tr>\n",
       "\t<tr><th scope=row>5</th><td>15/02/2018</td><td>236</td><td>17</td><td> 2.4</td><td>17</td><td>3.1</td><td>1990</td><td>-20.2</td><td>0.78</td><td>0</td><td>0</td><td>Winter</td><td>Holiday   </td><td>Yes</td></tr>\n",
       "\t<tr><th scope=row>6</th><td>20/04/2018</td><td>708</td><td>10</td><td>18.2</td><td>36</td><td>1.0</td><td> 620</td><td>  2.8</td><td>1.99</td><td>0</td><td>0</td><td>Spring</td><td>No Holiday</td><td>Yes</td></tr>\n",
       "</tbody>\n",
       "</table>\n"
      ],
      "text/latex": [
       "A data.frame: 6 × 14\n",
       "\\begin{tabular}{r|llllllllllllll}\n",
       "  & Date & BikeCount & Hour & Temp & Humidity & Wind.speed & Visibility & DPtemp & SR & Rainfall & Snowfall & Seasons & Holiday & Fday\\\\\n",
       "  & <chr> & <int> & <fct> & <dbl> & <int> & <dbl> & <int> & <dbl> & <dbl> & <dbl> & <dbl> & <fct> & <fct> & <fct>\\\\\n",
       "\\hline\n",
       "\t1 & 13/03/2018 & 705 & 14 & 18.3 & 43 & 2.2 & 1509 &   5.4 & 2.43 & 0 & 0 & Spring & No Holiday & Yes\\\\\n",
       "\t2 & 15/03/2018 & 289 & 14 & 12.1 & 97 & 2.0 &  177 &  11.6 & 0.20 & 0 & 0 & Spring & No Holiday & Yes\\\\\n",
       "\t3 & 29/11/2018 & 126 & 5  &  1.8 & 34 & 0.9 & 1990 & -12.4 & 0.00 & 0 & 0 & Autumn & No Holiday & Yes\\\\\n",
       "\t4 & 4/04/2018  & 378 & 9  & 10.4 & 81 & 1.4 & 2000 &   7.2 & 0.36 & 0 & 0 & Spring & No Holiday & Yes\\\\\n",
       "\t5 & 15/02/2018 & 236 & 17 &  2.4 & 17 & 3.1 & 1990 & -20.2 & 0.78 & 0 & 0 & Winter & Holiday    & Yes\\\\\n",
       "\t6 & 20/04/2018 & 708 & 10 & 18.2 & 36 & 1.0 &  620 &   2.8 & 1.99 & 0 & 0 & Spring & No Holiday & Yes\\\\\n",
       "\\end{tabular}\n"
      ],
      "text/markdown": [
       "\n",
       "A data.frame: 6 × 14\n",
       "\n",
       "| <!--/--> | Date &lt;chr&gt; | BikeCount &lt;int&gt; | Hour &lt;fct&gt; | Temp &lt;dbl&gt; | Humidity &lt;int&gt; | Wind.speed &lt;dbl&gt; | Visibility &lt;int&gt; | DPtemp &lt;dbl&gt; | SR &lt;dbl&gt; | Rainfall &lt;dbl&gt; | Snowfall &lt;dbl&gt; | Seasons &lt;fct&gt; | Holiday &lt;fct&gt; | Fday &lt;fct&gt; |\n",
       "|---|---|---|---|---|---|---|---|---|---|---|---|---|---|---|\n",
       "| 1 | 13/03/2018 | 705 | 14 | 18.3 | 43 | 2.2 | 1509 |   5.4 | 2.43 | 0 | 0 | Spring | No Holiday | Yes |\n",
       "| 2 | 15/03/2018 | 289 | 14 | 12.1 | 97 | 2.0 |  177 |  11.6 | 0.20 | 0 | 0 | Spring | No Holiday | Yes |\n",
       "| 3 | 29/11/2018 | 126 | 5  |  1.8 | 34 | 0.9 | 1990 | -12.4 | 0.00 | 0 | 0 | Autumn | No Holiday | Yes |\n",
       "| 4 | 4/04/2018  | 378 | 9  | 10.4 | 81 | 1.4 | 2000 |   7.2 | 0.36 | 0 | 0 | Spring | No Holiday | Yes |\n",
       "| 5 | 15/02/2018 | 236 | 17 |  2.4 | 17 | 3.1 | 1990 | -20.2 | 0.78 | 0 | 0 | Winter | Holiday    | Yes |\n",
       "| 6 | 20/04/2018 | 708 | 10 | 18.2 | 36 | 1.0 |  620 |   2.8 | 1.99 | 0 | 0 | Spring | No Holiday | Yes |\n",
       "\n"
      ],
      "text/plain": [
       "  Date       BikeCount Hour Temp Humidity Wind.speed Visibility DPtemp SR  \n",
       "1 13/03/2018 705       14   18.3 43       2.2        1509         5.4  2.43\n",
       "2 15/03/2018 289       14   12.1 97       2.0         177        11.6  0.20\n",
       "3 29/11/2018 126       5     1.8 34       0.9        1990       -12.4  0.00\n",
       "4 4/04/2018  378       9    10.4 81       1.4        2000         7.2  0.36\n",
       "5 15/02/2018 236       17    2.4 17       3.1        1990       -20.2  0.78\n",
       "6 20/04/2018 708       10   18.2 36       1.0         620         2.8  1.99\n",
       "  Rainfall Snowfall Seasons Holiday    Fday\n",
       "1 0        0        Spring  No Holiday Yes \n",
       "2 0        0        Spring  No Holiday Yes \n",
       "3 0        0        Autumn  No Holiday Yes \n",
       "4 0        0        Spring  No Holiday Yes \n",
       "5 0        0        Winter  Holiday    Yes \n",
       "6 0        0        Spring  No Holiday Yes "
      ]
     },
     "metadata": {},
     "output_type": "display_data"
    }
   ],
   "source": [
    "names(data)[c(2,4,8,9,14)]<-c(\"BikeCount\",\"Temp\",\"DPtemp\", \"SR\",\"Fday\")\n",
    "head(data)"
   ]
  },
  {
   "cell_type": "markdown",
   "metadata": {},
   "source": [
    "## Adding a day of the week, months variable and converting them to factor"
   ]
  },
  {
   "cell_type": "code",
   "execution_count": 8,
   "metadata": {},
   "outputs": [],
   "source": [
    "## Day of the Week\n",
    "data$Date = substr(data$Date,1,10)\n",
    "days<-weekdays(as.Date(data$Date))\n",
    "data$days=days\n",
    "data$days <- factor(data$days, levels=c(\"Monday\",\"Tuesday\", \"Wednesday\", \"Thursday\", \"Friday\", \"Saturday\",\"Sunday\"))"
   ]
  },
  {
   "cell_type": "code",
   "execution_count": 9,
   "metadata": {},
   "outputs": [],
   "source": [
    "## Converting date to a date format in R\n",
    "data$Date <- as.POSIXct(data$Date)\n",
    "## Extracting Month Name\n",
    "data$months <- format(data$Date,\"%B\")\n",
    "data$months <- factor(data$months, levels=c(\"January\",\"February\", \"March\",\n",
    "                                            \"April\", \"May\", \"June\",\"July\", \"August\",\n",
    "                                            \"September\", \"October\", \"November\", \"December\"))"
   ]
  },
  {
   "cell_type": "code",
   "execution_count": 10,
   "metadata": {},
   "outputs": [
    {
     "data": {
      "text/html": [
       "<table>\n",
       "<caption>A data.frame: 6 × 16</caption>\n",
       "<thead>\n",
       "\t<tr><th></th><th scope=col>Date</th><th scope=col>BikeCount</th><th scope=col>Hour</th><th scope=col>Temp</th><th scope=col>Humidity</th><th scope=col>Wind.speed</th><th scope=col>Visibility</th><th scope=col>DPtemp</th><th scope=col>SR</th><th scope=col>Rainfall</th><th scope=col>Snowfall</th><th scope=col>Seasons</th><th scope=col>Holiday</th><th scope=col>Fday</th><th scope=col>days</th><th scope=col>months</th></tr>\n",
       "\t<tr><th></th><th scope=col>&lt;dttm&gt;</th><th scope=col>&lt;int&gt;</th><th scope=col>&lt;fct&gt;</th><th scope=col>&lt;dbl&gt;</th><th scope=col>&lt;int&gt;</th><th scope=col>&lt;dbl&gt;</th><th scope=col>&lt;int&gt;</th><th scope=col>&lt;dbl&gt;</th><th scope=col>&lt;dbl&gt;</th><th scope=col>&lt;dbl&gt;</th><th scope=col>&lt;dbl&gt;</th><th scope=col>&lt;fct&gt;</th><th scope=col>&lt;fct&gt;</th><th scope=col>&lt;fct&gt;</th><th scope=col>&lt;fct&gt;</th><th scope=col>&lt;fct&gt;</th></tr>\n",
       "</thead>\n",
       "<tbody>\n",
       "\t<tr><th scope=row>1</th><td>0013-03-20</td><td>705</td><td>14</td><td>18.3</td><td>43</td><td>2.2</td><td>1509</td><td>  5.4</td><td>2.43</td><td>0</td><td>0</td><td>Spring</td><td>No Holiday</td><td>Yes</td><td>Wednesday</td><td>March   </td></tr>\n",
       "\t<tr><th scope=row>2</th><td>0015-03-20</td><td>289</td><td>14</td><td>12.1</td><td>97</td><td>2.0</td><td> 177</td><td> 11.6</td><td>0.20</td><td>0</td><td>0</td><td>Spring</td><td>No Holiday</td><td>Yes</td><td>Friday   </td><td>March   </td></tr>\n",
       "\t<tr><th scope=row>3</th><td>0029-11-20</td><td>126</td><td>5 </td><td> 1.8</td><td>34</td><td>0.9</td><td>1990</td><td>-12.4</td><td>0.00</td><td>0</td><td>0</td><td>Autumn</td><td>No Holiday</td><td>Yes</td><td>Tuesday  </td><td>November</td></tr>\n",
       "\t<tr><th scope=row>4</th><td>0004-04-20</td><td>378</td><td>9 </td><td>10.4</td><td>81</td><td>1.4</td><td>2000</td><td>  7.2</td><td>0.36</td><td>0</td><td>0</td><td>Spring</td><td>No Holiday</td><td>Yes</td><td>Tuesday  </td><td>April   </td></tr>\n",
       "\t<tr><th scope=row>5</th><td>0015-02-20</td><td>236</td><td>17</td><td> 2.4</td><td>17</td><td>3.1</td><td>1990</td><td>-20.2</td><td>0.78</td><td>0</td><td>0</td><td>Winter</td><td>Holiday   </td><td>Yes</td><td>Friday   </td><td>February</td></tr>\n",
       "\t<tr><th scope=row>6</th><td>0020-04-20</td><td>708</td><td>10</td><td>18.2</td><td>36</td><td>1.0</td><td> 620</td><td>  2.8</td><td>1.99</td><td>0</td><td>0</td><td>Spring</td><td>No Holiday</td><td>Yes</td><td>Monday   </td><td>April   </td></tr>\n",
       "</tbody>\n",
       "</table>\n"
      ],
      "text/latex": [
       "A data.frame: 6 × 16\n",
       "\\begin{tabular}{r|llllllllllllllll}\n",
       "  & Date & BikeCount & Hour & Temp & Humidity & Wind.speed & Visibility & DPtemp & SR & Rainfall & Snowfall & Seasons & Holiday & Fday & days & months\\\\\n",
       "  & <dttm> & <int> & <fct> & <dbl> & <int> & <dbl> & <int> & <dbl> & <dbl> & <dbl> & <dbl> & <fct> & <fct> & <fct> & <fct> & <fct>\\\\\n",
       "\\hline\n",
       "\t1 & 0013-03-20 & 705 & 14 & 18.3 & 43 & 2.2 & 1509 &   5.4 & 2.43 & 0 & 0 & Spring & No Holiday & Yes & Wednesday & March   \\\\\n",
       "\t2 & 0015-03-20 & 289 & 14 & 12.1 & 97 & 2.0 &  177 &  11.6 & 0.20 & 0 & 0 & Spring & No Holiday & Yes & Friday    & March   \\\\\n",
       "\t3 & 0029-11-20 & 126 & 5  &  1.8 & 34 & 0.9 & 1990 & -12.4 & 0.00 & 0 & 0 & Autumn & No Holiday & Yes & Tuesday   & November\\\\\n",
       "\t4 & 0004-04-20 & 378 & 9  & 10.4 & 81 & 1.4 & 2000 &   7.2 & 0.36 & 0 & 0 & Spring & No Holiday & Yes & Tuesday   & April   \\\\\n",
       "\t5 & 0015-02-20 & 236 & 17 &  2.4 & 17 & 3.1 & 1990 & -20.2 & 0.78 & 0 & 0 & Winter & Holiday    & Yes & Friday    & February\\\\\n",
       "\t6 & 0020-04-20 & 708 & 10 & 18.2 & 36 & 1.0 &  620 &   2.8 & 1.99 & 0 & 0 & Spring & No Holiday & Yes & Monday    & April   \\\\\n",
       "\\end{tabular}\n"
      ],
      "text/markdown": [
       "\n",
       "A data.frame: 6 × 16\n",
       "\n",
       "| <!--/--> | Date &lt;dttm&gt; | BikeCount &lt;int&gt; | Hour &lt;fct&gt; | Temp &lt;dbl&gt; | Humidity &lt;int&gt; | Wind.speed &lt;dbl&gt; | Visibility &lt;int&gt; | DPtemp &lt;dbl&gt; | SR &lt;dbl&gt; | Rainfall &lt;dbl&gt; | Snowfall &lt;dbl&gt; | Seasons &lt;fct&gt; | Holiday &lt;fct&gt; | Fday &lt;fct&gt; | days &lt;fct&gt; | months &lt;fct&gt; |\n",
       "|---|---|---|---|---|---|---|---|---|---|---|---|---|---|---|---|---|\n",
       "| 1 | 0013-03-20 | 705 | 14 | 18.3 | 43 | 2.2 | 1509 |   5.4 | 2.43 | 0 | 0 | Spring | No Holiday | Yes | Wednesday | March    |\n",
       "| 2 | 0015-03-20 | 289 | 14 | 12.1 | 97 | 2.0 |  177 |  11.6 | 0.20 | 0 | 0 | Spring | No Holiday | Yes | Friday    | March    |\n",
       "| 3 | 0029-11-20 | 126 | 5  |  1.8 | 34 | 0.9 | 1990 | -12.4 | 0.00 | 0 | 0 | Autumn | No Holiday | Yes | Tuesday   | November |\n",
       "| 4 | 0004-04-20 | 378 | 9  | 10.4 | 81 | 1.4 | 2000 |   7.2 | 0.36 | 0 | 0 | Spring | No Holiday | Yes | Tuesday   | April    |\n",
       "| 5 | 0015-02-20 | 236 | 17 |  2.4 | 17 | 3.1 | 1990 | -20.2 | 0.78 | 0 | 0 | Winter | Holiday    | Yes | Friday    | February |\n",
       "| 6 | 0020-04-20 | 708 | 10 | 18.2 | 36 | 1.0 |  620 |   2.8 | 1.99 | 0 | 0 | Spring | No Holiday | Yes | Monday    | April    |\n",
       "\n"
      ],
      "text/plain": [
       "  Date       BikeCount Hour Temp Humidity Wind.speed Visibility DPtemp SR  \n",
       "1 0013-03-20 705       14   18.3 43       2.2        1509         5.4  2.43\n",
       "2 0015-03-20 289       14   12.1 97       2.0         177        11.6  0.20\n",
       "3 0029-11-20 126       5     1.8 34       0.9        1990       -12.4  0.00\n",
       "4 0004-04-20 378       9    10.4 81       1.4        2000         7.2  0.36\n",
       "5 0015-02-20 236       17    2.4 17       3.1        1990       -20.2  0.78\n",
       "6 0020-04-20 708       10   18.2 36       1.0         620         2.8  1.99\n",
       "  Rainfall Snowfall Seasons Holiday    Fday days      months  \n",
       "1 0        0        Spring  No Holiday Yes  Wednesday March   \n",
       "2 0        0        Spring  No Holiday Yes  Friday    March   \n",
       "3 0        0        Autumn  No Holiday Yes  Tuesday   November\n",
       "4 0        0        Spring  No Holiday Yes  Tuesday   April   \n",
       "5 0        0        Winter  Holiday    Yes  Friday    February\n",
       "6 0        0        Spring  No Holiday Yes  Monday    April   "
      ]
     },
     "metadata": {},
     "output_type": "display_data"
    }
   ],
   "source": [
    "head(data)"
   ]
  },
  {
   "cell_type": "markdown",
   "metadata": {},
   "source": [
    "## Here i am generating histograms for the numeric attributes to analyse their distribution"
   ]
  },
  {
   "cell_type": "code",
   "execution_count": 11,
   "metadata": {
    "scrolled": false
   },
   "outputs": [
    {
     "data": {
      "image/png": "[encoded data removed]",
      "text/plain": [
       "Plot with title \"Histogram of data$Snowfall\""
      ]
     },
     "metadata": {
      "image/png": {
       "height": 420,
       "width": 420
      }
     },
     "output_type": "display_data"
    }
   ],
   "source": [
    "par(mfrow=c(4,3))\n",
    "par(mar = rep(2, 4))\n",
    "hist(data$BikeCount, col = 'lightblue')\n",
    "hist(data$Temp, col = 'lightblue')\n",
    "hist(data$Humidity, col = 'lightblue')\n",
    "hist(data$Wind.speed, col = 'lightblue')\n",
    "hist(data$Visibility, col = 'lightblue')\n",
    "hist(data$DPtemp, col = 'lightblue')\n",
    "hist(data$SR, col = 'lightblue')\n",
    "hist(data$Rainfall, col = 'lightblue')\n",
    "hist(data$Snowfall, col = 'lightblue')\n"
   ]
  },
  {
   "cell_type": "markdown",
   "metadata": {},
   "source": [
    "# Inference:\n",
    "\n",
    "     1.We can observe that BikeCount (response) attribute is skewed to the left. infact most of the numerical attributed other than Temp and Humidity are skewed. skewed data suggests that there will be outliers in the data, thus a log transformation for certain variables might be an option for modelling purposes.\n",
    "\n",
    "     2.Temp and humidity seems to be close to normal in distribution\n",
    "\n",
    "     3.Most of the data for solar radiation, rainfall and snowfall seems to be leaning towards zero, suggesting the lack of these attributes affecting the metropolitan area.\n",
    "\n",
    "     4.The data for visibility is also highly skewed to the right, which usually means suitable condition for bike riders."
   ]
  },
  {
   "cell_type": "code",
   "execution_count": 12,
   "metadata": {},
   "outputs": [
    {
     "data": {
      "image/png": "[encoded data removed]",
      "text/plain": [
       "plot without title"
      ]
     },
     "metadata": {
      "image/png": {
       "height": 420,
       "width": 420
      }
     },
     "output_type": "display_data"
    }
   ],
   "source": [
    "# visualising the categorical variables\n",
    "\n",
    "par(mfrow=c(4,2))\n",
    "barplot(table(data$Hour), col = 'lightblue')\n",
    "\n",
    "barplot(table(data$Seasons), col = 'lightblue')\n",
    "barplot(table(data$Holiday), col = 'lightblue')\n",
    "barplot(table(data$Fday), col = 'lightblue')\n",
    "barplot(table(data$days), col = 'lightblue')\n",
    "barplot(table(data$months), col = 'lightblue')\n",
    "\n",
    "\n"
   ]
  },
  {
   "cell_type": "markdown",
   "metadata": {},
   "source": [
    "# inference\n",
    "\n",
    "1.  we can see here that there are four seasons which are almost equally distributed.\n",
    "2. functioning day has way more on yes, holiday has way more on no holiday.\n",
    "3. day of the week and month also seem to be approximately equally distributed."
   ]
  },
  {
   "cell_type": "code",
   "execution_count": 13,
   "metadata": {
    "scrolled": false
   },
   "outputs": [
    {
     "data": {
      "image/png": "[encoded data removed]",
      "text/plain": [
       "plot without title"
      ]
     },
     "metadata": {
      "image/png": {
       "height": 420,
       "width": 420
      }
     },
     "output_type": "display_data"
    }
   ],
   "source": [
    "# distributions of users for each hour in the day\n",
    "\n",
    "\n",
    "boxplot(data$BikeCount~data$Hour,xlab=\"Hour of day\", ylab=\"Bike rental counts\", col = 'lightblue')\n",
    "\n",
    "#inference\n",
    "\n",
    "# fairly low avg bike counts from 0-7 hours, moderate from 8-16, 17-22 high peaking at 18, "
   ]
  },
  {
   "cell_type": "markdown",
   "metadata": {},
   "source": [
    "# Inference\n",
    "\n",
    "     fairly low avg bike counts from 0-7 hours (till 7 am), moderate from 8-16 (8 am to 4pm), 17-22 (5pm to 10 pm) high and peaking at 18 (6pm). This makes sense as around 8 am people start heading off to work/study and at around 6 pm they are heading home. highlights the 9-5 workday for regular people."
   ]
  },
  {
   "cell_type": "code",
   "execution_count": null,
   "metadata": {},
   "outputs": [],
   "source": []
  },
  {
   "cell_type": "code",
   "execution_count": 14,
   "metadata": {},
   "outputs": [
    {
     "data": {
      "image/png": "[encoded data removed]",
      "text/plain": [
       "plot without title"
      ]
     },
     "metadata": {
      "image/png": {
       "height": 420,
       "width": 420
      }
     },
     "output_type": "display_data"
    }
   ],
   "source": [
    "# using ggplot2 for boxplots of bike rentals over the 12 months.\n",
    "\n",
    "ggplot(data, aes(BikeCount, months)) + geom_boxplot()\n",
    "\n",
    "# considerable variation for each month indicating it will have effect on response variable"
   ]
  },
  {
   "cell_type": "markdown",
   "metadata": {},
   "source": [
    "# Inference\n",
    "\n",
    "    1.very low average bikecounts for the months of december,january and february. This probably happens due to holiday season.\n",
    "    2.Highest average is the month of june\n",
    "    3.we can observe as months passes, average bike counts increases. it peaks at june, then slowly starts decreasing\n",
    "    "
   ]
  },
  {
   "cell_type": "code",
   "execution_count": 15,
   "metadata": {
    "scrolled": false
   },
   "outputs": [
    {
     "data": {
      "image/png": "[encoded data removed]",
      "text/plain": [
       "plot without title"
      ]
     },
     "metadata": {
      "image/png": {
       "height": 420,
       "width": 420
      }
     },
     "output_type": "display_data"
    }
   ],
   "source": [
    "#boxplot(data$BikeCount~data$days,xlab=\"Days\", ylab=\"Bike rental counts\", col = 'lightblue')\n",
    "\n",
    "ggplot(data, aes(BikeCount, days)) + geom_boxplot()\n",
    "\n"
   ]
  },
  {
   "cell_type": "markdown",
   "metadata": {},
   "source": [
    "### not much variation in the data, probably means that it wont affect the demand for bike rentals as much. only small variation is noticed for friday with slightly less numbers on average."
   ]
  },
  {
   "cell_type": "code",
   "execution_count": 16,
   "metadata": {},
   "outputs": [
    {
     "data": {
      "text/html": [
       "<table>\n",
       "<caption>A data.frame: 6 × 16</caption>\n",
       "<thead>\n",
       "\t<tr><th></th><th scope=col>Date</th><th scope=col>BikeCount</th><th scope=col>Hour</th><th scope=col>Temp</th><th scope=col>Humidity</th><th scope=col>Wind.speed</th><th scope=col>Visibility</th><th scope=col>DPtemp</th><th scope=col>SR</th><th scope=col>Rainfall</th><th scope=col>Snowfall</th><th scope=col>Seasons</th><th scope=col>Holiday</th><th scope=col>Fday</th><th scope=col>days</th><th scope=col>months</th></tr>\n",
       "\t<tr><th></th><th scope=col>&lt;dttm&gt;</th><th scope=col>&lt;int&gt;</th><th scope=col>&lt;fct&gt;</th><th scope=col>&lt;dbl&gt;</th><th scope=col>&lt;int&gt;</th><th scope=col>&lt;dbl&gt;</th><th scope=col>&lt;int&gt;</th><th scope=col>&lt;dbl&gt;</th><th scope=col>&lt;dbl&gt;</th><th scope=col>&lt;dbl&gt;</th><th scope=col>&lt;dbl&gt;</th><th scope=col>&lt;fct&gt;</th><th scope=col>&lt;fct&gt;</th><th scope=col>&lt;fct&gt;</th><th scope=col>&lt;fct&gt;</th><th scope=col>&lt;fct&gt;</th></tr>\n",
       "</thead>\n",
       "<tbody>\n",
       "\t<tr><th scope=row>1</th><td>0013-03-20</td><td>705</td><td>14</td><td>18.3</td><td>43</td><td>2.2</td><td>1509</td><td>  5.4</td><td>2.43</td><td>0</td><td>0</td><td>Spring</td><td>No Holiday</td><td>Yes</td><td>Wednesday</td><td>March   </td></tr>\n",
       "\t<tr><th scope=row>2</th><td>0015-03-20</td><td>289</td><td>14</td><td>12.1</td><td>97</td><td>2.0</td><td> 177</td><td> 11.6</td><td>0.20</td><td>0</td><td>0</td><td>Spring</td><td>No Holiday</td><td>Yes</td><td>Friday   </td><td>March   </td></tr>\n",
       "\t<tr><th scope=row>3</th><td>0029-11-20</td><td>126</td><td>5 </td><td> 1.8</td><td>34</td><td>0.9</td><td>1990</td><td>-12.4</td><td>0.00</td><td>0</td><td>0</td><td>Autumn</td><td>No Holiday</td><td>Yes</td><td>Tuesday  </td><td>November</td></tr>\n",
       "\t<tr><th scope=row>4</th><td>0004-04-20</td><td>378</td><td>9 </td><td>10.4</td><td>81</td><td>1.4</td><td>2000</td><td>  7.2</td><td>0.36</td><td>0</td><td>0</td><td>Spring</td><td>No Holiday</td><td>Yes</td><td>Tuesday  </td><td>April   </td></tr>\n",
       "\t<tr><th scope=row>5</th><td>0015-02-20</td><td>236</td><td>17</td><td> 2.4</td><td>17</td><td>3.1</td><td>1990</td><td>-20.2</td><td>0.78</td><td>0</td><td>0</td><td>Winter</td><td>Holiday   </td><td>Yes</td><td>Friday   </td><td>February</td></tr>\n",
       "\t<tr><th scope=row>6</th><td>0020-04-20</td><td>708</td><td>10</td><td>18.2</td><td>36</td><td>1.0</td><td> 620</td><td>  2.8</td><td>1.99</td><td>0</td><td>0</td><td>Spring</td><td>No Holiday</td><td>Yes</td><td>Monday   </td><td>April   </td></tr>\n",
       "</tbody>\n",
       "</table>\n"
      ],
      "text/latex": [
       "A data.frame: 6 × 16\n",
       "\\begin{tabular}{r|llllllllllllllll}\n",
       "  & Date & BikeCount & Hour & Temp & Humidity & Wind.speed & Visibility & DPtemp & SR & Rainfall & Snowfall & Seasons & Holiday & Fday & days & months\\\\\n",
       "  & <dttm> & <int> & <fct> & <dbl> & <int> & <dbl> & <int> & <dbl> & <dbl> & <dbl> & <dbl> & <fct> & <fct> & <fct> & <fct> & <fct>\\\\\n",
       "\\hline\n",
       "\t1 & 0013-03-20 & 705 & 14 & 18.3 & 43 & 2.2 & 1509 &   5.4 & 2.43 & 0 & 0 & Spring & No Holiday & Yes & Wednesday & March   \\\\\n",
       "\t2 & 0015-03-20 & 289 & 14 & 12.1 & 97 & 2.0 &  177 &  11.6 & 0.20 & 0 & 0 & Spring & No Holiday & Yes & Friday    & March   \\\\\n",
       "\t3 & 0029-11-20 & 126 & 5  &  1.8 & 34 & 0.9 & 1990 & -12.4 & 0.00 & 0 & 0 & Autumn & No Holiday & Yes & Tuesday   & November\\\\\n",
       "\t4 & 0004-04-20 & 378 & 9  & 10.4 & 81 & 1.4 & 2000 &   7.2 & 0.36 & 0 & 0 & Spring & No Holiday & Yes & Tuesday   & April   \\\\\n",
       "\t5 & 0015-02-20 & 236 & 17 &  2.4 & 17 & 3.1 & 1990 & -20.2 & 0.78 & 0 & 0 & Winter & Holiday    & Yes & Friday    & February\\\\\n",
       "\t6 & 0020-04-20 & 708 & 10 & 18.2 & 36 & 1.0 &  620 &   2.8 & 1.99 & 0 & 0 & Spring & No Holiday & Yes & Monday    & April   \\\\\n",
       "\\end{tabular}\n"
      ],
      "text/markdown": [
       "\n",
       "A data.frame: 6 × 16\n",
       "\n",
       "| <!--/--> | Date &lt;dttm&gt; | BikeCount &lt;int&gt; | Hour &lt;fct&gt; | Temp &lt;dbl&gt; | Humidity &lt;int&gt; | Wind.speed &lt;dbl&gt; | Visibility &lt;int&gt; | DPtemp &lt;dbl&gt; | SR &lt;dbl&gt; | Rainfall &lt;dbl&gt; | Snowfall &lt;dbl&gt; | Seasons &lt;fct&gt; | Holiday &lt;fct&gt; | Fday &lt;fct&gt; | days &lt;fct&gt; | months &lt;fct&gt; |\n",
       "|---|---|---|---|---|---|---|---|---|---|---|---|---|---|---|---|---|\n",
       "| 1 | 0013-03-20 | 705 | 14 | 18.3 | 43 | 2.2 | 1509 |   5.4 | 2.43 | 0 | 0 | Spring | No Holiday | Yes | Wednesday | March    |\n",
       "| 2 | 0015-03-20 | 289 | 14 | 12.1 | 97 | 2.0 |  177 |  11.6 | 0.20 | 0 | 0 | Spring | No Holiday | Yes | Friday    | March    |\n",
       "| 3 | 0029-11-20 | 126 | 5  |  1.8 | 34 | 0.9 | 1990 | -12.4 | 0.00 | 0 | 0 | Autumn | No Holiday | Yes | Tuesday   | November |\n",
       "| 4 | 0004-04-20 | 378 | 9  | 10.4 | 81 | 1.4 | 2000 |   7.2 | 0.36 | 0 | 0 | Spring | No Holiday | Yes | Tuesday   | April    |\n",
       "| 5 | 0015-02-20 | 236 | 17 |  2.4 | 17 | 3.1 | 1990 | -20.2 | 0.78 | 0 | 0 | Winter | Holiday    | Yes | Friday    | February |\n",
       "| 6 | 0020-04-20 | 708 | 10 | 18.2 | 36 | 1.0 |  620 |   2.8 | 1.99 | 0 | 0 | Spring | No Holiday | Yes | Monday    | April    |\n",
       "\n"
      ],
      "text/plain": [
       "  Date       BikeCount Hour Temp Humidity Wind.speed Visibility DPtemp SR  \n",
       "1 0013-03-20 705       14   18.3 43       2.2        1509         5.4  2.43\n",
       "2 0015-03-20 289       14   12.1 97       2.0         177        11.6  0.20\n",
       "3 0029-11-20 126       5     1.8 34       0.9        1990       -12.4  0.00\n",
       "4 0004-04-20 378       9    10.4 81       1.4        2000         7.2  0.36\n",
       "5 0015-02-20 236       17    2.4 17       3.1        1990       -20.2  0.78\n",
       "6 0020-04-20 708       10   18.2 36       1.0         620         2.8  1.99\n",
       "  Rainfall Snowfall Seasons Holiday    Fday days      months  \n",
       "1 0        0        Spring  No Holiday Yes  Wednesday March   \n",
       "2 0        0        Spring  No Holiday Yes  Friday    March   \n",
       "3 0        0        Autumn  No Holiday Yes  Tuesday   November\n",
       "4 0        0        Spring  No Holiday Yes  Tuesday   April   \n",
       "5 0        0        Winter  Holiday    Yes  Friday    February\n",
       "6 0        0        Spring  No Holiday Yes  Monday    April   "
      ]
     },
     "metadata": {},
     "output_type": "display_data"
    }
   ],
   "source": [
    "head(data)"
   ]
  },
  {
   "cell_type": "markdown",
   "metadata": {},
   "source": [
    "# creating a correlation matrix"
   ]
  },
  {
   "cell_type": "code",
   "execution_count": 17,
   "metadata": {},
   "outputs": [
    {
     "data": {
      "image/png": "[encoded data removed]",
      "text/plain": [
       "plot without title"
      ]
     },
     "metadata": {
      "image/png": {
       "height": 420,
       "width": 420
      }
     },
     "output_type": "display_data"
    }
   ],
   "source": [
    "# creating a correlation matrix\n",
    "Panel <- function(x, y, z, ...) {\n",
    "    panel.levelplot(x,y,z,...)\n",
    "    panel.text(x, y, round(z, 2))\n",
    "}\n",
    "#Define the color scheme\n",
    "cols = colorRampPalette(c(\"Yellow\",\"Red\"))\n",
    "#Plot the correlation matrix.\n",
    "levelplot(round(cor(data[c(2, 4:11)]),3), col.regions = cols(100), main = \"Correlation Matrix for Numeric Variables\",\n",
    "          xlab = 'Numeric Variables', ylab = 'Numeric Variables', \n",
    "          scales = list(x = list(rot = 90)), panel = Panel)"
   ]
  },
  {
   "cell_type": "markdown",
   "metadata": {},
   "source": [
    "# inference\n",
    "\n",
    "\n",
    "     1.High correlation between temp and dptemp attributes. \n",
    "     2.Temp, dptemp, sr positive correlation with response variable BikeCount.\n",
    "     3.Humidity, rainfall, snowfall, negative correlation with response variable BikeCount.\n",
    "     4.Windspeed not very correlated with response variable BikeCount.\n",
    "     5.Humidity has moderate negative correlation with windspeed, visibility and solar radiation."
   ]
  },
  {
   "cell_type": "code",
   "execution_count": null,
   "metadata": {},
   "outputs": [],
   "source": []
  },
  {
   "cell_type": "markdown",
   "metadata": {},
   "source": [
    "# Getting the structure of the data"
   ]
  },
  {
   "cell_type": "code",
   "execution_count": 18,
   "metadata": {
    "scrolled": false
   },
   "outputs": [
    {
     "name": "stdout",
     "output_type": "stream",
     "text": [
      "'data.frame':\t7008 obs. of  16 variables:\n",
      " $ Date      : POSIXct, format: \"0013-03-20\" \"0015-03-20\" ...\n",
      " $ BikeCount : int  705 289 126 378 236 708 715 1001 502 17 ...\n",
      " $ Hour      : Factor w/ 24 levels \"0\",\"1\",\"2\",\"3\",..: 15 15 6 10 18 11 9 2 21 19 ...\n",
      " $ Temp      : num  18.3 12.1 1.8 10.4 2.4 18.2 21.1 18.9 10.7 22.2 ...\n",
      " $ Humidity  : int  43 97 34 81 17 36 70 55 70 96 ...\n",
      " $ Wind.speed: num  2.2 2 0.9 1.4 3.1 1 0.3 2.3 2.8 1.2 ...\n",
      " $ Visibility: int  1509 177 1990 2000 1990 620 766 2000 236 673 ...\n",
      " $ DPtemp    : num  5.4 11.6 -12.4 7.2 -20.2 2.8 15.4 9.6 5.4 21.5 ...\n",
      " $ SR        : num  2.43 0.2 0 0.36 0.78 1.99 0.9 0 0 0.09 ...\n",
      " $ Rainfall  : num  0 0 0 0 0 0 0 0 0 3.5 ...\n",
      " $ Snowfall  : num  0 0 0 0 0 0 0 0 0 0 ...\n",
      " $ Seasons   : Factor w/ 4 levels \"Autumn\",\"Spring\",..: 2 2 1 2 4 2 3 1 2 3 ...\n",
      " $ Holiday   : Factor w/ 2 levels \"Holiday\",\"No Holiday\": 2 2 2 2 1 2 2 2 2 2 ...\n",
      " $ Fday      : Factor w/ 2 levels \"No\",\"Yes\": 2 2 2 2 2 2 2 2 2 2 ...\n",
      " $ days      : Factor w/ 7 levels \"Monday\",\"Tuesday\",..: 3 5 2 2 5 1 2 6 4 5 ...\n",
      " $ months    : Factor w/ 12 levels \"January\",\"February\",..: 3 3 11 4 2 4 6 9 3 7 ...\n"
     ]
    }
   ],
   "source": [
    "str(data)"
   ]
  },
  {
   "cell_type": "code",
   "execution_count": 19,
   "metadata": {},
   "outputs": [
    {
     "data": {
      "text/plain": [
       "      Date                       BikeCount           Hour           Temp       \n",
       " Min.   :0001-01-20 00:00:00   Min.   :   0.0   8      : 307   Min.   :-17.50  \n",
       " 1st Qu.:0008-10-20 00:00:00   1st Qu.: 188.0   10     : 303   1st Qu.:  3.40  \n",
       " Median :0016-03-20 00:00:00   Median : 503.0   22     : 301   Median : 13.60  \n",
       " Mean   :0016-04-14 12:43:59   Mean   : 703.2   15     : 300   Mean   : 12.83  \n",
       " 3rd Qu.:0023-10-20 00:00:00   3rd Qu.:1063.0   3      : 299   3rd Qu.: 22.50  \n",
       " Max.   :0031-12-20 00:00:00   Max.   :3556.0   11     : 298   Max.   : 39.40  \n",
       "                                                (Other):5200                   \n",
       "    Humidity       Wind.speed     Visibility         DPtemp       \n",
       " Min.   : 0.00   Min.   :0.00   Min.   :  27.0   Min.   :-30.600  \n",
       " 1st Qu.:42.00   1st Qu.:0.90   1st Qu.: 944.8   1st Qu.: -4.700  \n",
       " Median :57.00   Median :1.50   Median :1693.0   Median :  5.000  \n",
       " Mean   :58.25   Mean   :1.72   Mean   :1436.0   Mean   :  4.029  \n",
       " 3rd Qu.:74.00   3rd Qu.:2.30   3rd Qu.:2000.0   3rd Qu.: 14.800  \n",
       " Max.   :98.00   Max.   :7.40   Max.   :2000.0   Max.   : 26.800  \n",
       "                                                                  \n",
       "       SR            Rainfall          Snowfall         Seasons    \n",
       " Min.   :0.0000   Min.   : 0.0000   Min.   :0.00000   Autumn:1753  \n",
       " 1st Qu.:0.0000   1st Qu.: 0.0000   1st Qu.:0.00000   Spring:1774  \n",
       " Median :0.0100   Median : 0.0000   Median :0.00000   Summer:1751  \n",
       " Mean   :0.5711   Mean   : 0.1517   Mean   :0.07593   Winter:1730  \n",
       " 3rd Qu.:0.9300   3rd Qu.: 0.0000   3rd Qu.:0.00000                \n",
       " Max.   :3.5200   Max.   :35.0000   Max.   :8.80000                \n",
       "                                                                   \n",
       "       Holiday      Fday             days           months    \n",
       " Holiday   : 346   No : 239   Monday   : 996   October : 607  \n",
       " No Holiday:6662   Yes:6769   Tuesday  : 987   December: 606  \n",
       "                              Wednesday:1019   July    : 601  \n",
       "                              Thursday : 983   May     : 600  \n",
       "                              Friday   : 994   March   : 594  \n",
       "                              Saturday :1022   August  : 582  \n",
       "                              Sunday   :1007   (Other) :3418  "
      ]
     },
     "metadata": {},
     "output_type": "display_data"
    }
   ],
   "source": [
    "# descriptive stats\n",
    "\n",
    "summary(data)\n",
    "\n"
   ]
  },
  {
   "cell_type": "markdown",
   "metadata": {},
   "source": [
    "# Generate observations from summary stats\n",
    "\n",
    "\n",
    "    Huge range for bike count, might indicate count varies through different hours\n",
    "    Data spread equally for all seasons\n",
    "    Huge range for snowfall, rain fall, solar radiation\n"
   ]
  },
  {
   "cell_type": "code",
   "execution_count": 20,
   "metadata": {},
   "outputs": [
    {
     "name": "stderr",
     "output_type": "stream",
     "text": [
      "Warning message in FUN(newX[, i], ...):\n",
      "\"no non-missing arguments to min; returning Inf\"\n",
      "Warning message in FUN(newX[, i], ...):\n",
      "\"no non-missing arguments to max; returning -Inf\"\n"
     ]
    },
    {
     "data": {
      "text/html": [
       "<table>\n",
       "<caption>A psych: 16 × 13</caption>\n",
       "<thead>\n",
       "\t<tr><th></th><th scope=col>vars</th><th scope=col>n</th><th scope=col>mean</th><th scope=col>sd</th><th scope=col>median</th><th scope=col>trimmed</th><th scope=col>mad</th><th scope=col>min</th><th scope=col>max</th><th scope=col>range</th><th scope=col>skew</th><th scope=col>kurtosis</th><th scope=col>se</th></tr>\n",
       "\t<tr><th></th><th scope=col>&lt;dbl&gt;</th><th scope=col>&lt;dbl&gt;</th><th scope=col>&lt;dbl&gt;</th><th scope=col>&lt;dbl&gt;</th><th scope=col>&lt;dbl&gt;</th><th scope=col>&lt;dbl&gt;</th><th scope=col>&lt;dbl&gt;</th><th scope=col>&lt;dbl&gt;</th><th scope=col>&lt;dbl&gt;</th><th scope=col>&lt;dbl&gt;</th><th scope=col>&lt;dbl&gt;</th><th scope=col>&lt;dbl&gt;</th><th scope=col>&lt;dbl&gt;</th></tr>\n",
       "</thead>\n",
       "<tbody>\n",
       "\t<tr><th scope=row>Date</th><td> 1</td><td>7008</td><td>      NaN</td><td>      NA</td><td>     NA</td><td>      NaN</td><td>      NA</td><td>  Inf</td><td>   -Inf</td><td>   -Inf</td><td>     NA</td><td>      NA</td><td>    NA</td></tr>\n",
       "\t<tr><th scope=row>BikeCount</th><td> 2</td><td>7008</td><td> 703.1507</td><td>645.8736</td><td> 503.00</td><td> 610.7701</td><td>557.4576</td><td>  0.0</td><td>3556.00</td><td>3556.00</td><td> 1.1377</td><td>  0.7530</td><td>7.7153</td></tr>\n",
       "\t<tr><th scope=row>Hour*</th><td> 3</td><td>7008</td><td>  12.4572</td><td>  6.9070</td><td>  12.00</td><td>  12.4451</td><td>  8.8956</td><td>  1.0</td><td>  24.00</td><td>  23.00</td><td> 0.0137</td><td> -1.1950</td><td>0.0825</td></tr>\n",
       "\t<tr><th scope=row>Temp</th><td> 4</td><td>7008</td><td>  12.8325</td><td> 11.9399</td><td>  13.60</td><td>  13.1351</td><td> 13.9364</td><td>-17.5</td><td>  39.40</td><td>  56.90</td><td>-0.1921</td><td> -0.8544</td><td>0.1426</td></tr>\n",
       "\t<tr><th scope=row>Humidity</th><td> 5</td><td>7008</td><td>  58.2481</td><td> 20.3581</td><td>  57.00</td><td>  58.0590</td><td> 23.7216</td><td>  0.0</td><td>  98.00</td><td>  98.00</td><td> 0.0517</td><td> -0.8070</td><td>0.2432</td></tr>\n",
       "\t<tr><th scope=row>Wind.speed</th><td> 6</td><td>7008</td><td>   1.7198</td><td>  1.0334</td><td>   1.50</td><td>   1.6234</td><td>  1.0378</td><td>  0.0</td><td>   7.40</td><td>   7.40</td><td> 0.8927</td><td>  0.7234</td><td>0.0123</td></tr>\n",
       "\t<tr><th scope=row>Visibility</th><td> 7</td><td>7008</td><td>1435.9805</td><td>608.6228</td><td>1693.00</td><td>1508.5747</td><td>455.1582</td><td> 27.0</td><td>2000.00</td><td>1973.00</td><td>-0.7041</td><td> -0.9555</td><td>7.2703</td></tr>\n",
       "\t<tr><th scope=row>DPtemp</th><td> 8</td><td>7008</td><td>   4.0292</td><td> 13.0471</td><td>   5.00</td><td>   4.7072</td><td> 14.5295</td><td>-30.6</td><td>  26.80</td><td>  57.40</td><td>-0.3630</td><td> -0.7622</td><td>0.1559</td></tr>\n",
       "\t<tr><th scope=row>SR</th><td> 9</td><td>7008</td><td>   0.5711</td><td>  0.8719</td><td>   0.01</td><td>   0.3858</td><td>  0.0148</td><td>  0.0</td><td>   3.52</td><td>   3.52</td><td> 1.4994</td><td>  1.0998</td><td>0.0104</td></tr>\n",
       "\t<tr><th scope=row>Rainfall</th><td>10</td><td>7008</td><td>   0.1517</td><td>  1.1665</td><td>   0.00</td><td>   0.0000</td><td>  0.0000</td><td>  0.0</td><td>  35.00</td><td>  35.00</td><td>14.7918</td><td>291.7476</td><td>0.0139</td></tr>\n",
       "\t<tr><th scope=row>Snowfall</th><td>11</td><td>7008</td><td>   0.0759</td><td>  0.4428</td><td>   0.00</td><td>   0.0000</td><td>  0.0000</td><td>  0.0</td><td>   8.80</td><td>   8.80</td><td> 8.1442</td><td> 84.1331</td><td>0.0053</td></tr>\n",
       "\t<tr><th scope=row>Seasons*</th><td>12</td><td>7008</td><td>   2.4934</td><td>  1.1154</td><td>   2.00</td><td>   2.4918</td><td>  1.4826</td><td>  1.0</td><td>   4.00</td><td>   3.00</td><td> 0.0094</td><td> -1.3542</td><td>0.0133</td></tr>\n",
       "\t<tr><th scope=row>Holiday*</th><td>13</td><td>7008</td><td>   1.9506</td><td>  0.2167</td><td>   2.00</td><td>   2.0000</td><td>  0.0000</td><td>  1.0</td><td>   2.00</td><td>   1.00</td><td>-4.1592</td><td> 15.3010</td><td>0.0026</td></tr>\n",
       "\t<tr><th scope=row>Fday*</th><td>14</td><td>7008</td><td>   1.9659</td><td>  0.1815</td><td>   2.00</td><td>   2.0000</td><td>  0.0000</td><td>  1.0</td><td>   2.00</td><td>   1.00</td><td>-5.1329</td><td> 24.3497</td><td>0.0022</td></tr>\n",
       "\t<tr><th scope=row>days*</th><td>15</td><td>7008</td><td>   4.0111</td><td>  2.0017</td><td>   4.00</td><td>   4.0139</td><td>  2.9652</td><td>  1.0</td><td>   7.00</td><td>   6.00</td><td>-0.0069</td><td> -1.2543</td><td>0.0239</td></tr>\n",
       "\t<tr><th scope=row>months*</th><td>16</td><td>7008</td><td>   6.5439</td><td>  3.4511</td><td>   7.00</td><td>   6.5501</td><td>  4.4478</td><td>  1.0</td><td>  12.00</td><td>  11.00</td><td>-0.0103</td><td> -1.2128</td><td>0.0412</td></tr>\n",
       "</tbody>\n",
       "</table>\n"
      ],
      "text/latex": [
       "A psych: 16 × 13\n",
       "\\begin{tabular}{r|lllllllllllll}\n",
       "  & vars & n & mean & sd & median & trimmed & mad & min & max & range & skew & kurtosis & se\\\\\n",
       "  & <dbl> & <dbl> & <dbl> & <dbl> & <dbl> & <dbl> & <dbl> & <dbl> & <dbl> & <dbl> & <dbl> & <dbl> & <dbl>\\\\\n",
       "\\hline\n",
       "\tDate &  1 & 7008 &       NaN &       NA &      NA &       NaN &       NA &   Inf &    -Inf &    -Inf &      NA &       NA &     NA\\\\\n",
       "\tBikeCount &  2 & 7008 &  703.1507 & 645.8736 &  503.00 &  610.7701 & 557.4576 &   0.0 & 3556.00 & 3556.00 &  1.1377 &   0.7530 & 7.7153\\\\\n",
       "\tHour* &  3 & 7008 &   12.4572 &   6.9070 &   12.00 &   12.4451 &   8.8956 &   1.0 &   24.00 &   23.00 &  0.0137 &  -1.1950 & 0.0825\\\\\n",
       "\tTemp &  4 & 7008 &   12.8325 &  11.9399 &   13.60 &   13.1351 &  13.9364 & -17.5 &   39.40 &   56.90 & -0.1921 &  -0.8544 & 0.1426\\\\\n",
       "\tHumidity &  5 & 7008 &   58.2481 &  20.3581 &   57.00 &   58.0590 &  23.7216 &   0.0 &   98.00 &   98.00 &  0.0517 &  -0.8070 & 0.2432\\\\\n",
       "\tWind.speed &  6 & 7008 &    1.7198 &   1.0334 &    1.50 &    1.6234 &   1.0378 &   0.0 &    7.40 &    7.40 &  0.8927 &   0.7234 & 0.0123\\\\\n",
       "\tVisibility &  7 & 7008 & 1435.9805 & 608.6228 & 1693.00 & 1508.5747 & 455.1582 &  27.0 & 2000.00 & 1973.00 & -0.7041 &  -0.9555 & 7.2703\\\\\n",
       "\tDPtemp &  8 & 7008 &    4.0292 &  13.0471 &    5.00 &    4.7072 &  14.5295 & -30.6 &   26.80 &   57.40 & -0.3630 &  -0.7622 & 0.1559\\\\\n",
       "\tSR &  9 & 7008 &    0.5711 &   0.8719 &    0.01 &    0.3858 &   0.0148 &   0.0 &    3.52 &    3.52 &  1.4994 &   1.0998 & 0.0104\\\\\n",
       "\tRainfall & 10 & 7008 &    0.1517 &   1.1665 &    0.00 &    0.0000 &   0.0000 &   0.0 &   35.00 &   35.00 & 14.7918 & 291.7476 & 0.0139\\\\\n",
       "\tSnowfall & 11 & 7008 &    0.0759 &   0.4428 &    0.00 &    0.0000 &   0.0000 &   0.0 &    8.80 &    8.80 &  8.1442 &  84.1331 & 0.0053\\\\\n",
       "\tSeasons* & 12 & 7008 &    2.4934 &   1.1154 &    2.00 &    2.4918 &   1.4826 &   1.0 &    4.00 &    3.00 &  0.0094 &  -1.3542 & 0.0133\\\\\n",
       "\tHoliday* & 13 & 7008 &    1.9506 &   0.2167 &    2.00 &    2.0000 &   0.0000 &   1.0 &    2.00 &    1.00 & -4.1592 &  15.3010 & 0.0026\\\\\n",
       "\tFday* & 14 & 7008 &    1.9659 &   0.1815 &    2.00 &    2.0000 &   0.0000 &   1.0 &    2.00 &    1.00 & -5.1329 &  24.3497 & 0.0022\\\\\n",
       "\tdays* & 15 & 7008 &    4.0111 &   2.0017 &    4.00 &    4.0139 &   2.9652 &   1.0 &    7.00 &    6.00 & -0.0069 &  -1.2543 & 0.0239\\\\\n",
       "\tmonths* & 16 & 7008 &    6.5439 &   3.4511 &    7.00 &    6.5501 &   4.4478 &   1.0 &   12.00 &   11.00 & -0.0103 &  -1.2128 & 0.0412\\\\\n",
       "\\end{tabular}\n"
      ],
      "text/markdown": [
       "\n",
       "A psych: 16 × 13\n",
       "\n",
       "| <!--/--> | vars &lt;dbl&gt; | n &lt;dbl&gt; | mean &lt;dbl&gt; | sd &lt;dbl&gt; | median &lt;dbl&gt; | trimmed &lt;dbl&gt; | mad &lt;dbl&gt; | min &lt;dbl&gt; | max &lt;dbl&gt; | range &lt;dbl&gt; | skew &lt;dbl&gt; | kurtosis &lt;dbl&gt; | se &lt;dbl&gt; |\n",
       "|---|---|---|---|---|---|---|---|---|---|---|---|---|---|\n",
       "| Date |  1 | 7008 |       NaN |       NA |      NA |       NaN |       NA |   Inf |    -Inf |    -Inf |      NA |       NA |     NA |\n",
       "| BikeCount |  2 | 7008 |  703.1507 | 645.8736 |  503.00 |  610.7701 | 557.4576 |   0.0 | 3556.00 | 3556.00 |  1.1377 |   0.7530 | 7.7153 |\n",
       "| Hour* |  3 | 7008 |   12.4572 |   6.9070 |   12.00 |   12.4451 |   8.8956 |   1.0 |   24.00 |   23.00 |  0.0137 |  -1.1950 | 0.0825 |\n",
       "| Temp |  4 | 7008 |   12.8325 |  11.9399 |   13.60 |   13.1351 |  13.9364 | -17.5 |   39.40 |   56.90 | -0.1921 |  -0.8544 | 0.1426 |\n",
       "| Humidity |  5 | 7008 |   58.2481 |  20.3581 |   57.00 |   58.0590 |  23.7216 |   0.0 |   98.00 |   98.00 |  0.0517 |  -0.8070 | 0.2432 |\n",
       "| Wind.speed |  6 | 7008 |    1.7198 |   1.0334 |    1.50 |    1.6234 |   1.0378 |   0.0 |    7.40 |    7.40 |  0.8927 |   0.7234 | 0.0123 |\n",
       "| Visibility |  7 | 7008 | 1435.9805 | 608.6228 | 1693.00 | 1508.5747 | 455.1582 |  27.0 | 2000.00 | 1973.00 | -0.7041 |  -0.9555 | 7.2703 |\n",
       "| DPtemp |  8 | 7008 |    4.0292 |  13.0471 |    5.00 |    4.7072 |  14.5295 | -30.6 |   26.80 |   57.40 | -0.3630 |  -0.7622 | 0.1559 |\n",
       "| SR |  9 | 7008 |    0.5711 |   0.8719 |    0.01 |    0.3858 |   0.0148 |   0.0 |    3.52 |    3.52 |  1.4994 |   1.0998 | 0.0104 |\n",
       "| Rainfall | 10 | 7008 |    0.1517 |   1.1665 |    0.00 |    0.0000 |   0.0000 |   0.0 |   35.00 |   35.00 | 14.7918 | 291.7476 | 0.0139 |\n",
       "| Snowfall | 11 | 7008 |    0.0759 |   0.4428 |    0.00 |    0.0000 |   0.0000 |   0.0 |    8.80 |    8.80 |  8.1442 |  84.1331 | 0.0053 |\n",
       "| Seasons* | 12 | 7008 |    2.4934 |   1.1154 |    2.00 |    2.4918 |   1.4826 |   1.0 |    4.00 |    3.00 |  0.0094 |  -1.3542 | 0.0133 |\n",
       "| Holiday* | 13 | 7008 |    1.9506 |   0.2167 |    2.00 |    2.0000 |   0.0000 |   1.0 |    2.00 |    1.00 | -4.1592 |  15.3010 | 0.0026 |\n",
       "| Fday* | 14 | 7008 |    1.9659 |   0.1815 |    2.00 |    2.0000 |   0.0000 |   1.0 |    2.00 |    1.00 | -5.1329 |  24.3497 | 0.0022 |\n",
       "| days* | 15 | 7008 |    4.0111 |   2.0017 |    4.00 |    4.0139 |   2.9652 |   1.0 |    7.00 |    6.00 | -0.0069 |  -1.2543 | 0.0239 |\n",
       "| months* | 16 | 7008 |    6.5439 |   3.4511 |    7.00 |    6.5501 |   4.4478 |   1.0 |   12.00 |   11.00 | -0.0103 |  -1.2128 | 0.0412 |\n",
       "\n"
      ],
      "text/plain": [
       "           vars n    mean      sd       median  trimmed   mad      min  \n",
       "Date        1   7008       NaN       NA      NA       NaN       NA   Inf\n",
       "BikeCount   2   7008  703.1507 645.8736  503.00  610.7701 557.4576   0.0\n",
       "Hour*       3   7008   12.4572   6.9070   12.00   12.4451   8.8956   1.0\n",
       "Temp        4   7008   12.8325  11.9399   13.60   13.1351  13.9364 -17.5\n",
       "Humidity    5   7008   58.2481  20.3581   57.00   58.0590  23.7216   0.0\n",
       "Wind.speed  6   7008    1.7198   1.0334    1.50    1.6234   1.0378   0.0\n",
       "Visibility  7   7008 1435.9805 608.6228 1693.00 1508.5747 455.1582  27.0\n",
       "DPtemp      8   7008    4.0292  13.0471    5.00    4.7072  14.5295 -30.6\n",
       "SR          9   7008    0.5711   0.8719    0.01    0.3858   0.0148   0.0\n",
       "Rainfall   10   7008    0.1517   1.1665    0.00    0.0000   0.0000   0.0\n",
       "Snowfall   11   7008    0.0759   0.4428    0.00    0.0000   0.0000   0.0\n",
       "Seasons*   12   7008    2.4934   1.1154    2.00    2.4918   1.4826   1.0\n",
       "Holiday*   13   7008    1.9506   0.2167    2.00    2.0000   0.0000   1.0\n",
       "Fday*      14   7008    1.9659   0.1815    2.00    2.0000   0.0000   1.0\n",
       "days*      15   7008    4.0111   2.0017    4.00    4.0139   2.9652   1.0\n",
       "months*    16   7008    6.5439   3.4511    7.00    6.5501   4.4478   1.0\n",
       "           max     range   skew    kurtosis se    \n",
       "Date          -Inf    -Inf      NA       NA     NA\n",
       "BikeCount  3556.00 3556.00  1.1377   0.7530 7.7153\n",
       "Hour*        24.00   23.00  0.0137  -1.1950 0.0825\n",
       "Temp         39.40   56.90 -0.1921  -0.8544 0.1426\n",
       "Humidity     98.00   98.00  0.0517  -0.8070 0.2432\n",
       "Wind.speed    7.40    7.40  0.8927   0.7234 0.0123\n",
       "Visibility 2000.00 1973.00 -0.7041  -0.9555 7.2703\n",
       "DPtemp       26.80   57.40 -0.3630  -0.7622 0.1559\n",
       "SR            3.52    3.52  1.4994   1.0998 0.0104\n",
       "Rainfall     35.00   35.00 14.7918 291.7476 0.0139\n",
       "Snowfall      8.80    8.80  8.1442  84.1331 0.0053\n",
       "Seasons*      4.00    3.00  0.0094  -1.3542 0.0133\n",
       "Holiday*      2.00    1.00 -4.1592  15.3010 0.0026\n",
       "Fday*         2.00    1.00 -5.1329  24.3497 0.0022\n",
       "days*         7.00    6.00 -0.0069  -1.2543 0.0239\n",
       "months*      12.00   11.00 -0.0103  -1.2128 0.0412"
      ]
     },
     "metadata": {},
     "output_type": "display_data"
    }
   ],
   "source": [
    "#using psych describe function\n",
    "round(describe(data), 4)"
   ]
  },
  {
   "cell_type": "markdown",
   "metadata": {},
   "source": [
    "## atrributes with high skewness has high standard deviation. only temp and humidity seems to be close to normal distributions, other numeric variables are skewed to either left or right. this indicates volatality in the data."
   ]
  },
  {
   "cell_type": "markdown",
   "metadata": {},
   "source": [
    "# Firstly i am attempting to fit the data with a multiple linear regression model with all the variables except Date"
   ]
  },
  {
   "cell_type": "code",
   "execution_count": 21,
   "metadata": {
    "scrolled": true
   },
   "outputs": [
    {
     "data": {
      "text/plain": [
       "\n",
       "Call:\n",
       "lm(formula = BikeCount ~ . - Date, data = data)\n",
       "\n",
       "Residuals:\n",
       "     Min       1Q   Median       3Q      Max \n",
       "-1668.65  -213.23    -4.47   196.58  1531.54 \n",
       "\n",
       "Coefficients: (3 not defined because of singularities)\n",
       "                    Estimate Std. Error t value Pr(>|t|)    \n",
       "(Intercept)        -63.71402   95.08693  -0.670 0.502841    \n",
       "Hour1             -106.82904   29.61777  -3.607 0.000312 ***\n",
       "Hour2             -222.11845   29.55004  -7.517 6.32e-14 ***\n",
       "Hour3             -290.04228   29.38507  -9.870  < 2e-16 ***\n",
       "Hour4             -351.57221   29.71084 -11.833  < 2e-16 ***\n",
       "Hour5             -333.02794   29.55221 -11.269  < 2e-16 ***\n",
       "Hour6             -174.06984   29.65230  -5.870 4.55e-09 ***\n",
       "Hour7              128.99559   29.56310   4.363 1.30e-05 ***\n",
       "Hour8              470.93484   29.49477  15.967  < 2e-16 ***\n",
       "Hour9               35.63497   30.60406   1.164 0.244307    \n",
       "Hour10            -199.92190   31.46496  -6.354 2.23e-10 ***\n",
       "Hour11            -213.91064   32.77627  -6.526 7.21e-11 ***\n",
       "Hour12            -173.00898   34.05492  -5.080 3.87e-07 ***\n",
       "Hour13            -178.80747   34.57260  -5.172 2.38e-07 ***\n",
       "Hour14            -175.70712   33.74775  -5.206 1.98e-07 ***\n",
       "Hour15             -82.77720   32.93239  -2.514 0.011975 *  \n",
       "Hour16              51.00379   32.01858   1.593 0.111218    \n",
       "Hour17             296.55301   30.99965   9.566  < 2e-16 ***\n",
       "Hour18             751.17732   30.54634  24.591  < 2e-16 ***\n",
       "Hour19             469.50511   30.34391  15.473  < 2e-16 ***\n",
       "Hour20             436.64747   29.99022  14.560  < 2e-16 ***\n",
       "Hour21             421.37579   29.81318  14.134  < 2e-16 ***\n",
       "Hour22             337.44436   29.30692  11.514  < 2e-16 ***\n",
       "Hour23              91.06843   29.53617   3.083 0.002055 ** \n",
       "Temp                14.07623    3.50073   4.021 5.86e-05 ***\n",
       "Humidity            -9.04496    0.95226  -9.498  < 2e-16 ***\n",
       "Wind.speed           6.51474    4.95307   1.315 0.188454    \n",
       "Visibility           0.06687    0.01069   6.253 4.27e-10 ***\n",
       "DPtemp              14.62913    3.60319   4.060 4.96e-05 ***\n",
       "SR                  62.26670   10.69682   5.821 6.11e-09 ***\n",
       "Rainfall           -56.54173    3.84642 -14.700  < 2e-16 ***\n",
       "Snowfall            33.84668   10.34392   3.272 0.001073 ** \n",
       "SeasonsSpring      -25.62141   24.87663  -1.030 0.303075    \n",
       "SeasonsSummer     -436.58299   35.30862 -12.365  < 2e-16 ***\n",
       "SeasonsWinter     -281.74976   24.93334 -11.300  < 2e-16 ***\n",
       "HolidayNo Holiday  146.30942   20.25482   7.223 5.61e-13 ***\n",
       "FdayYes            950.24152   24.67640  38.508  < 2e-16 ***\n",
       "daysTuesday         -4.44151   16.11869  -0.276 0.782902    \n",
       "daysWednesday      -13.20223   15.99422  -0.825 0.409151    \n",
       "daysThursday       -18.82227   16.14387  -1.166 0.243692    \n",
       "daysFriday         -34.59816   16.12992  -2.145 0.031990 *  \n",
       "daysSaturday       -40.11402   16.08518  -2.494 0.012660 *  \n",
       "daysSunday         -15.32696   16.05600  -0.955 0.339816    \n",
       "monthsFebruary     -66.22072   21.72124  -3.049 0.002307 ** \n",
       "monthsMarch       -212.94920   24.30066  -8.763  < 2e-16 ***\n",
       "monthsApril       -129.04340   22.12912  -5.831 5.74e-09 ***\n",
       "monthsMay                 NA         NA      NA       NA    \n",
       "monthsJune         531.54283   23.44579  22.671  < 2e-16 ***\n",
       "monthsJuly         136.43119   20.93775   6.516 7.72e-11 ***\n",
       "monthsAugust              NA         NA      NA       NA    \n",
       "monthsSeptember    -99.82467   29.10811  -3.429 0.000608 ***\n",
       "monthsOctober       69.99763   22.96902   3.047 0.002316 ** \n",
       "monthsNovember            NA         NA      NA       NA    \n",
       "monthsDecember      64.92556   21.08119   3.080 0.002080 ** \n",
       "---\n",
       "Signif. codes:  0 '***' 0.001 '**' 0.01 '*' 0.05 '.' 0.1 ' ' 1\n",
       "\n",
       "Residual standard error: 356.3 on 6957 degrees of freedom\n",
       "Multiple R-squared:  0.6978,\tAdjusted R-squared:  0.6956 \n",
       "F-statistic: 321.2 on 50 and 6957 DF,  p-value: < 2.2e-16\n"
      ]
     },
     "metadata": {},
     "output_type": "display_data"
    }
   ],
   "source": [
    "model1 = lm(BikeCount~.-Date, data = data)\n",
    "summary(model1)"
   ]
  },
  {
   "cell_type": "markdown",
   "metadata": {},
   "source": [
    "## We can see that the adjusted R squared is 0.6956, which means that the model is only able to expain only 66 percent of the data. The model needs improvment"
   ]
  },
  {
   "cell_type": "code",
   "execution_count": null,
   "metadata": {},
   "outputs": [],
   "source": []
  },
  {
   "cell_type": "code",
   "execution_count": null,
   "metadata": {},
   "outputs": [],
   "source": []
  },
  {
   "cell_type": "markdown",
   "metadata": {},
   "source": [
    "# Fit a multiple regression model to predict bikecount\n",
    "\n",
    "### here im taking log(BikeCount+1) to log transform the count as the response variable BikeCount has natural outliers. we also saw previously that the distribution for bikecount is skewed."
   ]
  },
  {
   "cell_type": "code",
   "execution_count": 22,
   "metadata": {
    "scrolled": true
   },
   "outputs": [
    {
     "data": {
      "text/plain": [
       "\n",
       "Call:\n",
       "lm(formula = log(BikeCount + 1) ~ . - Date, data = data)\n",
       "\n",
       "Residuals:\n",
       "    Min      1Q  Median      3Q     Max \n",
       "-4.7177 -0.2372  0.0874  0.3533  6.2651 \n",
       "\n",
       "Coefficients: (3 not defined because of singularities)\n",
       "                    Estimate Std. Error t value Pr(>|t|)    \n",
       "(Intercept)        1.443e+00  1.637e-01   8.813  < 2e-16 ***\n",
       "Hour1             -1.914e-01  5.099e-02  -3.753 0.000176 ***\n",
       "Hour2             -4.995e-01  5.087e-02  -9.818  < 2e-16 ***\n",
       "Hour3             -8.546e-01  5.059e-02 -16.892  < 2e-16 ***\n",
       "Hour4             -1.204e+00  5.115e-02 -23.544  < 2e-16 ***\n",
       "Hour5             -1.166e+00  5.088e-02 -22.916  < 2e-16 ***\n",
       "Hour6             -5.235e-01  5.105e-02 -10.255  < 2e-16 ***\n",
       "Hour7              8.688e-02  5.090e-02   1.707 0.087888 .  \n",
       "Hour8              5.079e-01  5.078e-02  10.002  < 2e-16 ***\n",
       "Hour9              5.115e-02  5.269e-02   0.971 0.331666    \n",
       "Hour10            -3.536e-01  5.417e-02  -6.528 7.15e-11 ***\n",
       "Hour11            -3.314e-01  5.643e-02  -5.873 4.47e-09 ***\n",
       "Hour12            -2.960e-01  5.863e-02  -5.048 4.57e-07 ***\n",
       "Hour13            -2.725e-01  5.952e-02  -4.578 4.78e-06 ***\n",
       "Hour14            -3.135e-01  5.810e-02  -5.395 7.08e-08 ***\n",
       "Hour15            -1.960e-01  5.670e-02  -3.457 0.000550 ***\n",
       "Hour16            -7.178e-02  5.512e-02  -1.302 0.192893    \n",
       "Hour17             1.529e-01  5.337e-02   2.865 0.004177 ** \n",
       "Hour18             5.377e-01  5.259e-02  10.225  < 2e-16 ***\n",
       "Hour19             3.343e-01  5.224e-02   6.399 1.66e-10 ***\n",
       "Hour20             3.274e-01  5.163e-02   6.340 2.44e-10 ***\n",
       "Hour21             3.633e-01  5.133e-02   7.077 1.61e-12 ***\n",
       "Hour22             3.078e-01  5.046e-02   6.100 1.11e-09 ***\n",
       "Hour23             4.323e-02  5.085e-02   0.850 0.395328    \n",
       "Temp              -1.549e-02  6.027e-03  -2.570 0.010179 *  \n",
       "Humidity          -3.081e-02  1.639e-03 -18.792  < 2e-16 ***\n",
       "Wind.speed        -2.370e-02  8.527e-03  -2.779 0.005460 ** \n",
       "Visibility         1.220e-04  1.841e-05   6.629 3.63e-11 ***\n",
       "DPtemp             7.046e-02  6.203e-03  11.359  < 2e-16 ***\n",
       "SR                 8.403e-02  1.842e-02   4.563 5.13e-06 ***\n",
       "Rainfall          -2.017e-01  6.622e-03 -30.452  < 2e-16 ***\n",
       "Snowfall          -3.626e-02  1.781e-02  -2.036 0.041801 *  \n",
       "SeasonsSpring     -3.626e-01  4.283e-02  -8.465  < 2e-16 ***\n",
       "SeasonsSummer     -8.248e-01  6.079e-02 -13.568  < 2e-16 ***\n",
       "SeasonsWinter     -7.802e-01  4.293e-02 -18.175  < 2e-16 ***\n",
       "HolidayNo Holiday  3.835e-01  3.487e-02  10.998  < 2e-16 ***\n",
       "FdayYes            6.501e+00  4.248e-02 153.029  < 2e-16 ***\n",
       "daysTuesday        4.161e-02  2.775e-02   1.499 0.133853    \n",
       "daysWednesday     -2.201e-02  2.754e-02  -0.799 0.424233    \n",
       "daysThursday      -5.480e-02  2.779e-02  -1.972 0.048701 *  \n",
       "daysFriday        -7.478e-02  2.777e-02  -2.693 0.007104 ** \n",
       "daysSaturday      -9.058e-02  2.769e-02  -3.271 0.001078 ** \n",
       "daysSunday        -3.404e-02  2.764e-02  -1.231 0.218210    \n",
       "monthsFebruary    -8.579e-02  3.740e-02  -2.294 0.021823 *  \n",
       "monthsMarch       -9.118e-02  4.184e-02  -2.179 0.029336 *  \n",
       "monthsApril       -1.010e-01  3.810e-02  -2.652 0.008017 ** \n",
       "monthsMay                 NA         NA      NA       NA    \n",
       "monthsJune         6.455e-01  4.037e-02  15.992  < 2e-16 ***\n",
       "monthsJuly         1.215e-01  3.605e-02   3.371 0.000753 ***\n",
       "monthsAugust              NA         NA      NA       NA    \n",
       "monthsSeptember   -3.888e-01  5.011e-02  -7.758 9.88e-15 ***\n",
       "monthsOctober     -5.317e-02  3.954e-02  -1.344 0.178843    \n",
       "monthsNovember            NA         NA      NA       NA    \n",
       "monthsDecember     2.539e-01  3.629e-02   6.996 2.89e-12 ***\n",
       "---\n",
       "Signif. codes:  0 '***' 0.001 '**' 0.01 '*' 0.05 '.' 0.1 ' ' 1\n",
       "\n",
       "Residual standard error: 0.6135 on 6957 degrees of freedom\n",
       "Multiple R-squared:  0.8516,\tAdjusted R-squared:  0.8506 \n",
       "F-statistic: 798.7 on 50 and 6957 DF,  p-value: < 2.2e-16\n"
      ]
     },
     "metadata": {},
     "output_type": "display_data"
    }
   ],
   "source": [
    "# Fit a multiple regression model to predict bikecount\n",
    "\n",
    "# here im taking log(BikeCount+1) to log transform the count as the response variable BikeCount has natural outliers\n",
    "\n",
    "model1 = lm(log(BikeCount+1)~.-Date, data = data) #removing date as its useless\n",
    "summary(model1)"
   ]
  },
  {
   "cell_type": "markdown",
   "metadata": {},
   "source": [
    "## Already improvement in  adjusted R squared can be seen, as it increased to 0.8506 from 0.6956"
   ]
  },
  {
   "cell_type": "code",
   "execution_count": null,
   "metadata": {},
   "outputs": [],
   "source": []
  },
  {
   "cell_type": "code",
   "execution_count": null,
   "metadata": {},
   "outputs": [],
   "source": []
  },
  {
   "cell_type": "markdown",
   "metadata": {},
   "source": [
    "# which of the predictors can i reject the null hypothesis H0: j = 0?\n",
    "\n",
    "# In order to answer this question, we need to look at the p-value in the summary, which is indicated by Pr(>|t|). For the predictors which have the low p-value (less than 0.01), we can reject the null hypothesis. What are the predictors that have a strong association with the response variable?\n",
    "\n",
    "\n",
    "## We can see that snowfall and days doesnt have significant association with respone variable, so we remove those form the model\n",
    "\n",
    "\n",
    "##  \n",
    "    Hour,\n",
    "    Temp,\n",
    "    humidity,\n",
    "    visibility,\n",
    "    Dptemp,\n",
    "    SR,\n",
    "    rainfall,\n",
    "    wind speed,\n",
    "    seasons,\n",
    "    holiday,\n",
    "    fday\n",
    " \n",
    "\n",
    "    have strongest association with the response variable"
   ]
  },
  {
   "cell_type": "markdown",
   "metadata": {},
   "source": [
    "## I am removing snowfall and days from the model as they have weak association with the BikeCount"
   ]
  },
  {
   "cell_type": "code",
   "execution_count": 23,
   "metadata": {},
   "outputs": [
    {
     "data": {
      "text/plain": [
       "\n",
       "Call:\n",
       "lm(formula = log(BikeCount + 1) ~ . - Date, data = subset(data, \n",
       "    select = c(-Snowfall, -days)))\n",
       "\n",
       "Residuals:\n",
       "    Min      1Q  Median      3Q     Max \n",
       "-4.7282 -0.2350  0.0860  0.3543  6.2767 \n",
       "\n",
       "Coefficients: (3 not defined because of singularities)\n",
       "                    Estimate Std. Error t value Pr(>|t|)    \n",
       "(Intercept)        1.444e+00  1.617e-01   8.931  < 2e-16 ***\n",
       "Hour1             -1.910e-01  5.109e-02  -3.739 0.000186 ***\n",
       "Hour2             -5.001e-01  5.097e-02  -9.813  < 2e-16 ***\n",
       "Hour3             -8.541e-01  5.069e-02 -16.851  < 2e-16 ***\n",
       "Hour4             -1.204e+00  5.125e-02 -23.486  < 2e-16 ***\n",
       "Hour5             -1.165e+00  5.097e-02 -22.856  < 2e-16 ***\n",
       "Hour6             -5.243e-01  5.115e-02 -10.252  < 2e-16 ***\n",
       "Hour7              8.629e-02  5.098e-02   1.692 0.090610 .  \n",
       "Hour8              5.069e-01  5.088e-02   9.964  < 2e-16 ***\n",
       "Hour9              4.801e-02  5.277e-02   0.910 0.362953    \n",
       "Hour10            -3.572e-01  5.425e-02  -6.584 4.91e-11 ***\n",
       "Hour11            -3.351e-01  5.652e-02  -5.930 3.18e-09 ***\n",
       "Hour12            -2.981e-01  5.870e-02  -5.080 3.88e-07 ***\n",
       "Hour13            -2.745e-01  5.960e-02  -4.605 4.20e-06 ***\n",
       "Hour14            -3.152e-01  5.818e-02  -5.418 6.23e-08 ***\n",
       "Hour15            -1.972e-01  5.678e-02  -3.473 0.000518 ***\n",
       "Hour16            -7.470e-02  5.522e-02  -1.353 0.176130    \n",
       "Hour17             1.529e-01  5.346e-02   2.859 0.004259 ** \n",
       "Hour18             5.376e-01  5.268e-02  10.206  < 2e-16 ***\n",
       "Hour19             3.363e-01  5.234e-02   6.425 1.40e-10 ***\n",
       "Hour20             3.266e-01  5.173e-02   6.312 2.91e-10 ***\n",
       "Hour21             3.647e-01  5.143e-02   7.091 1.46e-12 ***\n",
       "Hour22             3.071e-01  5.056e-02   6.074 1.32e-09 ***\n",
       "Hour23             4.272e-02  5.095e-02   0.838 0.401842    \n",
       "Temp              -1.652e-02  6.030e-03  -2.739 0.006174 ** \n",
       "Humidity          -3.129e-02  1.628e-03 -19.215  < 2e-16 ***\n",
       "Wind.speed        -2.461e-02  8.519e-03  -2.889 0.003882 ** \n",
       "Visibility         1.202e-04  1.836e-05   6.550 6.16e-11 ***\n",
       "DPtemp             7.125e-02  6.195e-03  11.502  < 2e-16 ***\n",
       "SR                 8.444e-02  1.841e-02   4.587 4.58e-06 ***\n",
       "Rainfall          -2.029e-01  6.624e-03 -30.632  < 2e-16 ***\n",
       "SeasonsSpring     -3.515e-01  4.277e-02  -8.217 2.47e-16 ***\n",
       "SeasonsSummer     -8.086e-01  6.061e-02 -13.342  < 2e-16 ***\n",
       "SeasonsWinter     -7.914e-01  4.293e-02 -18.436  < 2e-16 ***\n",
       "HolidayNo Holiday  3.841e-01  3.463e-02  11.093  < 2e-16 ***\n",
       "FdayYes            6.503e+00  4.216e-02 154.246  < 2e-16 ***\n",
       "monthsFebruary    -8.149e-02  3.740e-02  -2.179 0.029386 *  \n",
       "monthsMarch       -9.715e-02  4.180e-02  -2.324 0.020134 *  \n",
       "monthsApril       -1.102e-01  3.810e-02  -2.892 0.003845 ** \n",
       "monthsMay                 NA         NA      NA       NA    \n",
       "monthsJune         6.388e-01  4.034e-02  15.836  < 2e-16 ***\n",
       "monthsJuly         1.142e-01  3.607e-02   3.166 0.001554 ** \n",
       "monthsAugust              NA         NA      NA       NA    \n",
       "monthsSeptember   -3.815e-01  5.001e-02  -7.628 2.71e-14 ***\n",
       "monthsOctober     -4.645e-02  3.950e-02  -1.176 0.239692    \n",
       "monthsNovember            NA         NA      NA       NA    \n",
       "monthsDecember     2.475e-01  3.627e-02   6.823 9.64e-12 ***\n",
       "---\n",
       "Signif. codes:  0 '***' 0.001 '**' 0.01 '*' 0.05 '.' 0.1 ' ' 1\n",
       "\n",
       "Residual standard error: 0.6148 on 6964 degrees of freedom\n",
       "Multiple R-squared:  0.8509,\tAdjusted R-squared:   0.85 \n",
       "F-statistic: 924.1 on 43 and 6964 DF,  p-value: < 2.2e-16\n"
      ]
     },
     "metadata": {},
     "output_type": "display_data"
    }
   ],
   "source": [
    "model2 = lm(log(BikeCount+1)~.-Date, data = subset(data, select=c( -Snowfall, -days)))\n",
    "summary(model2)"
   ]
  },
  {
   "cell_type": "markdown",
   "metadata": {},
   "source": [
    "## We can see that now model is simpler and R squared hasnt changed much, which is good indication."
   ]
  },
  {
   "cell_type": "code",
   "execution_count": 24,
   "metadata": {},
   "outputs": [
    {
     "data": {
      "image/png": "[encoded data removed]",
      "text/plain": [
       "Plot with title \"\""
      ]
     },
     "metadata": {
      "image/png": {
       "height": 420,
       "width": 420
      }
     },
     "output_type": "display_data"
    }
   ],
   "source": [
    "par(mfcol=c(2,2))\n",
    "plot(model1, which = 1)\n",
    "plot(model1, which = 2)\n",
    "plot(model2, which = 1)\n",
    "plot(model2, which = 2)"
   ]
  },
  {
   "cell_type": "markdown",
   "metadata": {},
   "source": [
    "#### Residuals seem to be normal, although for a big dataset it isnt a huge concern."
   ]
  },
  {
   "cell_type": "code",
   "execution_count": 25,
   "metadata": {
    "scrolled": false
   },
   "outputs": [
    {
     "data": {
      "text/html": [
       "<table>\n",
       "<caption>A anova: 2 × 6</caption>\n",
       "<thead>\n",
       "\t<tr><th></th><th scope=col>Res.Df</th><th scope=col>RSS</th><th scope=col>Df</th><th scope=col>Sum of Sq</th><th scope=col>F</th><th scope=col>Pr(&gt;F)</th></tr>\n",
       "\t<tr><th></th><th scope=col>&lt;dbl&gt;</th><th scope=col>&lt;dbl&gt;</th><th scope=col>&lt;dbl&gt;</th><th scope=col>&lt;dbl&gt;</th><th scope=col>&lt;dbl&gt;</th><th scope=col>&lt;dbl&gt;</th></tr>\n",
       "</thead>\n",
       "<tbody>\n",
       "\t<tr><th scope=row>1</th><td>6957</td><td>2618.481</td><td>NA</td><td>       NA</td><td>     NA</td><td>          NA</td></tr>\n",
       "\t<tr><th scope=row>2</th><td>6964</td><td>2631.920</td><td>-7</td><td>-13.43877</td><td>5.10075</td><td>8.524689e-06</td></tr>\n",
       "</tbody>\n",
       "</table>\n"
      ],
      "text/latex": [
       "A anova: 2 × 6\n",
       "\\begin{tabular}{r|llllll}\n",
       "  & Res.Df & RSS & Df & Sum of Sq & F & Pr(>F)\\\\\n",
       "  & <dbl> & <dbl> & <dbl> & <dbl> & <dbl> & <dbl>\\\\\n",
       "\\hline\n",
       "\t1 & 6957 & 2618.481 & NA &        NA &      NA &           NA\\\\\n",
       "\t2 & 6964 & 2631.920 & -7 & -13.43877 & 5.10075 & 8.524689e-06\\\\\n",
       "\\end{tabular}\n"
      ],
      "text/markdown": [
       "\n",
       "A anova: 2 × 6\n",
       "\n",
       "| <!--/--> | Res.Df &lt;dbl&gt; | RSS &lt;dbl&gt; | Df &lt;dbl&gt; | Sum of Sq &lt;dbl&gt; | F &lt;dbl&gt; | Pr(&gt;F) &lt;dbl&gt; |\n",
       "|---|---|---|---|---|---|---|\n",
       "| 1 | 6957 | 2618.481 | NA |        NA |      NA |           NA |\n",
       "| 2 | 6964 | 2631.920 | -7 | -13.43877 | 5.10075 | 8.524689e-06 |\n",
       "\n"
      ],
      "text/plain": [
       "  Res.Df RSS      Df Sum of Sq F       Pr(>F)      \n",
       "1 6957   2618.481 NA        NA      NA           NA\n",
       "2 6964   2631.920 -7 -13.43877 5.10075 8.524689e-06"
      ]
     },
     "metadata": {},
     "output_type": "display_data"
    }
   ],
   "source": [
    "anova(model1,model2) # not much difference in the models"
   ]
  },
  {
   "cell_type": "markdown",
   "metadata": {},
   "source": [
    "### low p value form anova test indicates these models are statistically different."
   ]
  },
  {
   "cell_type": "markdown",
   "metadata": {},
   "source": [
    "## categories for the categorical variables"
   ]
  },
  {
   "cell_type": "code",
   "execution_count": 26,
   "metadata": {},
   "outputs": [
    {
     "data": {
      "text/html": [
       "<dl>\n",
       "\t<dt>$Hour</dt>\n",
       "\t\t<dd><style>\n",
       ".list-inline {list-style: none; margin:0; padding: 0}\n",
       ".list-inline>li {display: inline-block}\n",
       ".list-inline>li:not(:last-child)::after {content: \"\\00b7\"; padding: 0 .5ex}\n",
       "</style>\n",
       "<ol class=list-inline><li>14</li><li>5</li><li>9</li><li>17</li><li>10</li><li>8</li><li>1</li><li>20</li><li>18</li><li>7</li><li>22</li><li>3</li><li>2</li><li>4</li><li>12</li><li>0</li><li>23</li><li>16</li><li>11</li><li>21</li><li>13</li><li>19</li><li>15</li><li>6</li></ol>\n",
       "\n",
       "<details>\n",
       "\t<summary style=display:list-item;cursor:pointer>\n",
       "\t\t<strong>Levels</strong>:\n",
       "\t</summary>\n",
       "\t<style>\n",
       "\t.list-inline {list-style: none; margin:0; padding: 0}\n",
       "\t.list-inline>li {display: inline-block}\n",
       "\t.list-inline>li:not(:last-child)::after {content: \"\\00b7\"; padding: 0 .5ex}\n",
       "\t</style>\n",
       "\t<ol class=list-inline><li>'0'</li><li>'1'</li><li>'2'</li><li>'3'</li><li>'4'</li><li>'5'</li><li>'6'</li><li>'7'</li><li>'8'</li><li>'9'</li><li>'10'</li><li>'11'</li><li>'12'</li><li>'13'</li><li>'14'</li><li>'15'</li><li>'16'</li><li>'17'</li><li>'18'</li><li>'19'</li><li>'20'</li><li>'21'</li><li>'22'</li><li>'23'</li></ol>\n",
       "</details></dd>\n",
       "\t<dt>$Seasons</dt>\n",
       "\t\t<dd><style>\n",
       ".list-inline {list-style: none; margin:0; padding: 0}\n",
       ".list-inline>li {display: inline-block}\n",
       ".list-inline>li:not(:last-child)::after {content: \"\\00b7\"; padding: 0 .5ex}\n",
       "</style>\n",
       "<ol class=list-inline><li>Spring</li><li>Autumn</li><li>Winter</li><li>Summer</li></ol>\n",
       "\n",
       "<details>\n",
       "\t<summary style=display:list-item;cursor:pointer>\n",
       "\t\t<strong>Levels</strong>:\n",
       "\t</summary>\n",
       "\t<style>\n",
       "\t.list-inline {list-style: none; margin:0; padding: 0}\n",
       "\t.list-inline>li {display: inline-block}\n",
       "\t.list-inline>li:not(:last-child)::after {content: \"\\00b7\"; padding: 0 .5ex}\n",
       "\t</style>\n",
       "\t<ol class=list-inline><li>'Autumn'</li><li>'Spring'</li><li>'Summer'</li><li>'Winter'</li></ol>\n",
       "</details></dd>\n",
       "\t<dt>$Holiday</dt>\n",
       "\t\t<dd><style>\n",
       ".list-inline {list-style: none; margin:0; padding: 0}\n",
       ".list-inline>li {display: inline-block}\n",
       ".list-inline>li:not(:last-child)::after {content: \"\\00b7\"; padding: 0 .5ex}\n",
       "</style>\n",
       "<ol class=list-inline><li>No Holiday</li><li>Holiday</li></ol>\n",
       "\n",
       "<details>\n",
       "\t<summary style=display:list-item;cursor:pointer>\n",
       "\t\t<strong>Levels</strong>:\n",
       "\t</summary>\n",
       "\t<style>\n",
       "\t.list-inline {list-style: none; margin:0; padding: 0}\n",
       "\t.list-inline>li {display: inline-block}\n",
       "\t.list-inline>li:not(:last-child)::after {content: \"\\00b7\"; padding: 0 .5ex}\n",
       "\t</style>\n",
       "\t<ol class=list-inline><li>'Holiday'</li><li>'No Holiday'</li></ol>\n",
       "</details></dd>\n",
       "\t<dt>$Fday</dt>\n",
       "\t\t<dd><style>\n",
       ".list-inline {list-style: none; margin:0; padding: 0}\n",
       ".list-inline>li {display: inline-block}\n",
       ".list-inline>li:not(:last-child)::after {content: \"\\00b7\"; padding: 0 .5ex}\n",
       "</style>\n",
       "<ol class=list-inline><li>Yes</li><li>No</li></ol>\n",
       "\n",
       "<details>\n",
       "\t<summary style=display:list-item;cursor:pointer>\n",
       "\t\t<strong>Levels</strong>:\n",
       "\t</summary>\n",
       "\t<style>\n",
       "\t.list-inline {list-style: none; margin:0; padding: 0}\n",
       "\t.list-inline>li {display: inline-block}\n",
       "\t.list-inline>li:not(:last-child)::after {content: \"\\00b7\"; padding: 0 .5ex}\n",
       "\t</style>\n",
       "\t<ol class=list-inline><li>'No'</li><li>'Yes'</li></ol>\n",
       "</details></dd>\n",
       "\t<dt>$days</dt>\n",
       "\t\t<dd><style>\n",
       ".list-inline {list-style: none; margin:0; padding: 0}\n",
       ".list-inline>li {display: inline-block}\n",
       ".list-inline>li:not(:last-child)::after {content: \"\\00b7\"; padding: 0 .5ex}\n",
       "</style>\n",
       "<ol class=list-inline><li>Wednesday</li><li>Friday</li><li>Tuesday</li><li>Monday</li><li>Saturday</li><li>Thursday</li><li>Sunday</li></ol>\n",
       "\n",
       "<details>\n",
       "\t<summary style=display:list-item;cursor:pointer>\n",
       "\t\t<strong>Levels</strong>:\n",
       "\t</summary>\n",
       "\t<style>\n",
       "\t.list-inline {list-style: none; margin:0; padding: 0}\n",
       "\t.list-inline>li {display: inline-block}\n",
       "\t.list-inline>li:not(:last-child)::after {content: \"\\00b7\"; padding: 0 .5ex}\n",
       "\t</style>\n",
       "\t<ol class=list-inline><li>'Monday'</li><li>'Tuesday'</li><li>'Wednesday'</li><li>'Thursday'</li><li>'Friday'</li><li>'Saturday'</li><li>'Sunday'</li></ol>\n",
       "</details></dd>\n",
       "\t<dt>$months</dt>\n",
       "\t\t<dd><style>\n",
       ".list-inline {list-style: none; margin:0; padding: 0}\n",
       ".list-inline>li {display: inline-block}\n",
       ".list-inline>li:not(:last-child)::after {content: \"\\00b7\"; padding: 0 .5ex}\n",
       "</style>\n",
       "<ol class=list-inline><li>March</li><li>November</li><li>April</li><li>February</li><li>June</li><li>September</li><li>July</li><li>August</li><li>December</li><li>October</li><li>January</li><li>May</li></ol>\n",
       "\n",
       "<details>\n",
       "\t<summary style=display:list-item;cursor:pointer>\n",
       "\t\t<strong>Levels</strong>:\n",
       "\t</summary>\n",
       "\t<style>\n",
       "\t.list-inline {list-style: none; margin:0; padding: 0}\n",
       "\t.list-inline>li {display: inline-block}\n",
       "\t.list-inline>li:not(:last-child)::after {content: \"\\00b7\"; padding: 0 .5ex}\n",
       "\t</style>\n",
       "\t<ol class=list-inline><li>'January'</li><li>'February'</li><li>'March'</li><li>'April'</li><li>'May'</li><li>'June'</li><li>'July'</li><li>'August'</li><li>'September'</li><li>'October'</li><li>'November'</li><li>'December'</li></ol>\n",
       "</details></dd>\n",
       "</dl>\n"
      ],
      "text/latex": [
       "\\begin{description}\n",
       "\\item[\\$Hour] \\begin{enumerate*}\n",
       "\\item 14\n",
       "\\item 5\n",
       "\\item 9\n",
       "\\item 17\n",
       "\\item 10\n",
       "\\item 8\n",
       "\\item 1\n",
       "\\item 20\n",
       "\\item 18\n",
       "\\item 7\n",
       "\\item 22\n",
       "\\item 3\n",
       "\\item 2\n",
       "\\item 4\n",
       "\\item 12\n",
       "\\item 0\n",
       "\\item 23\n",
       "\\item 16\n",
       "\\item 11\n",
       "\\item 21\n",
       "\\item 13\n",
       "\\item 19\n",
       "\\item 15\n",
       "\\item 6\n",
       "\\end{enumerate*}\n",
       "\n",
       "\\emph{Levels}: \\begin{enumerate*}\n",
       "\\item '0'\n",
       "\\item '1'\n",
       "\\item '2'\n",
       "\\item '3'\n",
       "\\item '4'\n",
       "\\item '5'\n",
       "\\item '6'\n",
       "\\item '7'\n",
       "\\item '8'\n",
       "\\item '9'\n",
       "\\item '10'\n",
       "\\item '11'\n",
       "\\item '12'\n",
       "\\item '13'\n",
       "\\item '14'\n",
       "\\item '15'\n",
       "\\item '16'\n",
       "\\item '17'\n",
       "\\item '18'\n",
       "\\item '19'\n",
       "\\item '20'\n",
       "\\item '21'\n",
       "\\item '22'\n",
       "\\item '23'\n",
       "\\end{enumerate*}\n",
       "\n",
       "\\item[\\$Seasons] \\begin{enumerate*}\n",
       "\\item Spring\n",
       "\\item Autumn\n",
       "\\item Winter\n",
       "\\item Summer\n",
       "\\end{enumerate*}\n",
       "\n",
       "\\emph{Levels}: \\begin{enumerate*}\n",
       "\\item 'Autumn'\n",
       "\\item 'Spring'\n",
       "\\item 'Summer'\n",
       "\\item 'Winter'\n",
       "\\end{enumerate*}\n",
       "\n",
       "\\item[\\$Holiday] \\begin{enumerate*}\n",
       "\\item No Holiday\n",
       "\\item Holiday\n",
       "\\end{enumerate*}\n",
       "\n",
       "\\emph{Levels}: \\begin{enumerate*}\n",
       "\\item 'Holiday'\n",
       "\\item 'No Holiday'\n",
       "\\end{enumerate*}\n",
       "\n",
       "\\item[\\$Fday] \\begin{enumerate*}\n",
       "\\item Yes\n",
       "\\item No\n",
       "\\end{enumerate*}\n",
       "\n",
       "\\emph{Levels}: \\begin{enumerate*}\n",
       "\\item 'No'\n",
       "\\item 'Yes'\n",
       "\\end{enumerate*}\n",
       "\n",
       "\\item[\\$days] \\begin{enumerate*}\n",
       "\\item Wednesday\n",
       "\\item Friday\n",
       "\\item Tuesday\n",
       "\\item Monday\n",
       "\\item Saturday\n",
       "\\item Thursday\n",
       "\\item Sunday\n",
       "\\end{enumerate*}\n",
       "\n",
       "\\emph{Levels}: \\begin{enumerate*}\n",
       "\\item 'Monday'\n",
       "\\item 'Tuesday'\n",
       "\\item 'Wednesday'\n",
       "\\item 'Thursday'\n",
       "\\item 'Friday'\n",
       "\\item 'Saturday'\n",
       "\\item 'Sunday'\n",
       "\\end{enumerate*}\n",
       "\n",
       "\\item[\\$months] \\begin{enumerate*}\n",
       "\\item March\n",
       "\\item November\n",
       "\\item April\n",
       "\\item February\n",
       "\\item June\n",
       "\\item September\n",
       "\\item July\n",
       "\\item August\n",
       "\\item December\n",
       "\\item October\n",
       "\\item January\n",
       "\\item May\n",
       "\\end{enumerate*}\n",
       "\n",
       "\\emph{Levels}: \\begin{enumerate*}\n",
       "\\item 'January'\n",
       "\\item 'February'\n",
       "\\item 'March'\n",
       "\\item 'April'\n",
       "\\item 'May'\n",
       "\\item 'June'\n",
       "\\item 'July'\n",
       "\\item 'August'\n",
       "\\item 'September'\n",
       "\\item 'October'\n",
       "\\item 'November'\n",
       "\\item 'December'\n",
       "\\end{enumerate*}\n",
       "\n",
       "\\end{description}\n"
      ],
      "text/markdown": [
       "$Hour\n",
       ":   1. 14\n",
       "2. 5\n",
       "3. 9\n",
       "4. 17\n",
       "5. 10\n",
       "6. 8\n",
       "7. 1\n",
       "8. 20\n",
       "9. 18\n",
       "10. 7\n",
       "11. 22\n",
       "12. 3\n",
       "13. 2\n",
       "14. 4\n",
       "15. 12\n",
       "16. 0\n",
       "17. 23\n",
       "18. 16\n",
       "19. 11\n",
       "20. 21\n",
       "21. 13\n",
       "22. 19\n",
       "23. 15\n",
       "24. 6\n",
       "\n",
       "\n",
       "\n",
       "**Levels**: 1. '0'\n",
       "2. '1'\n",
       "3. '2'\n",
       "4. '3'\n",
       "5. '4'\n",
       "6. '5'\n",
       "7. '6'\n",
       "8. '7'\n",
       "9. '8'\n",
       "10. '9'\n",
       "11. '10'\n",
       "12. '11'\n",
       "13. '12'\n",
       "14. '13'\n",
       "15. '14'\n",
       "16. '15'\n",
       "17. '16'\n",
       "18. '17'\n",
       "19. '18'\n",
       "20. '19'\n",
       "21. '20'\n",
       "22. '21'\n",
       "23. '22'\n",
       "24. '23'\n",
       "\n",
       "\n",
       "\n",
       "$Seasons\n",
       ":   1. Spring\n",
       "2. Autumn\n",
       "3. Winter\n",
       "4. Summer\n",
       "\n",
       "\n",
       "\n",
       "**Levels**: 1. 'Autumn'\n",
       "2. 'Spring'\n",
       "3. 'Summer'\n",
       "4. 'Winter'\n",
       "\n",
       "\n",
       "\n",
       "$Holiday\n",
       ":   1. No Holiday\n",
       "2. Holiday\n",
       "\n",
       "\n",
       "\n",
       "**Levels**: 1. 'Holiday'\n",
       "2. 'No Holiday'\n",
       "\n",
       "\n",
       "\n",
       "$Fday\n",
       ":   1. Yes\n",
       "2. No\n",
       "\n",
       "\n",
       "\n",
       "**Levels**: 1. 'No'\n",
       "2. 'Yes'\n",
       "\n",
       "\n",
       "\n",
       "$days\n",
       ":   1. Wednesday\n",
       "2. Friday\n",
       "3. Tuesday\n",
       "4. Monday\n",
       "5. Saturday\n",
       "6. Thursday\n",
       "7. Sunday\n",
       "\n",
       "\n",
       "\n",
       "**Levels**: 1. 'Monday'\n",
       "2. 'Tuesday'\n",
       "3. 'Wednesday'\n",
       "4. 'Thursday'\n",
       "5. 'Friday'\n",
       "6. 'Saturday'\n",
       "7. 'Sunday'\n",
       "\n",
       "\n",
       "\n",
       "$months\n",
       ":   1. March\n",
       "2. November\n",
       "3. April\n",
       "4. February\n",
       "5. June\n",
       "6. September\n",
       "7. July\n",
       "8. August\n",
       "9. December\n",
       "10. October\n",
       "11. January\n",
       "12. May\n",
       "\n",
       "\n",
       "\n",
       "**Levels**: 1. 'January'\n",
       "2. 'February'\n",
       "3. 'March'\n",
       "4. 'April'\n",
       "5. 'May'\n",
       "6. 'June'\n",
       "7. 'July'\n",
       "8. 'August'\n",
       "9. 'September'\n",
       "10. 'October'\n",
       "11. 'November'\n",
       "12. 'December'\n",
       "\n",
       "\n",
       "\n",
       "\n",
       "\n"
      ],
      "text/plain": [
       "$Hour\n",
       " [1] 14 5  9  17 10 8  1  20 18 7  22 3  2  4  12 0  23 16 11 21 13 19 15 6 \n",
       "Levels: 0 1 2 3 4 5 6 7 8 9 10 11 12 13 14 15 16 17 18 19 20 21 22 23\n",
       "\n",
       "$Seasons\n",
       "[1] Spring Autumn Winter Summer\n",
       "Levels: Autumn Spring Summer Winter\n",
       "\n",
       "$Holiday\n",
       "[1] No Holiday Holiday   \n",
       "Levels: Holiday No Holiday\n",
       "\n",
       "$Fday\n",
       "[1] Yes No \n",
       "Levels: No Yes\n",
       "\n",
       "$days\n",
       "[1] Wednesday Friday    Tuesday   Monday    Saturday  Thursday  Sunday   \n",
       "Levels: Monday Tuesday Wednesday Thursday Friday Saturday Sunday\n",
       "\n",
       "$months\n",
       " [1] March     November  April     February  June      September July     \n",
       " [8] August    December  October   January   May      \n",
       "12 Levels: January February March April May June July August ... December\n"
      ]
     },
     "metadata": {},
     "output_type": "display_data"
    }
   ],
   "source": [
    "sapply(data[c(3,12,13,14,15,16)], unique)"
   ]
  },
  {
   "cell_type": "markdown",
   "metadata": {},
   "source": [
    "## Earlier we observed that Temp and Dtemp are highly correlated"
   ]
  },
  {
   "cell_type": "code",
   "execution_count": 27,
   "metadata": {
    "scrolled": true
   },
   "outputs": [
    {
     "data": {
      "text/plain": [
       "\n",
       "Call:\n",
       "lm(formula = log(BikeCount + 1) ~ Hour + Temp + Humidity + Wind.speed + \n",
       "    Visibility + DPtemp + SR + Rainfall + Seasons + Holiday + \n",
       "    Fday + months + Temp:DPtemp, data = subset(data, select = c(-Snowfall, \n",
       "    -days)))\n",
       "\n",
       "Residuals:\n",
       "    Min      1Q  Median      3Q     Max \n",
       "-4.6361 -0.2221  0.0822  0.3460  6.3558 \n",
       "\n",
       "Coefficients: (3 not defined because of singularities)\n",
       "                    Estimate Std. Error t value Pr(>|t|)    \n",
       "(Intercept)        1.672e+00  1.619e-01  10.329  < 2e-16 ***\n",
       "Hour1             -1.909e-01  5.069e-02  -3.766 0.000167 ***\n",
       "Hour2             -5.016e-01  5.056e-02  -9.920  < 2e-16 ***\n",
       "Hour3             -8.571e-01  5.028e-02 -17.044  < 2e-16 ***\n",
       "Hour4             -1.207e+00  5.084e-02 -23.746  < 2e-16 ***\n",
       "Hour5             -1.171e+00  5.057e-02 -23.164  < 2e-16 ***\n",
       "Hour6             -5.289e-01  5.074e-02 -10.422  < 2e-16 ***\n",
       "Hour7              8.154e-02  5.058e-02   1.612 0.107004    \n",
       "Hour8              4.993e-01  5.048e-02   9.893  < 2e-16 ***\n",
       "Hour9              4.313e-02  5.235e-02   0.824 0.410038    \n",
       "Hour10            -3.636e-01  5.382e-02  -6.755 1.54e-11 ***\n",
       "Hour11            -3.396e-01  5.607e-02  -6.056 1.46e-09 ***\n",
       "Hour12            -3.012e-01  5.823e-02  -5.173 2.37e-07 ***\n",
       "Hour13            -2.755e-01  5.912e-02  -4.660 3.23e-06 ***\n",
       "Hour14            -3.099e-01  5.772e-02  -5.369 8.16e-08 ***\n",
       "Hour15            -1.923e-01  5.633e-02  -3.414 0.000645 ***\n",
       "Hour16            -6.555e-02  5.478e-02  -1.197 0.231539    \n",
       "Hour17             1.675e-01  5.305e-02   3.157 0.001603 ** \n",
       "Hour18             5.523e-01  5.228e-02  10.565  < 2e-16 ***\n",
       "Hour19             3.520e-01  5.195e-02   6.775 1.34e-11 ***\n",
       "Hour20             3.356e-01  5.133e-02   6.538 6.69e-11 ***\n",
       "Hour21             3.729e-01  5.102e-02   7.309 2.99e-13 ***\n",
       "Hour22             3.071e-01  5.016e-02   6.123 9.66e-10 ***\n",
       "Hour23             4.620e-02  5.055e-02   0.914 0.360726    \n",
       "Temp              -2.913e-02  6.099e-03  -4.777 1.82e-06 ***\n",
       "Humidity          -3.410e-02  1.637e-03 -20.831  < 2e-16 ***\n",
       "Wind.speed        -1.297e-02  8.522e-03  -1.522 0.127942    \n",
       "Visibility         1.287e-04  1.823e-05   7.062 1.80e-12 ***\n",
       "DPtemp             8.840e-02  6.354e-03  13.913  < 2e-16 ***\n",
       "SR                 9.748e-02  1.831e-02   5.325 1.04e-07 ***\n",
       "Rainfall          -1.999e-01  6.578e-03 -30.388  < 2e-16 ***\n",
       "SeasonsSpring     -2.583e-01  4.333e-02  -5.960 2.64e-09 ***\n",
       "SeasonsSummer     -4.247e-01  7.013e-02  -6.056 1.47e-09 ***\n",
       "SeasonsWinter     -6.833e-01  4.378e-02 -15.606  < 2e-16 ***\n",
       "HolidayNo Holiday  4.025e-01  3.440e-02  11.701  < 2e-16 ***\n",
       "FdayYes            6.510e+00  4.183e-02 155.634  < 2e-16 ***\n",
       "monthsFebruary    -1.188e-01  3.727e-02  -3.187 0.001443 ** \n",
       "monthsMarch       -1.944e-01  4.246e-02  -4.579 4.76e-06 ***\n",
       "monthsApril       -1.933e-01  3.860e-02  -5.009 5.61e-07 ***\n",
       "monthsMay                 NA         NA      NA       NA    \n",
       "monthsJune         4.556e-01  4.357e-02  10.455  < 2e-16 ***\n",
       "monthsJuly         9.640e-02  3.582e-02   2.691 0.007143 ** \n",
       "monthsAugust              NA         NA      NA       NA    \n",
       "monthsSeptember   -2.228e-01  5.181e-02  -4.300 1.73e-05 ***\n",
       "monthsOctober     -2.683e-02  3.923e-02  -0.684 0.494021    \n",
       "monthsNovember            NA         NA      NA       NA    \n",
       "monthsDecember     2.053e-01  3.620e-02   5.672 1.47e-08 ***\n",
       "Temp:DPtemp       -8.243e-04  7.753e-05 -10.632  < 2e-16 ***\n",
       "---\n",
       "Signif. codes:  0 '***' 0.001 '**' 0.01 '*' 0.05 '.' 0.1 ' ' 1\n",
       "\n",
       "Residual standard error: 0.6099 on 6963 degrees of freedom\n",
       "Multiple R-squared:  0.8533,\tAdjusted R-squared:  0.8523 \n",
       "F-statistic: 920.2 on 44 and 6963 DF,  p-value: < 2.2e-16\n"
      ]
     },
     "metadata": {},
     "output_type": "display_data"
    }
   ],
   "source": [
    "model3 = update(model2, . ~ . + Temp: DPtemp ) # using interaction term\n",
    "summary(model3)"
   ]
  },
  {
   "cell_type": "code",
   "execution_count": 28,
   "metadata": {},
   "outputs": [
    {
     "data": {
      "text/html": [
       "<table>\n",
       "<caption>A anova: 2 × 6</caption>\n",
       "<thead>\n",
       "\t<tr><th></th><th scope=col>Res.Df</th><th scope=col>RSS</th><th scope=col>Df</th><th scope=col>Sum of Sq</th><th scope=col>F</th><th scope=col>Pr(&gt;F)</th></tr>\n",
       "\t<tr><th></th><th scope=col>&lt;dbl&gt;</th><th scope=col>&lt;dbl&gt;</th><th scope=col>&lt;dbl&gt;</th><th scope=col>&lt;dbl&gt;</th><th scope=col>&lt;dbl&gt;</th><th scope=col>&lt;dbl&gt;</th></tr>\n",
       "</thead>\n",
       "<tbody>\n",
       "\t<tr><th scope=row>1</th><td>6964</td><td>2631.920</td><td>NA</td><td>      NA</td><td>     NA</td><td>          NA</td></tr>\n",
       "\t<tr><th scope=row>2</th><td>6963</td><td>2589.873</td><td> 1</td><td>42.04723</td><td>113.046</td><td>3.346094e-26</td></tr>\n",
       "</tbody>\n",
       "</table>\n"
      ],
      "text/latex": [
       "A anova: 2 × 6\n",
       "\\begin{tabular}{r|llllll}\n",
       "  & Res.Df & RSS & Df & Sum of Sq & F & Pr(>F)\\\\\n",
       "  & <dbl> & <dbl> & <dbl> & <dbl> & <dbl> & <dbl>\\\\\n",
       "\\hline\n",
       "\t1 & 6964 & 2631.920 & NA &       NA &      NA &           NA\\\\\n",
       "\t2 & 6963 & 2589.873 &  1 & 42.04723 & 113.046 & 3.346094e-26\\\\\n",
       "\\end{tabular}\n"
      ],
      "text/markdown": [
       "\n",
       "A anova: 2 × 6\n",
       "\n",
       "| <!--/--> | Res.Df &lt;dbl&gt; | RSS &lt;dbl&gt; | Df &lt;dbl&gt; | Sum of Sq &lt;dbl&gt; | F &lt;dbl&gt; | Pr(&gt;F) &lt;dbl&gt; |\n",
       "|---|---|---|---|---|---|---|\n",
       "| 1 | 6964 | 2631.920 | NA |       NA |      NA |           NA |\n",
       "| 2 | 6963 | 2589.873 |  1 | 42.04723 | 113.046 | 3.346094e-26 |\n",
       "\n"
      ],
      "text/plain": [
       "  Res.Df RSS      Df Sum of Sq F       Pr(>F)      \n",
       "1 6964   2631.920 NA       NA       NA           NA\n",
       "2 6963   2589.873  1 42.04723  113.046 3.346094e-26"
      ]
     },
     "metadata": {},
     "output_type": "display_data"
    }
   ],
   "source": [
    "anova(model2, model3)"
   ]
  },
  {
   "cell_type": "markdown",
   "metadata": {},
   "source": [
    "## the anova table small p value indicated that addinf the interaction term Temp: DPtemp was a success as both models are statistically different."
   ]
  },
  {
   "cell_type": "markdown",
   "metadata": {},
   "source": [
    "## wind speed is no longer well associated (p value 0.127942) so removing it."
   ]
  },
  {
   "cell_type": "code",
   "execution_count": 29,
   "metadata": {
    "scrolled": true
   },
   "outputs": [
    {
     "data": {
      "text/plain": [
       "\n",
       "Call:\n",
       "lm(formula = log(BikeCount + 1) ~ Hour + Temp + Humidity + Visibility + \n",
       "    DPtemp + SR + Rainfall + Seasons + Holiday + Fday + months + \n",
       "    Temp:DPtemp, data = subset(data, select = c(-Snowfall, -days)))\n",
       "\n",
       "Residuals:\n",
       "    Min      1Q  Median      3Q     Max \n",
       "-4.6417 -0.2189  0.0820  0.3473  6.3567 \n",
       "\n",
       "Coefficients: (3 not defined because of singularities)\n",
       "                    Estimate Std. Error t value Pr(>|t|)    \n",
       "(Intercept)        1.659e+00  1.617e-01  10.263  < 2e-16 ***\n",
       "Hour1             -1.893e-01  5.068e-02  -3.735 0.000189 ***\n",
       "Hour2             -4.984e-01  5.052e-02  -9.864  < 2e-16 ***\n",
       "Hour3             -8.532e-01  5.022e-02 -16.987  < 2e-16 ***\n",
       "Hour4             -1.204e+00  5.079e-02 -23.698  < 2e-16 ***\n",
       "Hour5             -1.167e+00  5.049e-02 -23.112  < 2e-16 ***\n",
       "Hour6             -5.246e-01  5.067e-02 -10.353  < 2e-16 ***\n",
       "Hour7              8.579e-02  5.051e-02   1.699 0.089458 .  \n",
       "Hour8              5.031e-01  5.042e-02   9.977  < 2e-16 ***\n",
       "Hour9              4.549e-02  5.233e-02   0.869 0.384738    \n",
       "Hour10            -3.618e-01  5.382e-02  -6.723 1.92e-11 ***\n",
       "Hour11            -3.401e-01  5.608e-02  -6.066 1.38e-09 ***\n",
       "Hour12            -3.026e-01  5.823e-02  -5.197 2.09e-07 ***\n",
       "Hour13            -2.801e-01  5.905e-02  -4.743 2.15e-06 ***\n",
       "Hour14            -3.157e-01  5.760e-02  -5.480 4.40e-08 ***\n",
       "Hour15            -2.006e-01  5.607e-02  -3.578 0.000348 ***\n",
       "Hour16            -7.517e-02  5.442e-02  -1.381 0.167250    \n",
       "Hour17             1.567e-01  5.259e-02   2.980 0.002892 ** \n",
       "Hour18             5.429e-01  5.192e-02  10.457  < 2e-16 ***\n",
       "Hour19             3.436e-01  5.166e-02   6.651 3.14e-11 ***\n",
       "Hour20             3.287e-01  5.114e-02   6.429 1.37e-10 ***\n",
       "Hour21             3.684e-01  5.094e-02   7.232 5.28e-13 ***\n",
       "Hour22             3.057e-01  5.015e-02   6.095 1.16e-09 ***\n",
       "Hour23             4.538e-02  5.055e-02   0.898 0.369335    \n",
       "Temp              -2.900e-02  6.099e-03  -4.756 2.02e-06 ***\n",
       "Humidity          -3.416e-02  1.637e-03 -20.872  < 2e-16 ***\n",
       "Visibility         1.267e-04  1.818e-05   6.969 3.47e-12 ***\n",
       "DPtemp             8.872e-02  6.351e-03  13.969  < 2e-16 ***\n",
       "SR                 9.341e-02  1.811e-02   5.158 2.57e-07 ***\n",
       "Rainfall          -2.001e-01  6.576e-03 -30.432  < 2e-16 ***\n",
       "SeasonsSpring     -2.628e-01  4.323e-02  -6.078 1.28e-09 ***\n",
       "SeasonsSummer     -4.266e-01  7.013e-02  -6.083 1.24e-09 ***\n",
       "SeasonsWinter     -6.835e-01  4.379e-02 -15.609  < 2e-16 ***\n",
       "HolidayNo Holiday  4.034e-01  3.439e-02  11.730  < 2e-16 ***\n",
       "FdayYes            6.513e+00  4.180e-02 155.797  < 2e-16 ***\n",
       "monthsFebruary    -1.227e-01  3.719e-02  -3.301 0.000969 ***\n",
       "monthsMarch       -1.961e-01  4.245e-02  -4.620 3.91e-06 ***\n",
       "monthsApril       -1.963e-01  3.855e-02  -5.092 3.64e-07 ***\n",
       "monthsMay                 NA         NA      NA       NA    \n",
       "monthsJune         4.543e-01  4.357e-02  10.426  < 2e-16 ***\n",
       "monthsJuly         9.910e-02  3.578e-02   2.769 0.005633 ** \n",
       "monthsAugust              NA         NA      NA       NA    \n",
       "monthsSeptember   -2.242e-01  5.181e-02  -4.328 1.53e-05 ***\n",
       "monthsOctober     -2.835e-02  3.922e-02  -0.723 0.469910    \n",
       "monthsNovember            NA         NA      NA       NA    \n",
       "monthsDecember     2.052e-01  3.620e-02   5.667 1.51e-08 ***\n",
       "Temp:DPtemp       -8.395e-04  7.689e-05 -10.917  < 2e-16 ***\n",
       "---\n",
       "Signif. codes:  0 '***' 0.001 '**' 0.01 '*' 0.05 '.' 0.1 ' ' 1\n",
       "\n",
       "Residual standard error: 0.6099 on 6964 degrees of freedom\n",
       "Multiple R-squared:  0.8532,\tAdjusted R-squared:  0.8523 \n",
       "F-statistic: 941.4 on 43 and 6964 DF,  p-value: < 2.2e-16\n"
      ]
     },
     "metadata": {},
     "output_type": "display_data"
    }
   ],
   "source": [
    "model3 = update(model3, . ~ . - Wind.speed)\n",
    "summary(model3)"
   ]
  },
  {
   "cell_type": "markdown",
   "metadata": {},
   "source": [
    "## Doing some more testing"
   ]
  },
  {
   "cell_type": "code",
   "execution_count": 30,
   "metadata": {
    "scrolled": true
   },
   "outputs": [
    {
     "data": {
      "text/plain": [
       "\n",
       "Call:\n",
       "lm(formula = log(BikeCount + 1) ~ Hour + Temp + Humidity + Visibility + \n",
       "    DPtemp + Seasons + Holiday + Fday + months + log(Rainfall + \n",
       "    1) + log(SR + 1) + Temp:DPtemp, data = subset(data, select = c(-Snowfall, \n",
       "    -days)))\n",
       "\n",
       "Residuals:\n",
       "    Min      1Q  Median      3Q     Max \n",
       "-4.3696 -0.2156  0.0719  0.3047  4.2970 \n",
       "\n",
       "Coefficients: (3 not defined because of singularities)\n",
       "                    Estimate Std. Error t value Pr(>|t|)    \n",
       "(Intercept)        9.064e-01  1.476e-01   6.141 8.67e-10 ***\n",
       "Hour1             -2.125e-01  4.595e-02  -4.624 3.83e-06 ***\n",
       "Hour2             -5.215e-01  4.581e-02 -11.383  < 2e-16 ***\n",
       "Hour3             -8.405e-01  4.554e-02 -18.457  < 2e-16 ***\n",
       "Hour4             -1.235e+00  4.606e-02 -26.808  < 2e-16 ***\n",
       "Hour5             -1.209e+00  4.579e-02 -26.395  < 2e-16 ***\n",
       "Hour6             -5.561e-01  4.595e-02 -12.100  < 2e-16 ***\n",
       "Hour7              3.944e-02  4.592e-02   0.859 0.390438    \n",
       "Hour8              4.628e-01  4.648e-02   9.957  < 2e-16 ***\n",
       "Hour9              5.668e-02  4.942e-02   1.147 0.251444    \n",
       "Hour10            -3.577e-01  5.184e-02  -6.900 5.67e-12 ***\n",
       "Hour11            -3.207e-01  5.407e-02  -5.931 3.16e-09 ***\n",
       "Hour12            -2.336e-01  5.587e-02  -4.180 2.95e-05 ***\n",
       "Hour13            -2.401e-01  5.644e-02  -4.253 2.13e-05 ***\n",
       "Hour14            -2.654e-01  5.514e-02  -4.812 1.52e-06 ***\n",
       "Hour15            -1.514e-01  5.370e-02  -2.819 0.004834 ** \n",
       "Hour16            -4.344e-02  5.166e-02  -0.841 0.400405    \n",
       "Hour17             2.038e-01  4.901e-02   4.158 3.25e-05 ***\n",
       "Hour18             5.943e-01  4.743e-02  12.531  < 2e-16 ***\n",
       "Hour19             3.910e-01  4.683e-02   8.349  < 2e-16 ***\n",
       "Hour20             3.533e-01  4.635e-02   7.622 2.82e-14 ***\n",
       "Hour21             4.012e-01  4.620e-02   8.686  < 2e-16 ***\n",
       "Hour22             3.104e-01  4.547e-02   6.826 9.44e-12 ***\n",
       "Hour23             5.638e-02  4.583e-02   1.230 0.218725    \n",
       "Temp              -1.050e-02  5.528e-03  -1.900 0.057433 .  \n",
       "Humidity          -2.338e-02  1.508e-03 -15.506  < 2e-16 ***\n",
       "Visibility         8.933e-05  1.652e-05   5.409 6.56e-08 ***\n",
       "DPtemp             6.097e-02  5.785e-03  10.539  < 2e-16 ***\n",
       "SeasonsSpring     -1.394e-01  3.937e-02  -3.541 0.000401 ***\n",
       "SeasonsSummer     -2.725e-01  6.367e-02  -4.280 1.90e-05 ***\n",
       "SeasonsWinter     -7.325e-01  3.973e-02 -18.436  < 2e-16 ***\n",
       "HolidayNo Holiday  3.926e-01  3.118e-02  12.591  < 2e-16 ***\n",
       "FdayYes            6.521e+00  3.790e-02 172.045  < 2e-16 ***\n",
       "monthsFebruary    -9.746e-02  3.377e-02  -2.886 0.003914 ** \n",
       "monthsMarch       -3.290e-01  3.864e-02  -8.514  < 2e-16 ***\n",
       "monthsApril       -2.199e-01  3.497e-02  -6.288 3.41e-10 ***\n",
       "monthsMay                 NA         NA      NA       NA    \n",
       "monthsJune         4.043e-01  3.951e-02  10.233  < 2e-16 ***\n",
       "monthsJuly         7.826e-02  3.246e-02   2.411 0.015926 *  \n",
       "monthsAugust              NA         NA      NA       NA    \n",
       "monthsSeptember   -1.109e-01  4.706e-02  -2.357 0.018467 *  \n",
       "monthsOctober      5.833e-02  3.565e-02   1.636 0.101871    \n",
       "monthsNovember            NA         NA      NA       NA    \n",
       "monthsDecember     1.976e-01  3.282e-02   6.021 1.83e-09 ***\n",
       "log(Rainfall + 1) -1.331e+00  2.635e-02 -50.505  < 2e-16 ***\n",
       "log(SR + 1)        2.053e-01  3.715e-02   5.525 3.41e-08 ***\n",
       "Temp:DPtemp       -7.525e-04  6.978e-05 -10.784  < 2e-16 ***\n",
       "---\n",
       "Signif. codes:  0 '***' 0.001 '**' 0.01 '*' 0.05 '.' 0.1 ' ' 1\n",
       "\n",
       "Residual standard error: 0.553 on 6964 degrees of freedom\n",
       "Multiple R-squared:  0.8793,\tAdjusted R-squared:  0.8786 \n",
       "F-statistic:  1180 on 43 and 6964 DF,  p-value: < 2.2e-16\n"
      ]
     },
     "metadata": {},
     "output_type": "display_data"
    }
   ],
   "source": [
    "\n",
    "summary(update(model3, . ~ . - Rainfall + log(Rainfall+1)- SR + log(SR+1)))"
   ]
  },
  {
   "cell_type": "markdown",
   "metadata": {},
   "source": [
    "## we can see that log transformation of rainfall and solar radiation was a success as Adjusted R-squared improved quite a lot"
   ]
  },
  {
   "cell_type": "code",
   "execution_count": 31,
   "metadata": {
    "scrolled": true
   },
   "outputs": [
    {
     "data": {
      "text/plain": [
       "\n",
       "Call:\n",
       "lm(formula = log(BikeCount + 1) ~ Hour + Temp + Humidity + Visibility + \n",
       "    DPtemp + Seasons + Holiday + Fday + months + log(Rainfall + \n",
       "    1) + log(SR + 1) + Temp:DPtemp, data = subset(data, select = c(-Snowfall, \n",
       "    -days)))\n",
       "\n",
       "Residuals:\n",
       "    Min      1Q  Median      3Q     Max \n",
       "-4.3696 -0.2156  0.0719  0.3047  4.2970 \n",
       "\n",
       "Coefficients: (3 not defined because of singularities)\n",
       "                    Estimate Std. Error t value Pr(>|t|)    \n",
       "(Intercept)        9.064e-01  1.476e-01   6.141 8.67e-10 ***\n",
       "Hour1             -2.125e-01  4.595e-02  -4.624 3.83e-06 ***\n",
       "Hour2             -5.215e-01  4.581e-02 -11.383  < 2e-16 ***\n",
       "Hour3             -8.405e-01  4.554e-02 -18.457  < 2e-16 ***\n",
       "Hour4             -1.235e+00  4.606e-02 -26.808  < 2e-16 ***\n",
       "Hour5             -1.209e+00  4.579e-02 -26.395  < 2e-16 ***\n",
       "Hour6             -5.561e-01  4.595e-02 -12.100  < 2e-16 ***\n",
       "Hour7              3.944e-02  4.592e-02   0.859 0.390438    \n",
       "Hour8              4.628e-01  4.648e-02   9.957  < 2e-16 ***\n",
       "Hour9              5.668e-02  4.942e-02   1.147 0.251444    \n",
       "Hour10            -3.577e-01  5.184e-02  -6.900 5.67e-12 ***\n",
       "Hour11            -3.207e-01  5.407e-02  -5.931 3.16e-09 ***\n",
       "Hour12            -2.336e-01  5.587e-02  -4.180 2.95e-05 ***\n",
       "Hour13            -2.401e-01  5.644e-02  -4.253 2.13e-05 ***\n",
       "Hour14            -2.654e-01  5.514e-02  -4.812 1.52e-06 ***\n",
       "Hour15            -1.514e-01  5.370e-02  -2.819 0.004834 ** \n",
       "Hour16            -4.344e-02  5.166e-02  -0.841 0.400405    \n",
       "Hour17             2.038e-01  4.901e-02   4.158 3.25e-05 ***\n",
       "Hour18             5.943e-01  4.743e-02  12.531  < 2e-16 ***\n",
       "Hour19             3.910e-01  4.683e-02   8.349  < 2e-16 ***\n",
       "Hour20             3.533e-01  4.635e-02   7.622 2.82e-14 ***\n",
       "Hour21             4.012e-01  4.620e-02   8.686  < 2e-16 ***\n",
       "Hour22             3.104e-01  4.547e-02   6.826 9.44e-12 ***\n",
       "Hour23             5.638e-02  4.583e-02   1.230 0.218725    \n",
       "Temp              -1.050e-02  5.528e-03  -1.900 0.057433 .  \n",
       "Humidity          -2.338e-02  1.508e-03 -15.506  < 2e-16 ***\n",
       "Visibility         8.933e-05  1.652e-05   5.409 6.56e-08 ***\n",
       "DPtemp             6.097e-02  5.785e-03  10.539  < 2e-16 ***\n",
       "SeasonsSpring     -1.394e-01  3.937e-02  -3.541 0.000401 ***\n",
       "SeasonsSummer     -2.725e-01  6.367e-02  -4.280 1.90e-05 ***\n",
       "SeasonsWinter     -7.325e-01  3.973e-02 -18.436  < 2e-16 ***\n",
       "HolidayNo Holiday  3.926e-01  3.118e-02  12.591  < 2e-16 ***\n",
       "FdayYes            6.521e+00  3.790e-02 172.045  < 2e-16 ***\n",
       "monthsFebruary    -9.746e-02  3.377e-02  -2.886 0.003914 ** \n",
       "monthsMarch       -3.290e-01  3.864e-02  -8.514  < 2e-16 ***\n",
       "monthsApril       -2.199e-01  3.497e-02  -6.288 3.41e-10 ***\n",
       "monthsMay                 NA         NA      NA       NA    \n",
       "monthsJune         4.043e-01  3.951e-02  10.233  < 2e-16 ***\n",
       "monthsJuly         7.826e-02  3.246e-02   2.411 0.015926 *  \n",
       "monthsAugust              NA         NA      NA       NA    \n",
       "monthsSeptember   -1.109e-01  4.706e-02  -2.357 0.018467 *  \n",
       "monthsOctober      5.833e-02  3.565e-02   1.636 0.101871    \n",
       "monthsNovember            NA         NA      NA       NA    \n",
       "monthsDecember     1.976e-01  3.282e-02   6.021 1.83e-09 ***\n",
       "log(Rainfall + 1) -1.331e+00  2.635e-02 -50.505  < 2e-16 ***\n",
       "log(SR + 1)        2.053e-01  3.715e-02   5.525 3.41e-08 ***\n",
       "Temp:DPtemp       -7.525e-04  6.978e-05 -10.784  < 2e-16 ***\n",
       "---\n",
       "Signif. codes:  0 '***' 0.001 '**' 0.01 '*' 0.05 '.' 0.1 ' ' 1\n",
       "\n",
       "Residual standard error: 0.553 on 6964 degrees of freedom\n",
       "Multiple R-squared:  0.8793,\tAdjusted R-squared:  0.8786 \n",
       "F-statistic:  1180 on 43 and 6964 DF,  p-value: < 2.2e-16\n"
      ]
     },
     "metadata": {},
     "output_type": "display_data"
    }
   ],
   "source": [
    "model4 = update(model3, . ~ . - Rainfall + log(Rainfall+1)- SR + log(SR+1))\n",
    "summary(model4)"
   ]
  },
  {
   "cell_type": "code",
   "execution_count": 32,
   "metadata": {},
   "outputs": [
    {
     "data": {
      "text/plain": [
       "\n",
       "Call:\n",
       "lm(formula = log(BikeCount + 1) ~ Hour + Humidity + Visibility + \n",
       "    DPtemp + Seasons + Holiday + Fday + months + log(Rainfall + \n",
       "    1) + log(SR + 1) + Temp:DPtemp, data = subset(data, select = c(-Snowfall, \n",
       "    -days)))\n",
       "\n",
       "Residuals:\n",
       "    Min      1Q  Median      3Q     Max \n",
       "-4.3838 -0.2162  0.0715  0.3062  4.2969 \n",
       "\n",
       "Coefficients: (3 not defined because of singularities)\n",
       "                    Estimate Std. Error t value Pr(>|t|)    \n",
       "(Intercept)        6.700e-01  7.951e-02   8.427  < 2e-16 ***\n",
       "Hour1             -2.123e-01  4.596e-02  -4.618 3.94e-06 ***\n",
       "Hour2             -5.206e-01  4.582e-02 -11.362  < 2e-16 ***\n",
       "Hour3             -8.388e-01  4.554e-02 -18.419  < 2e-16 ***\n",
       "Hour4             -1.233e+00  4.605e-02 -26.766  < 2e-16 ***\n",
       "Hour5             -1.206e+00  4.578e-02 -26.347  < 2e-16 ***\n",
       "Hour6             -5.545e-01  4.596e-02 -12.066  < 2e-16 ***\n",
       "Hour7              4.345e-02  4.588e-02   0.947  0.34375    \n",
       "Hour8              4.683e-01  4.640e-02  10.094  < 2e-16 ***\n",
       "Hour9              6.502e-02  4.923e-02   1.321  0.18662    \n",
       "Hour10            -3.489e-01  5.165e-02  -6.756 1.53e-11 ***\n",
       "Hour11            -3.132e-01  5.393e-02  -5.806 6.67e-09 ***\n",
       "Hour12            -2.289e-01  5.583e-02  -4.100 4.18e-05 ***\n",
       "Hour13            -2.387e-01  5.645e-02  -4.228 2.38e-05 ***\n",
       "Hour14            -2.669e-01  5.515e-02  -4.840 1.33e-06 ***\n",
       "Hour15            -1.545e-01  5.368e-02  -2.878  0.00401 ** \n",
       "Hour16            -4.854e-02  5.160e-02  -0.941  0.34695    \n",
       "Hour17             1.997e-01  4.897e-02   4.078 4.60e-05 ***\n",
       "Hour18             5.896e-01  4.737e-02  12.446  < 2e-16 ***\n",
       "Hour19             3.865e-01  4.678e-02   8.263  < 2e-16 ***\n",
       "Hour20             3.503e-01  4.633e-02   7.560 4.55e-14 ***\n",
       "Hour21             3.991e-01  4.619e-02   8.640  < 2e-16 ***\n",
       "Hour22             3.095e-01  4.548e-02   6.805 1.10e-11 ***\n",
       "Hour23             5.605e-02  4.584e-02   1.223  0.22152    \n",
       "Humidity          -2.086e-02  7.152e-04 -29.167  < 2e-16 ***\n",
       "Visibility         9.222e-05  1.645e-05   5.607 2.14e-08 ***\n",
       "DPtemp             5.061e-02  1.937e-03  26.129  < 2e-16 ***\n",
       "SeasonsSpring     -1.469e-01  3.919e-02  -3.748  0.00018 ***\n",
       "SeasonsSummer     -2.992e-01  6.212e-02  -4.816 1.50e-06 ***\n",
       "SeasonsWinter     -7.232e-01  3.944e-02 -18.338  < 2e-16 ***\n",
       "HolidayNo Holiday  3.922e-01  3.119e-02  12.576  < 2e-16 ***\n",
       "FdayYes            6.520e+00  3.791e-02 172.005  < 2e-16 ***\n",
       "monthsFebruary    -1.014e-01  3.371e-02  -3.007  0.00265 ** \n",
       "monthsMarch       -3.192e-01  3.830e-02  -8.334  < 2e-16 ***\n",
       "monthsApril       -2.206e-01  3.497e-02  -6.309 2.97e-10 ***\n",
       "monthsMay                 NA         NA      NA       NA    \n",
       "monthsJune         4.159e-01  3.904e-02  10.652  < 2e-16 ***\n",
       "monthsJuly         8.134e-02  3.242e-02   2.509  0.01214 *  \n",
       "monthsAugust              NA         NA      NA       NA    \n",
       "monthsSeptember   -1.255e-01  4.644e-02  -2.701  0.00692 ** \n",
       "monthsOctober      5.462e-02  3.560e-02   1.534  0.12505    \n",
       "monthsNovember            NA         NA      NA       NA    \n",
       "monthsDecember     1.950e-01  3.280e-02   5.946 2.88e-09 ***\n",
       "log(Rainfall + 1) -1.338e+00  2.607e-02 -51.311  < 2e-16 ***\n",
       "log(SR + 1)        1.885e-01  3.609e-02   5.222 1.82e-07 ***\n",
       "DPtemp:Temp       -7.260e-04  6.838e-05 -10.616  < 2e-16 ***\n",
       "---\n",
       "Signif. codes:  0 '***' 0.001 '**' 0.01 '*' 0.05 '.' 0.1 ' ' 1\n",
       "\n",
       "Residual standard error: 0.5531 on 6965 degrees of freedom\n",
       "Multiple R-squared:  0.8793,\tAdjusted R-squared:  0.8785 \n",
       "F-statistic:  1208 on 42 and 6965 DF,  p-value: < 2.2e-16\n"
      ]
     },
     "metadata": {},
     "output_type": "display_data"
    }
   ],
   "source": [
    "# removing temp\n",
    "model4 = update(model4, . ~ . - Temp)\n",
    "summary(model4)\n"
   ]
  },
  {
   "cell_type": "markdown",
   "metadata": {},
   "source": [
    "## obtain 95% confidence intervals for the coefficients."
   ]
  },
  {
   "cell_type": "code",
   "execution_count": 33,
   "metadata": {},
   "outputs": [
    {
     "name": "stderr",
     "output_type": "stream",
     "text": [
      "Warning message in plot.window(...):\n",
      "\"\"id.method\" is not a graphical parameter\"\n",
      "Warning message in plot.xy(xy, type, ...):\n",
      "\"\"id.method\" is not a graphical parameter\"\n",
      "Warning message in axis(side = side, at = at, labels = labels, ...):\n",
      "\"\"id.method\" is not a graphical parameter\"\n",
      "Warning message in axis(side = side, at = at, labels = labels, ...):\n",
      "\"\"id.method\" is not a graphical parameter\"\n",
      "Warning message in box(...):\n",
      "\"\"id.method\" is not a graphical parameter\"\n",
      "Warning message in title(...):\n",
      "\"\"id.method\" is not a graphical parameter\"\n",
      "Warning message in plot.xy(xy.coords(x, y), type = type, ...):\n",
      "\"\"id.method\" is not a graphical parameter\"\n"
     ]
    },
    {
     "data": {
      "text/html": [
       "<table>\n",
       "<caption>A data.frame: 3 × 3</caption>\n",
       "<thead>\n",
       "\t<tr><th></th><th scope=col>StudRes</th><th scope=col>Hat</th><th scope=col>CookD</th></tr>\n",
       "\t<tr><th></th><th scope=col>&lt;dbl&gt;</th><th scope=col>&lt;dbl&gt;</th><th scope=col>&lt;dbl&gt;</th></tr>\n",
       "</thead>\n",
       "<tbody>\n",
       "\t<tr><th scope=row>1152</th><td>-7.986788</td><td>0.006385397</td><td>0.009448182</td></tr>\n",
       "\t<tr><th scope=row>5741</th><td> 7.062325</td><td>0.030183924</td><td>0.035848939</td></tr>\n",
       "\t<tr><th scope=row>6007</th><td> 7.913474</td><td>0.027799517</td><td>0.041278293</td></tr>\n",
       "</tbody>\n",
       "</table>\n"
      ],
      "text/latex": [
       "A data.frame: 3 × 3\n",
       "\\begin{tabular}{r|lll}\n",
       "  & StudRes & Hat & CookD\\\\\n",
       "  & <dbl> & <dbl> & <dbl>\\\\\n",
       "\\hline\n",
       "\t1152 & -7.986788 & 0.006385397 & 0.009448182\\\\\n",
       "\t5741 &  7.062325 & 0.030183924 & 0.035848939\\\\\n",
       "\t6007 &  7.913474 & 0.027799517 & 0.041278293\\\\\n",
       "\\end{tabular}\n"
      ],
      "text/markdown": [
       "\n",
       "A data.frame: 3 × 3\n",
       "\n",
       "| <!--/--> | StudRes &lt;dbl&gt; | Hat &lt;dbl&gt; | CookD &lt;dbl&gt; |\n",
       "|---|---|---|---|\n",
       "| 1152 | -7.986788 | 0.006385397 | 0.009448182 |\n",
       "| 5741 |  7.062325 | 0.030183924 | 0.035848939 |\n",
       "| 6007 |  7.913474 | 0.027799517 | 0.041278293 |\n",
       "\n"
      ],
      "text/plain": [
       "     StudRes   Hat         CookD      \n",
       "1152 -7.986788 0.006385397 0.009448182\n",
       "5741  7.062325 0.030183924 0.035848939\n",
       "6007  7.913474 0.027799517 0.041278293"
      ]
     },
     "metadata": {},
     "output_type": "display_data"
    },
    {
     "data": {
      "image/png": "[encoded data removed]",
      "text/plain": [
       "Plot with title \"Influence Plot\""
      ]
     },
     "metadata": {
      "image/png": {
       "height": 420,
       "width": 420
      }
     },
     "output_type": "display_data"
    }
   ],
   "source": [
    "influencePlot(model4, scale=5, id.method=\"noteworthy\", main=\"Influence Plot\", sub=\"Circle size is proportial to Cook's Distance\" )"
   ]
  },
  {
   "cell_type": "code",
   "execution_count": 34,
   "metadata": {
    "scrolled": false
   },
   "outputs": [
    {
     "data": {
      "image/png": "[encoded data removed]",
      "text/plain": [
       "Plot with title \"\""
      ]
     },
     "metadata": {
      "image/png": {
       "height": 420,
       "width": 420
      }
     },
     "output_type": "display_data"
    }
   ],
   "source": [
    "par(mfcol=c(2,2))\n",
    "plot(model4)"
   ]
  },
  {
   "cell_type": "code",
   "execution_count": 35,
   "metadata": {},
   "outputs": [],
   "source": [
    "test = read.csv(\"test.csv\") # reading testing data\n",
    "\n",
    "# changing Hour, Seasons, Holiday, Functioning.Day to factor as they are categorical variables\n",
    "\n",
    "test$Seasons <- as.factor(test$Seasons) \n",
    "test$Holiday <- as.factor(test$Holiday) \n",
    "test$Functioning.Day <- as.factor(test$Functioning.Day) \n",
    "test$Hour <- as.factor(test$Hour) \n",
    "\n",
    "# changing a few names\n",
    "\n",
    "# Rented.Bike.Count = BikeCount\n",
    "# Temperature = Temp\n",
    "# Dew.point.temperature = DPtemp\n",
    "# Solar.Radiation = SR\n",
    "# Functioning.Day = Fday\n",
    "\n",
    "\n",
    "\n",
    "names(test)[c(2,4,8,9,14)]<-c(\"BikeCount\",\"Temp\",\"DPtemp\", \"SR\",\"Fday\")\n",
    "\n",
    "## Day of the Week\n",
    "test$Date = substr(test$Date,1,10)\n",
    "days<-weekdays(as.Date(test$Date))\n",
    "test$days=days\n",
    "test$days <- factor(test$days, levels=c(\"Monday\",\"Tuesday\", \"Wednesday\", \"Thursday\", \"Friday\", \"Saturday\",\"Sunday\"))\n",
    "\n",
    "## Converting date to a date format in R\n",
    "test$Date <- as.POSIXct(test$Date)\n",
    "## Extracting Month Name\n",
    "test$months <- format(test$Date,\"%B\")\n",
    "test$months <- factor(test$months, levels=c(\"January\",\"February\", \"March\",\n",
    "                                            \"April\", \"May\", \"June\",\"July\", \"August\",\n",
    "                                            \"September\", \"October\", \"November\", \"December\"))"
   ]
  },
  {
   "cell_type": "markdown",
   "metadata": {},
   "source": [
    "### MLR prediction and outputting prediction values into new column in the test data"
   ]
  },
  {
   "cell_type": "code",
   "execution_count": 36,
   "metadata": {},
   "outputs": [
    {
     "name": "stderr",
     "output_type": "stream",
     "text": [
      "Warning message in predict.lm(model4, test):\n",
      "\"prediction from a rank-deficient fit may be misleading\"\n"
     ]
    },
    {
     "data": {
      "text/html": [
       "<table>\n",
       "<caption>A data.frame: 6 × 18</caption>\n",
       "<thead>\n",
       "\t<tr><th></th><th scope=col>Date</th><th scope=col>BikeCount</th><th scope=col>Hour</th><th scope=col>Temp</th><th scope=col>Humidity</th><th scope=col>Wind.speed</th><th scope=col>Visibility</th><th scope=col>DPtemp</th><th scope=col>SR</th><th scope=col>Rainfall</th><th scope=col>Snowfall</th><th scope=col>Seasons</th><th scope=col>Holiday</th><th scope=col>Fday</th><th scope=col>days</th><th scope=col>months</th><th scope=col>logBikeCount</th><th scope=col>predicted_BikeCount_MLR</th></tr>\n",
       "\t<tr><th></th><th scope=col>&lt;dttm&gt;</th><th scope=col>&lt;int&gt;</th><th scope=col>&lt;fct&gt;</th><th scope=col>&lt;dbl&gt;</th><th scope=col>&lt;int&gt;</th><th scope=col>&lt;dbl&gt;</th><th scope=col>&lt;int&gt;</th><th scope=col>&lt;dbl&gt;</th><th scope=col>&lt;dbl&gt;</th><th scope=col>&lt;dbl&gt;</th><th scope=col>&lt;dbl&gt;</th><th scope=col>&lt;fct&gt;</th><th scope=col>&lt;fct&gt;</th><th scope=col>&lt;fct&gt;</th><th scope=col>&lt;fct&gt;</th><th scope=col>&lt;fct&gt;</th><th scope=col>&lt;dbl&gt;</th><th scope=col>&lt;dbl&gt;</th></tr>\n",
       "</thead>\n",
       "<tbody>\n",
       "\t<tr><th scope=row>1</th><td>0001-12-20</td><td>360</td><td>11</td><td>-0.5</td><td>21</td><td>1.3</td><td>1936</td><td>-20.2</td><td>0.94</td><td>0</td><td>0</td><td>Winter</td><td>No Holiday</td><td>Yes</td><td>Thursday</td><td>December</td><td>5.576750</td><td>263</td></tr>\n",
       "\t<tr><th scope=row>2</th><td>0001-12-20</td><td>862</td><td>18</td><td> 0.6</td><td>66</td><td>1.4</td><td>2000</td><td> -5.0</td><td>0.00</td><td>0</td><td>0</td><td>Winter</td><td>No Holiday</td><td>Yes</td><td>Thursday</td><td>December</td><td>6.200621</td><td>492</td></tr>\n",
       "\t<tr><th scope=row>3</th><td>0001-12-20</td><td>323</td><td>23</td><td>-1.3</td><td>84</td><td>1.0</td><td>1265</td><td> -3.6</td><td>0.00</td><td>0</td><td>0</td><td>Winter</td><td>No Holiday</td><td>Yes</td><td>Thursday</td><td>December</td><td>5.289074</td><td>197</td></tr>\n",
       "\t<tr><th scope=row>4</th><td>0002-12-20</td><td> 89</td><td>4 </td><td>-3.8</td><td>79</td><td>2.0</td><td>1167</td><td> -6.9</td><td>0.00</td><td>0</td><td>0</td><td>Winter</td><td>No Holiday</td><td>Yes</td><td>Friday  </td><td>December</td><td>3.913004</td><td> 49</td></tr>\n",
       "\t<tr><th scope=row>5</th><td>0002-12-20</td><td>219</td><td>8 </td><td>-4.2</td><td>79</td><td>2.1</td><td>1436</td><td> -7.3</td><td>0.01</td><td>0</td><td>0</td><td>Winter</td><td>No Holiday</td><td>Yes</td><td>Friday  </td><td>December</td><td>5.617196</td><td>274</td></tr>\n",
       "\t<tr><th scope=row>6</th><td>0002-12-20</td><td>479</td><td>12</td><td> 4.3</td><td>41</td><td>1.3</td><td>1666</td><td> -7.8</td><td>1.09</td><td>0</td><td>0</td><td>Winter</td><td>No Holiday</td><td>Yes</td><td>Friday  </td><td>December</td><td>5.892200</td><td>361</td></tr>\n",
       "</tbody>\n",
       "</table>\n"
      ],
      "text/latex": [
       "A data.frame: 6 × 18\n",
       "\\begin{tabular}{r|llllllllllllllllll}\n",
       "  & Date & BikeCount & Hour & Temp & Humidity & Wind.speed & Visibility & DPtemp & SR & Rainfall & Snowfall & Seasons & Holiday & Fday & days & months & logBikeCount & predicted\\_BikeCount\\_MLR\\\\\n",
       "  & <dttm> & <int> & <fct> & <dbl> & <int> & <dbl> & <int> & <dbl> & <dbl> & <dbl> & <dbl> & <fct> & <fct> & <fct> & <fct> & <fct> & <dbl> & <dbl>\\\\\n",
       "\\hline\n",
       "\t1 & 0001-12-20 & 360 & 11 & -0.5 & 21 & 1.3 & 1936 & -20.2 & 0.94 & 0 & 0 & Winter & No Holiday & Yes & Thursday & December & 5.576750 & 263\\\\\n",
       "\t2 & 0001-12-20 & 862 & 18 &  0.6 & 66 & 1.4 & 2000 &  -5.0 & 0.00 & 0 & 0 & Winter & No Holiday & Yes & Thursday & December & 6.200621 & 492\\\\\n",
       "\t3 & 0001-12-20 & 323 & 23 & -1.3 & 84 & 1.0 & 1265 &  -3.6 & 0.00 & 0 & 0 & Winter & No Holiday & Yes & Thursday & December & 5.289074 & 197\\\\\n",
       "\t4 & 0002-12-20 &  89 & 4  & -3.8 & 79 & 2.0 & 1167 &  -6.9 & 0.00 & 0 & 0 & Winter & No Holiday & Yes & Friday   & December & 3.913004 &  49\\\\\n",
       "\t5 & 0002-12-20 & 219 & 8  & -4.2 & 79 & 2.1 & 1436 &  -7.3 & 0.01 & 0 & 0 & Winter & No Holiday & Yes & Friday   & December & 5.617196 & 274\\\\\n",
       "\t6 & 0002-12-20 & 479 & 12 &  4.3 & 41 & 1.3 & 1666 &  -7.8 & 1.09 & 0 & 0 & Winter & No Holiday & Yes & Friday   & December & 5.892200 & 361\\\\\n",
       "\\end{tabular}\n"
      ],
      "text/markdown": [
       "\n",
       "A data.frame: 6 × 18\n",
       "\n",
       "| <!--/--> | Date &lt;dttm&gt; | BikeCount &lt;int&gt; | Hour &lt;fct&gt; | Temp &lt;dbl&gt; | Humidity &lt;int&gt; | Wind.speed &lt;dbl&gt; | Visibility &lt;int&gt; | DPtemp &lt;dbl&gt; | SR &lt;dbl&gt; | Rainfall &lt;dbl&gt; | Snowfall &lt;dbl&gt; | Seasons &lt;fct&gt; | Holiday &lt;fct&gt; | Fday &lt;fct&gt; | days &lt;fct&gt; | months &lt;fct&gt; | logBikeCount &lt;dbl&gt; | predicted_BikeCount_MLR &lt;dbl&gt; |\n",
       "|---|---|---|---|---|---|---|---|---|---|---|---|---|---|---|---|---|---|---|\n",
       "| 1 | 0001-12-20 | 360 | 11 | -0.5 | 21 | 1.3 | 1936 | -20.2 | 0.94 | 0 | 0 | Winter | No Holiday | Yes | Thursday | December | 5.576750 | 263 |\n",
       "| 2 | 0001-12-20 | 862 | 18 |  0.6 | 66 | 1.4 | 2000 |  -5.0 | 0.00 | 0 | 0 | Winter | No Holiday | Yes | Thursday | December | 6.200621 | 492 |\n",
       "| 3 | 0001-12-20 | 323 | 23 | -1.3 | 84 | 1.0 | 1265 |  -3.6 | 0.00 | 0 | 0 | Winter | No Holiday | Yes | Thursday | December | 5.289074 | 197 |\n",
       "| 4 | 0002-12-20 |  89 | 4  | -3.8 | 79 | 2.0 | 1167 |  -6.9 | 0.00 | 0 | 0 | Winter | No Holiday | Yes | Friday   | December | 3.913004 |  49 |\n",
       "| 5 | 0002-12-20 | 219 | 8  | -4.2 | 79 | 2.1 | 1436 |  -7.3 | 0.01 | 0 | 0 | Winter | No Holiday | Yes | Friday   | December | 5.617196 | 274 |\n",
       "| 6 | 0002-12-20 | 479 | 12 |  4.3 | 41 | 1.3 | 1666 |  -7.8 | 1.09 | 0 | 0 | Winter | No Holiday | Yes | Friday   | December | 5.892200 | 361 |\n",
       "\n"
      ],
      "text/plain": [
       "  Date       BikeCount Hour Temp Humidity Wind.speed Visibility DPtemp SR  \n",
       "1 0001-12-20 360       11   -0.5 21       1.3        1936       -20.2  0.94\n",
       "2 0001-12-20 862       18    0.6 66       1.4        2000        -5.0  0.00\n",
       "3 0001-12-20 323       23   -1.3 84       1.0        1265        -3.6  0.00\n",
       "4 0002-12-20  89       4    -3.8 79       2.0        1167        -6.9  0.00\n",
       "5 0002-12-20 219       8    -4.2 79       2.1        1436        -7.3  0.01\n",
       "6 0002-12-20 479       12    4.3 41       1.3        1666        -7.8  1.09\n",
       "  Rainfall Snowfall Seasons Holiday    Fday days     months   logBikeCount\n",
       "1 0        0        Winter  No Holiday Yes  Thursday December 5.576750    \n",
       "2 0        0        Winter  No Holiday Yes  Thursday December 6.200621    \n",
       "3 0        0        Winter  No Holiday Yes  Thursday December 5.289074    \n",
       "4 0        0        Winter  No Holiday Yes  Friday   December 3.913004    \n",
       "5 0        0        Winter  No Holiday Yes  Friday   December 5.617196    \n",
       "6 0        0        Winter  No Holiday Yes  Friday   December 5.892200    \n",
       "  predicted_BikeCount_MLR\n",
       "1 263                    \n",
       "2 492                    \n",
       "3 197                    \n",
       "4  49                    \n",
       "5 274                    \n",
       "6 361                    "
      ]
     },
     "metadata": {},
     "output_type": "display_data"
    }
   ],
   "source": [
    "# predicting the test dataset BikeCount using the Multiple linear regression model\n",
    "prediction_1=predict(model4,test)\n",
    "test$logBikeCount=prediction_1\n",
    "\n",
    "# transforming the log predictions back to real numbers for model efficiency testing purpose\n",
    "test$predicted_BikeCount_MLR=round(exp(test$logBikeCount),digits=0)-1\n",
    "\n",
    "head(test)"
   ]
  },
  {
   "cell_type": "code",
   "execution_count": null,
   "metadata": {},
   "outputs": [],
   "source": []
  },
  {
   "cell_type": "markdown",
   "metadata": {},
   "source": [
    "##  MAE \n",
    "#### is measured by taking the average of the absolute difference between actual values and the predictions.\n",
    "\n",
    "## The Root Mean Square Error \n",
    "#### is measured by taking the square root of the average of the squared difference between the prediction and the actual value. It represents the sample standard deviation of the differences between predicted values and observed values.\n",
    "\n",
    "## RSQ (R^2) \n",
    "#### helps you to understand how well the independent variable adjusted with the variance in your model. That means how good is the model for a dataset."
   ]
  },
  {
   "cell_type": "code",
   "execution_count": 37,
   "metadata": {
    "scrolled": true
   },
   "outputs": [
    {
     "data": {
      "text/html": [
       "<table>\n",
       "<caption>A tibble: 3 × 3</caption>\n",
       "<thead>\n",
       "\t<tr><th scope=col>.metric</th><th scope=col>.estimator</th><th scope=col>.estimate</th></tr>\n",
       "\t<tr><th scope=col>&lt;chr&gt;</th><th scope=col>&lt;chr&gt;</th><th scope=col>&lt;dbl&gt;</th></tr>\n",
       "</thead>\n",
       "<tbody>\n",
       "\t<tr><td>rmse</td><td>standard</td><td>322.9604850</td></tr>\n",
       "\t<tr><td>rsq </td><td>standard</td><td>  0.7546977</td></tr>\n",
       "\t<tr><td>mae </td><td>standard</td><td>204.3744292</td></tr>\n",
       "</tbody>\n",
       "</table>\n"
      ],
      "text/latex": [
       "A tibble: 3 × 3\n",
       "\\begin{tabular}{lll}\n",
       " .metric & .estimator & .estimate\\\\\n",
       " <chr> & <chr> & <dbl>\\\\\n",
       "\\hline\n",
       "\t rmse & standard & 322.9604850\\\\\n",
       "\t rsq  & standard &   0.7546977\\\\\n",
       "\t mae  & standard & 204.3744292\\\\\n",
       "\\end{tabular}\n"
      ],
      "text/markdown": [
       "\n",
       "A tibble: 3 × 3\n",
       "\n",
       "| .metric &lt;chr&gt; | .estimator &lt;chr&gt; | .estimate &lt;dbl&gt; |\n",
       "|---|---|---|\n",
       "| rmse | standard | 322.9604850 |\n",
       "| rsq  | standard |   0.7546977 |\n",
       "| mae  | standard | 204.3744292 |\n",
       "\n"
      ],
      "text/plain": [
       "  .metric .estimator .estimate  \n",
       "1 rmse    standard   322.9604850\n",
       "2 rsq     standard     0.7546977\n",
       "3 mae     standard   204.3744292"
      ]
     },
     "metadata": {},
     "output_type": "display_data"
    }
   ],
   "source": [
    "#testing using yardstick package, function metrics\n",
    "\n",
    "metrics(test,BikeCount,predicted_BikeCount_MLR)"
   ]
  },
  {
   "cell_type": "markdown",
   "metadata": {},
   "source": [
    "## FOR MLR MODEL\n",
    "\n",
    "### According to this analysis, root mean squared error is 322.9604850, mean absolute error is 204.3744292 and r squared is 0.7546 which are decent results for a MLR implementation."
   ]
  },
  {
   "cell_type": "code",
   "execution_count": null,
   "metadata": {},
   "outputs": [],
   "source": []
  },
  {
   "cell_type": "markdown",
   "metadata": {},
   "source": [
    "# Random Forest Model"
   ]
  },
  {
   "cell_type": "markdown",
   "metadata": {},
   "source": [
    "## Random forest (or random forests) is an ensemble classifier that consists of many decision trees and outputs the class that is the mode of the class's output by individual trees.\n"
   ]
  },
  {
   "cell_type": "code",
   "execution_count": 38,
   "metadata": {
    "scrolled": true
   },
   "outputs": [
    {
     "data": {
      "text/plain": [
       "\n",
       "Call:\n",
       " randomForest(formula = log(BikeCount + 1) ~ ., data = data, importance = TRUE,      ntree = 100) \n",
       "               Type of random forest: regression\n",
       "                     Number of trees: 100\n",
       "No. of variables tried at each split: 5\n",
       "\n",
       "          Mean of squared residuals: 0.1721212\n",
       "                    % Var explained: 93.17"
      ]
     },
     "metadata": {},
     "output_type": "display_data"
    }
   ],
   "source": [
    "set.seed(999)\n",
    "\n",
    "\n",
    "\n",
    "\n",
    "\n",
    "\n",
    "# here im taking log(BikeCount+1) to log transform the count as the response variable BikeCount has natural outliers.\n",
    "# number of trees selected is 100, should be suitable for this dataset.\n",
    "forest <- randomForest(log(BikeCount+1) ~.,data,importance=TRUE, ntree=100)\n",
    "\n",
    "forest"
   ]
  },
  {
   "cell_type": "code",
   "execution_count": null,
   "metadata": {},
   "outputs": [],
   "source": []
  },
  {
   "cell_type": "markdown",
   "metadata": {},
   "source": [
    "### %explained variance is a measure of how well out-of-bag predictions explain the target variance of the data. the RF model is able to explain 93.17 percent of the data."
   ]
  },
  {
   "cell_type": "markdown",
   "metadata": {},
   "source": [
    "## Prediction for the RF model"
   ]
  },
  {
   "cell_type": "code",
   "execution_count": 39,
   "metadata": {},
   "outputs": [
    {
     "data": {
      "text/html": [
       "<table>\n",
       "<caption>A data.frame: 6 × 20</caption>\n",
       "<thead>\n",
       "\t<tr><th></th><th scope=col>Date</th><th scope=col>BikeCount</th><th scope=col>Hour</th><th scope=col>Temp</th><th scope=col>Humidity</th><th scope=col>Wind.speed</th><th scope=col>Visibility</th><th scope=col>DPtemp</th><th scope=col>SR</th><th scope=col>Rainfall</th><th scope=col>Snowfall</th><th scope=col>Seasons</th><th scope=col>Holiday</th><th scope=col>Fday</th><th scope=col>days</th><th scope=col>months</th><th scope=col>logBikeCount</th><th scope=col>predicted_BikeCount_MLR</th><th scope=col>logBikeCount_1</th><th scope=col>predicted_BikeCount_RF</th></tr>\n",
       "\t<tr><th></th><th scope=col>&lt;dttm&gt;</th><th scope=col>&lt;int&gt;</th><th scope=col>&lt;fct&gt;</th><th scope=col>&lt;dbl&gt;</th><th scope=col>&lt;int&gt;</th><th scope=col>&lt;dbl&gt;</th><th scope=col>&lt;int&gt;</th><th scope=col>&lt;dbl&gt;</th><th scope=col>&lt;dbl&gt;</th><th scope=col>&lt;dbl&gt;</th><th scope=col>&lt;dbl&gt;</th><th scope=col>&lt;fct&gt;</th><th scope=col>&lt;fct&gt;</th><th scope=col>&lt;fct&gt;</th><th scope=col>&lt;fct&gt;</th><th scope=col>&lt;fct&gt;</th><th scope=col>&lt;dbl&gt;</th><th scope=col>&lt;dbl&gt;</th><th scope=col>&lt;dbl&gt;</th><th scope=col>&lt;dbl&gt;</th></tr>\n",
       "</thead>\n",
       "<tbody>\n",
       "\t<tr><th scope=row>1</th><td>0001-12-20</td><td>360</td><td>11</td><td>-0.5</td><td>21</td><td>1.3</td><td>1936</td><td>-20.2</td><td>0.94</td><td>0</td><td>0</td><td>Winter</td><td>No Holiday</td><td>Yes</td><td>Thursday</td><td>December</td><td>5.576750</td><td>263</td><td>5.773632</td><td>321</td></tr>\n",
       "\t<tr><th scope=row>2</th><td>0001-12-20</td><td>862</td><td>18</td><td> 0.6</td><td>66</td><td>1.4</td><td>2000</td><td> -5.0</td><td>0.00</td><td>0</td><td>0</td><td>Winter</td><td>No Holiday</td><td>Yes</td><td>Thursday</td><td>December</td><td>6.200621</td><td>492</td><td>6.286424</td><td>536</td></tr>\n",
       "\t<tr><th scope=row>3</th><td>0001-12-20</td><td>323</td><td>23</td><td>-1.3</td><td>84</td><td>1.0</td><td>1265</td><td> -3.6</td><td>0.00</td><td>0</td><td>0</td><td>Winter</td><td>No Holiday</td><td>Yes</td><td>Thursday</td><td>December</td><td>5.289074</td><td>197</td><td>5.584178</td><td>265</td></tr>\n",
       "\t<tr><th scope=row>4</th><td>0002-12-20</td><td> 89</td><td>4 </td><td>-3.8</td><td>79</td><td>2.0</td><td>1167</td><td> -6.9</td><td>0.00</td><td>0</td><td>0</td><td>Winter</td><td>No Holiday</td><td>Yes</td><td>Friday  </td><td>December</td><td>3.913004</td><td> 49</td><td>4.230818</td><td> 68</td></tr>\n",
       "\t<tr><th scope=row>5</th><td>0002-12-20</td><td>219</td><td>8 </td><td>-4.2</td><td>79</td><td>2.1</td><td>1436</td><td> -7.3</td><td>0.01</td><td>0</td><td>0</td><td>Winter</td><td>No Holiday</td><td>Yes</td><td>Friday  </td><td>December</td><td>5.617196</td><td>274</td><td>5.987297</td><td>397</td></tr>\n",
       "\t<tr><th scope=row>6</th><td>0002-12-20</td><td>479</td><td>12</td><td> 4.3</td><td>41</td><td>1.3</td><td>1666</td><td> -7.8</td><td>1.09</td><td>0</td><td>0</td><td>Winter</td><td>No Holiday</td><td>Yes</td><td>Friday  </td><td>December</td><td>5.892200</td><td>361</td><td>6.031802</td><td>415</td></tr>\n",
       "</tbody>\n",
       "</table>\n"
      ],
      "text/latex": [
       "A data.frame: 6 × 20\n",
       "\\begin{tabular}{r|llllllllllllllllllll}\n",
       "  & Date & BikeCount & Hour & Temp & Humidity & Wind.speed & Visibility & DPtemp & SR & Rainfall & Snowfall & Seasons & Holiday & Fday & days & months & logBikeCount & predicted\\_BikeCount\\_MLR & logBikeCount\\_1 & predicted\\_BikeCount\\_RF\\\\\n",
       "  & <dttm> & <int> & <fct> & <dbl> & <int> & <dbl> & <int> & <dbl> & <dbl> & <dbl> & <dbl> & <fct> & <fct> & <fct> & <fct> & <fct> & <dbl> & <dbl> & <dbl> & <dbl>\\\\\n",
       "\\hline\n",
       "\t1 & 0001-12-20 & 360 & 11 & -0.5 & 21 & 1.3 & 1936 & -20.2 & 0.94 & 0 & 0 & Winter & No Holiday & Yes & Thursday & December & 5.576750 & 263 & 5.773632 & 321\\\\\n",
       "\t2 & 0001-12-20 & 862 & 18 &  0.6 & 66 & 1.4 & 2000 &  -5.0 & 0.00 & 0 & 0 & Winter & No Holiday & Yes & Thursday & December & 6.200621 & 492 & 6.286424 & 536\\\\\n",
       "\t3 & 0001-12-20 & 323 & 23 & -1.3 & 84 & 1.0 & 1265 &  -3.6 & 0.00 & 0 & 0 & Winter & No Holiday & Yes & Thursday & December & 5.289074 & 197 & 5.584178 & 265\\\\\n",
       "\t4 & 0002-12-20 &  89 & 4  & -3.8 & 79 & 2.0 & 1167 &  -6.9 & 0.00 & 0 & 0 & Winter & No Holiday & Yes & Friday   & December & 3.913004 &  49 & 4.230818 &  68\\\\\n",
       "\t5 & 0002-12-20 & 219 & 8  & -4.2 & 79 & 2.1 & 1436 &  -7.3 & 0.01 & 0 & 0 & Winter & No Holiday & Yes & Friday   & December & 5.617196 & 274 & 5.987297 & 397\\\\\n",
       "\t6 & 0002-12-20 & 479 & 12 &  4.3 & 41 & 1.3 & 1666 &  -7.8 & 1.09 & 0 & 0 & Winter & No Holiday & Yes & Friday   & December & 5.892200 & 361 & 6.031802 & 415\\\\\n",
       "\\end{tabular}\n"
      ],
      "text/markdown": [
       "\n",
       "A data.frame: 6 × 20\n",
       "\n",
       "| <!--/--> | Date &lt;dttm&gt; | BikeCount &lt;int&gt; | Hour &lt;fct&gt; | Temp &lt;dbl&gt; | Humidity &lt;int&gt; | Wind.speed &lt;dbl&gt; | Visibility &lt;int&gt; | DPtemp &lt;dbl&gt; | SR &lt;dbl&gt; | Rainfall &lt;dbl&gt; | Snowfall &lt;dbl&gt; | Seasons &lt;fct&gt; | Holiday &lt;fct&gt; | Fday &lt;fct&gt; | days &lt;fct&gt; | months &lt;fct&gt; | logBikeCount &lt;dbl&gt; | predicted_BikeCount_MLR &lt;dbl&gt; | logBikeCount_1 &lt;dbl&gt; | predicted_BikeCount_RF &lt;dbl&gt; |\n",
       "|---|---|---|---|---|---|---|---|---|---|---|---|---|---|---|---|---|---|---|---|---|\n",
       "| 1 | 0001-12-20 | 360 | 11 | -0.5 | 21 | 1.3 | 1936 | -20.2 | 0.94 | 0 | 0 | Winter | No Holiday | Yes | Thursday | December | 5.576750 | 263 | 5.773632 | 321 |\n",
       "| 2 | 0001-12-20 | 862 | 18 |  0.6 | 66 | 1.4 | 2000 |  -5.0 | 0.00 | 0 | 0 | Winter | No Holiday | Yes | Thursday | December | 6.200621 | 492 | 6.286424 | 536 |\n",
       "| 3 | 0001-12-20 | 323 | 23 | -1.3 | 84 | 1.0 | 1265 |  -3.6 | 0.00 | 0 | 0 | Winter | No Holiday | Yes | Thursday | December | 5.289074 | 197 | 5.584178 | 265 |\n",
       "| 4 | 0002-12-20 |  89 | 4  | -3.8 | 79 | 2.0 | 1167 |  -6.9 | 0.00 | 0 | 0 | Winter | No Holiday | Yes | Friday   | December | 3.913004 |  49 | 4.230818 |  68 |\n",
       "| 5 | 0002-12-20 | 219 | 8  | -4.2 | 79 | 2.1 | 1436 |  -7.3 | 0.01 | 0 | 0 | Winter | No Holiday | Yes | Friday   | December | 5.617196 | 274 | 5.987297 | 397 |\n",
       "| 6 | 0002-12-20 | 479 | 12 |  4.3 | 41 | 1.3 | 1666 |  -7.8 | 1.09 | 0 | 0 | Winter | No Holiday | Yes | Friday   | December | 5.892200 | 361 | 6.031802 | 415 |\n",
       "\n"
      ],
      "text/plain": [
       "  Date       BikeCount Hour Temp Humidity Wind.speed Visibility DPtemp SR  \n",
       "1 0001-12-20 360       11   -0.5 21       1.3        1936       -20.2  0.94\n",
       "2 0001-12-20 862       18    0.6 66       1.4        2000        -5.0  0.00\n",
       "3 0001-12-20 323       23   -1.3 84       1.0        1265        -3.6  0.00\n",
       "4 0002-12-20  89       4    -3.8 79       2.0        1167        -6.9  0.00\n",
       "5 0002-12-20 219       8    -4.2 79       2.1        1436        -7.3  0.01\n",
       "6 0002-12-20 479       12    4.3 41       1.3        1666        -7.8  1.09\n",
       "  Rainfall Snowfall Seasons Holiday    Fday days     months   logBikeCount\n",
       "1 0        0        Winter  No Holiday Yes  Thursday December 5.576750    \n",
       "2 0        0        Winter  No Holiday Yes  Thursday December 6.200621    \n",
       "3 0        0        Winter  No Holiday Yes  Thursday December 5.289074    \n",
       "4 0        0        Winter  No Holiday Yes  Friday   December 3.913004    \n",
       "5 0        0        Winter  No Holiday Yes  Friday   December 5.617196    \n",
       "6 0        0        Winter  No Holiday Yes  Friday   December 5.892200    \n",
       "  predicted_BikeCount_MLR logBikeCount_1 predicted_BikeCount_RF\n",
       "1 263                     5.773632       321                   \n",
       "2 492                     6.286424       536                   \n",
       "3 197                     5.584178       265                   \n",
       "4  49                     4.230818        68                   \n",
       "5 274                     5.987297       397                   \n",
       "6 361                     6.031802       415                   "
      ]
     },
     "metadata": {},
     "output_type": "display_data"
    }
   ],
   "source": [
    "# predicting the test dataset BikeCount using the random forest algorithm model\n",
    "prediction_2=predict(forest,test)\n",
    "test$logBikeCount_1=prediction_2\n",
    "\n",
    "# transforming the log predictions back to real numbers for model efficiency testing purpose\n",
    "test$predicted_BikeCount_RF=round(exp(test$logBikeCount_1),digits=0)-1\n",
    "\n",
    "head(test)"
   ]
  },
  {
   "cell_type": "markdown",
   "metadata": {},
   "source": [
    "## Highlighting the important attributes RF"
   ]
  },
  {
   "cell_type": "code",
   "execution_count": 40,
   "metadata": {
    "scrolled": false
   },
   "outputs": [
    {
     "data": {
      "text/html": [
       "<table>\n",
       "<caption>A matrix: 15 × 2 of type dbl</caption>\n",
       "<thead>\n",
       "\t<tr><th></th><th scope=col>%IncMSE</th><th scope=col>IncNodePurity</th></tr>\n",
       "</thead>\n",
       "<tbody>\n",
       "\t<tr><th scope=row>Date</th><td> 6.432388</td><td> 321.53309</td></tr>\n",
       "\t<tr><th scope=row>Hour</th><td>54.832619</td><td>2246.05681</td></tr>\n",
       "\t<tr><th scope=row>Temp</th><td>17.933625</td><td>1608.70734</td></tr>\n",
       "\t<tr><th scope=row>Humidity</th><td>25.999434</td><td> 982.71372</td></tr>\n",
       "\t<tr><th scope=row>Wind.speed</th><td> 7.668017</td><td> 171.01877</td></tr>\n",
       "\t<tr><th scope=row>Visibility</th><td>12.950831</td><td> 279.32608</td></tr>\n",
       "\t<tr><th scope=row>DPtemp</th><td>11.470674</td><td> 360.60141</td></tr>\n",
       "\t<tr><th scope=row>SR</th><td>12.345406</td><td> 325.91259</td></tr>\n",
       "\t<tr><th scope=row>Rainfall</th><td>29.380764</td><td>1129.70137</td></tr>\n",
       "\t<tr><th scope=row>Snowfall</th><td> 8.239366</td><td>  38.76382</td></tr>\n",
       "\t<tr><th scope=row>Seasons</th><td> 9.341840</td><td> 543.65004</td></tr>\n",
       "\t<tr><th scope=row>Holiday</th><td> 4.378171</td><td>  46.11937</td></tr>\n",
       "\t<tr><th scope=row>Fday</th><td>76.696154</td><td>8036.03017</td></tr>\n",
       "\t<tr><th scope=row>days</th><td> 7.988596</td><td> 270.54330</td></tr>\n",
       "\t<tr><th scope=row>months</th><td> 9.960442</td><td>1166.11960</td></tr>\n",
       "</tbody>\n",
       "</table>\n"
      ],
      "text/latex": [
       "A matrix: 15 × 2 of type dbl\n",
       "\\begin{tabular}{r|ll}\n",
       "  & \\%IncMSE & IncNodePurity\\\\\n",
       "\\hline\n",
       "\tDate &  6.432388 &  321.53309\\\\\n",
       "\tHour & 54.832619 & 2246.05681\\\\\n",
       "\tTemp & 17.933625 & 1608.70734\\\\\n",
       "\tHumidity & 25.999434 &  982.71372\\\\\n",
       "\tWind.speed &  7.668017 &  171.01877\\\\\n",
       "\tVisibility & 12.950831 &  279.32608\\\\\n",
       "\tDPtemp & 11.470674 &  360.60141\\\\\n",
       "\tSR & 12.345406 &  325.91259\\\\\n",
       "\tRainfall & 29.380764 & 1129.70137\\\\\n",
       "\tSnowfall &  8.239366 &   38.76382\\\\\n",
       "\tSeasons &  9.341840 &  543.65004\\\\\n",
       "\tHoliday &  4.378171 &   46.11937\\\\\n",
       "\tFday & 76.696154 & 8036.03017\\\\\n",
       "\tdays &  7.988596 &  270.54330\\\\\n",
       "\tmonths &  9.960442 & 1166.11960\\\\\n",
       "\\end{tabular}\n"
      ],
      "text/markdown": [
       "\n",
       "A matrix: 15 × 2 of type dbl\n",
       "\n",
       "| <!--/--> | %IncMSE | IncNodePurity |\n",
       "|---|---|---|\n",
       "| Date |  6.432388 |  321.53309 |\n",
       "| Hour | 54.832619 | 2246.05681 |\n",
       "| Temp | 17.933625 | 1608.70734 |\n",
       "| Humidity | 25.999434 |  982.71372 |\n",
       "| Wind.speed |  7.668017 |  171.01877 |\n",
       "| Visibility | 12.950831 |  279.32608 |\n",
       "| DPtemp | 11.470674 |  360.60141 |\n",
       "| SR | 12.345406 |  325.91259 |\n",
       "| Rainfall | 29.380764 | 1129.70137 |\n",
       "| Snowfall |  8.239366 |   38.76382 |\n",
       "| Seasons |  9.341840 |  543.65004 |\n",
       "| Holiday |  4.378171 |   46.11937 |\n",
       "| Fday | 76.696154 | 8036.03017 |\n",
       "| days |  7.988596 |  270.54330 |\n",
       "| months |  9.960442 | 1166.11960 |\n",
       "\n"
      ],
      "text/plain": [
       "           %IncMSE   IncNodePurity\n",
       "Date        6.432388  321.53309   \n",
       "Hour       54.832619 2246.05681   \n",
       "Temp       17.933625 1608.70734   \n",
       "Humidity   25.999434  982.71372   \n",
       "Wind.speed  7.668017  171.01877   \n",
       "Visibility 12.950831  279.32608   \n",
       "DPtemp     11.470674  360.60141   \n",
       "SR         12.345406  325.91259   \n",
       "Rainfall   29.380764 1129.70137   \n",
       "Snowfall    8.239366   38.76382   \n",
       "Seasons     9.341840  543.65004   \n",
       "Holiday     4.378171   46.11937   \n",
       "Fday       76.696154 8036.03017   \n",
       "days        7.988596  270.54330   \n",
       "months      9.960442 1166.11960   "
      ]
     },
     "metadata": {},
     "output_type": "display_data"
    },
    {
     "data": {
      "image/png": "[encoded data removed]",
      "text/plain": [
       "plot without title"
      ]
     },
     "metadata": {
      "image/png": {
       "height": 420,
       "width": 420
      }
     },
     "output_type": "display_data"
    }
   ],
   "source": [
    "#highlighting the important attributes\n",
    "\n",
    "importance(forest)        \n",
    "varImpPlot(forest)   "
   ]
  },
  {
   "cell_type": "markdown",
   "metadata": {},
   "source": [
    "## Inference\n",
    "\n",
    "    1.Fday is most important as it direcly influences if bikes can be rented or not. if its non functioning day, then bike rented would be zero.\n",
    "    2. Hour of the day is also hugely influencial. this is easy to explain as demands are higher at 8-18 hours as opposed to 0-6 for the day.\n",
    "    3. Rainfall affects whether people are able to ride bikes; if its raining, people are unlikely to rent bikes.\n",
    "    4. The heirarchy of important variables just makes sense.\n"
   ]
  },
  {
   "cell_type": "code",
   "execution_count": 41,
   "metadata": {
    "scrolled": false
   },
   "outputs": [
    {
     "data": {
      "text/html": [
       "<table>\n",
       "<caption>A tibble: 3 × 3</caption>\n",
       "<thead>\n",
       "\t<tr><th scope=col>.metric</th><th scope=col>.estimator</th><th scope=col>.estimate</th></tr>\n",
       "\t<tr><th scope=col>&lt;chr&gt;</th><th scope=col>&lt;chr&gt;</th><th scope=col>&lt;dbl&gt;</th></tr>\n",
       "</thead>\n",
       "<tbody>\n",
       "\t<tr><td>rmse</td><td>standard</td><td>230.6900929</td></tr>\n",
       "\t<tr><td>rsq </td><td>standard</td><td>  0.8830867</td></tr>\n",
       "\t<tr><td>mae </td><td>standard</td><td>132.9063927</td></tr>\n",
       "</tbody>\n",
       "</table>\n"
      ],
      "text/latex": [
       "A tibble: 3 × 3\n",
       "\\begin{tabular}{lll}\n",
       " .metric & .estimator & .estimate\\\\\n",
       " <chr> & <chr> & <dbl>\\\\\n",
       "\\hline\n",
       "\t rmse & standard & 230.6900929\\\\\n",
       "\t rsq  & standard &   0.8830867\\\\\n",
       "\t mae  & standard & 132.9063927\\\\\n",
       "\\end{tabular}\n"
      ],
      "text/markdown": [
       "\n",
       "A tibble: 3 × 3\n",
       "\n",
       "| .metric &lt;chr&gt; | .estimator &lt;chr&gt; | .estimate &lt;dbl&gt; |\n",
       "|---|---|---|\n",
       "| rmse | standard | 230.6900929 |\n",
       "| rsq  | standard |   0.8830867 |\n",
       "| mae  | standard | 132.9063927 |\n",
       "\n"
      ],
      "text/plain": [
       "  .metric .estimator .estimate  \n",
       "1 rmse    standard   230.6900929\n",
       "2 rsq     standard     0.8830867\n",
       "3 mae     standard   132.9063927"
      ]
     },
     "metadata": {},
     "output_type": "display_data"
    }
   ],
   "source": [
    "#testing using yardstick package, function metrics\n",
    "\n",
    "metrics(test,BikeCount,predicted_BikeCount_RF)"
   ]
  },
  {
   "cell_type": "code",
   "execution_count": null,
   "metadata": {},
   "outputs": [],
   "source": []
  },
  {
   "cell_type": "markdown",
   "metadata": {},
   "source": [
    "## FOR RANDOM FOREST MODEL\n",
    "\n",
    "## According to this analysis, root mean squared error is 230.6900929, mean absolute error is 132.9063927 and r squared is 0.8830867"
   ]
  },
  {
   "cell_type": "markdown",
   "metadata": {},
   "source": [
    "### From the above testing it is pretty safe to say that the random forest model is able to predict the rental BikeCounts more accurately than the MLR model.\n",
    "\n",
    "\n",
    "\n",
    "\n",
    "### Some reasons for Random forest model outperforming MLR model for prediction task\n",
    "\n",
    "    1.Decision trees such as random forest (second model used in this assignment) are able to handle messy data and relationships way better than regression models in general. In our case, there are many variables with complex relationships which allows the random forest model to shine.\n",
    "    2. Linear regression models require regularization to overcome overfitting whereas random forests have regularization inbuilt.\n",
    "    3. Random forest is a sum of piecewise function ( is a function defined by multiple sub-functions, where each sub-function applies to a different sub-domain).\n",
    "    4. Random forest runs efficiently on large datasets.\n",
    "    5. RF is able to handle thousands of variables if required, and is not required to delete attributes unlike MLR.\n",
    "    6. Missing data estimation in RF is a strong feature, wherese in MLR it needs to be done manually.\n",
    "    7. RF also provides robust variable interaction detection methodology which needs to be dsone manually in MLR (by traial and error and human intuition).\n",
    "    8. Overall RFs are just more suitable for the prediction task for this assignment for the reasons stated above. If the data was less complex and variabled had straighforward linear relationships, MLR would be a decent option."
   ]
  },
  {
   "cell_type": "code",
   "execution_count": null,
   "metadata": {},
   "outputs": [],
   "source": []
  },
  {
   "cell_type": "code",
   "execution_count": null,
   "metadata": {},
   "outputs": [],
   "source": []
  }
 ],
 "metadata": {
  "kernelspec": {
   "display_name": "R",
   "language": "R",
   "name": "ir"
  },
  "language_info": {
   "codemirror_mode": "r",
   "file_extension": ".r",
   "mimetype": "text/x-r-source",
   "name": "R",
   "pygments_lexer": "r",
   "version": "4.0.1"
  }
 },
 "nbformat": 4,
 "nbformat_minor": 4
}
