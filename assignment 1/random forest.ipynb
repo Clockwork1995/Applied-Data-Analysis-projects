{
 "cells": [
  {
   "cell_type": "code",
   "execution_count": 69,
   "metadata": {},
   "outputs": [
    {
     "name": "stderr",
     "output_type": "stream",
     "text": [
      "\n",
      "Attaching package: 'dplyr'\n",
      "\n",
      "\n",
      "The following object is masked from 'package:randomForest':\n",
      "\n",
      "    combine\n",
      "\n",
      "\n",
      "The following object is masked from 'package:gridExtra':\n",
      "\n",
      "    combine\n",
      "\n",
      "\n",
      "The following objects are masked from 'package:stats':\n",
      "\n",
      "    filter, lag\n",
      "\n",
      "\n",
      "The following objects are masked from 'package:base':\n",
      "\n",
      "    intersect, setdiff, setequal, union\n",
      "\n",
      "\n"
     ]
    }
   ],
   "source": [
    "library(psych)\n",
    "library(ISLR)\n",
    "library(ggplot2)\n",
    "library(GGally)\n",
    "library(gridExtra)\n",
    "library(cowplot)\n",
    "library(lattice)\n",
    "library(randomForest)\n",
    "library(dplyr)"
   ]
  },
  {
   "cell_type": "code",
   "execution_count": 35,
   "metadata": {},
   "outputs": [],
   "source": [
    "data=read.csv(\"train.csv\")"
   ]
  },
  {
   "cell_type": "code",
   "execution_count": 36,
   "metadata": {},
   "outputs": [],
   "source": [
    "test = read.csv(\"test.csv\")"
   ]
  },
  {
   "cell_type": "code",
   "execution_count": 37,
   "metadata": {},
   "outputs": [
    {
     "name": "stdout",
     "output_type": "stream",
     "text": [
      "'data.frame':\t7008 obs. of  14 variables:\n",
      " $ Date                 : chr  \"13/03/2018\" \"15/03/2018\" \"29/11/2018\" \"4/04/2018\" ...\n",
      " $ Rented.Bike.Count    : int  705 289 126 378 236 708 715 1001 502 17 ...\n",
      " $ Hour                 : int  14 14 5 9 17 10 8 1 20 18 ...\n",
      " $ Temperature          : num  18.3 12.1 1.8 10.4 2.4 18.2 21.1 18.9 10.7 22.2 ...\n",
      " $ Humidity             : int  43 97 34 81 17 36 70 55 70 96 ...\n",
      " $ Wind.speed           : num  2.2 2 0.9 1.4 3.1 1 0.3 2.3 2.8 1.2 ...\n",
      " $ Visibility           : int  1509 177 1990 2000 1990 620 766 2000 236 673 ...\n",
      " $ Dew.point.temperature: num  5.4 11.6 -12.4 7.2 -20.2 2.8 15.4 9.6 5.4 21.5 ...\n",
      " $ Solar.Radiation      : num  2.43 0.2 0 0.36 0.78 1.99 0.9 0 0 0.09 ...\n",
      " $ Rainfall             : num  0 0 0 0 0 0 0 0 0 3.5 ...\n",
      " $ Snowfall             : num  0 0 0 0 0 0 0 0 0 0 ...\n",
      " $ Seasons              : chr  \"Spring\" \"Spring\" \"Autumn\" \"Spring\" ...\n",
      " $ Holiday              : chr  \"No Holiday\" \"No Holiday\" \"No Holiday\" \"No Holiday\" ...\n",
      " $ Functioning.Day      : chr  \"Yes\" \"Yes\" \"Yes\" \"Yes\" ...\n"
     ]
    }
   ],
   "source": [
    "str(data)"
   ]
  },
  {
   "cell_type": "code",
   "execution_count": 38,
   "metadata": {},
   "outputs": [
    {
     "data": {
      "text/html": [
       "<style>\n",
       ".list-inline {list-style: none; margin:0; padding: 0}\n",
       ".list-inline>li {display: inline-block}\n",
       ".list-inline>li:not(:last-child)::after {content: \"\\00b7\"; padding: 0 .5ex}\n",
       "</style>\n",
       "<ol class=list-inline><li>7008</li><li>14</li></ol>\n"
      ],
      "text/latex": [
       "\\begin{enumerate*}\n",
       "\\item 7008\n",
       "\\item 14\n",
       "\\end{enumerate*}\n"
      ],
      "text/markdown": [
       "1. 7008\n",
       "2. 14\n",
       "\n",
       "\n"
      ],
      "text/plain": [
       "[1] 7008   14"
      ]
     },
     "metadata": {},
     "output_type": "display_data"
    }
   ],
   "source": [
    "dim(data)"
   ]
  },
  {
   "cell_type": "code",
   "execution_count": 39,
   "metadata": {},
   "outputs": [],
   "source": [
    "# changing Hour, Seasons, Holiday, Functioning.Day to factor as they are categorical variables\n",
    "\n",
    "data$Seasons <- as.factor(data$Seasons) \n",
    "data$Holiday <- as.factor(data$Holiday) \n",
    "data$Functioning.Day <- as.factor(data$Functioning.Day) \n",
    "data$Hour <- as.factor(data$Hour) \n",
    "\n",
    "# changing a few names\n",
    "\n",
    "# Rented.Bike.Count = BikeCount\n",
    "# Temperature = Temp\n",
    "# Dew.point.temperature = DPtemp\n",
    "# Solar.Radiation = SR\n",
    "# Functioning.Day = Fday\n",
    "\n",
    "\n",
    "\n",
    "names(data)[c(2,4,8,9,14)]<-c(\"BikeCount\",\"Temp\",\"DPtemp\", \"SR\",\"Fday\")\n",
    "\n",
    "\n"
   ]
  },
  {
   "cell_type": "code",
   "execution_count": 40,
   "metadata": {},
   "outputs": [],
   "source": [
    "#doing same converions for test data\n",
    "\n",
    "# changing Hour, Seasons, Holiday, Functioning.Day to factor as they are categorical variables\n",
    "\n",
    "test$Seasons <- as.factor(test$Seasons) \n",
    "test$Holiday <- as.factor(test$Holiday) \n",
    "test$Functioning.Day <- as.factor(test$Functioning.Day) \n",
    "test$Hour <- as.factor(test$Hour) \n",
    "\n",
    "# changing a few names\n",
    "\n",
    "# Rented.Bike.Count = BikeCount\n",
    "# Temperature = Temp\n",
    "# Dew.point.temperature = DPtemp\n",
    "# Solar.Radiation = SR\n",
    "# Functioning.Day = Fday\n",
    "\n",
    "\n",
    "\n",
    "names(test)[c(2,4,8,9,14)]<-c(\"BikeCount\",\"Temp\",\"DPtemp\", \"SR\",\"Fday\")\n"
   ]
  },
  {
   "cell_type": "code",
   "execution_count": 6,
   "metadata": {},
   "outputs": [
    {
     "name": "stdout",
     "output_type": "stream",
     "text": [
      "'data.frame':\t7008 obs. of  14 variables:\n",
      " $ Date      : chr  \"13/03/2018\" \"15/03/2018\" \"29/11/2018\" \"4/04/2018\" ...\n",
      " $ BikeCount : int  705 289 126 378 236 708 715 1001 502 17 ...\n",
      " $ Hour      : Factor w/ 24 levels \"0\",\"1\",\"2\",\"3\",..: 15 15 6 10 18 11 9 2 21 19 ...\n",
      " $ Temp      : num  18.3 12.1 1.8 10.4 2.4 18.2 21.1 18.9 10.7 22.2 ...\n",
      " $ Humidity  : int  43 97 34 81 17 36 70 55 70 96 ...\n",
      " $ Wind.speed: num  2.2 2 0.9 1.4 3.1 1 0.3 2.3 2.8 1.2 ...\n",
      " $ Visibility: int  1509 177 1990 2000 1990 620 766 2000 236 673 ...\n",
      " $ DPtemp    : num  5.4 11.6 -12.4 7.2 -20.2 2.8 15.4 9.6 5.4 21.5 ...\n",
      " $ SR        : num  2.43 0.2 0 0.36 0.78 1.99 0.9 0 0 0.09 ...\n",
      " $ Rainfall  : num  0 0 0 0 0 0 0 0 0 3.5 ...\n",
      " $ Snowfall  : num  0 0 0 0 0 0 0 0 0 0 ...\n",
      " $ Seasons   : Factor w/ 4 levels \"Autumn\",\"Spring\",..: 2 2 1 2 4 2 3 1 2 3 ...\n",
      " $ Holiday   : Factor w/ 2 levels \"Holiday\",\"No Holiday\": 2 2 2 2 1 2 2 2 2 2 ...\n",
      " $ Fday      : Factor w/ 2 levels \"No\",\"Yes\": 2 2 2 2 2 2 2 2 2 2 ...\n"
     ]
    }
   ],
   "source": [
    "str(data)"
   ]
  },
  {
   "cell_type": "code",
   "execution_count": 7,
   "metadata": {
    "scrolled": true
   },
   "outputs": [
    {
     "data": {
      "image/png": "[encoded data removed]",
      "text/plain": [
       "Plot with title \"Histogram of data$Rainfall\""
      ]
     },
     "metadata": {
      "image/png": {
       "height": 420,
       "width": 420
      }
     },
     "output_type": "display_data"
    },
    {
     "data": {
      "image/png": "[encoded data removed]",
      "text/plain": [
       "Plot with title \"Histogram of data$Snowfall\""
      ]
     },
     "metadata": {
      "image/png": {
       "height": 420,
       "width": 420
      }
     },
     "output_type": "display_data"
    }
   ],
   "source": [
    "par(mfrow=c(4,2))\n",
    "par(mar = rep(2, 4))\n",
    "hist(data$BikeCount)\n",
    "hist(data$Temp)\n",
    "hist(data$Humidity)\n",
    "hist(data$Wind.speed)\n",
    "hist(data$Visibility)\n",
    "hist(data$DPtemp)\n",
    "hist(data$SR)\n",
    "hist(data$Rainfall)\n",
    "hist(data$Snowfall)\n",
    "\n"
   ]
  },
  {
   "cell_type": "code",
   "execution_count": 8,
   "metadata": {},
   "outputs": [
    {
     "data": {
      "image/png": "[encoded data removed]",
      "text/plain": [
       "plot without title"
      ]
     },
     "metadata": {
      "image/png": {
       "height": 420,
       "width": 420
      }
     },
     "output_type": "display_data"
    }
   ],
   "source": [
    "# visualising the categorical variables\n",
    "\n",
    "par(mfrow=c(4,2))\n",
    "barplot(table(data$Hour))\n",
    "\n",
    "barplot(table(data$Seasons))\n",
    "barplot(table(data$Holiday))\n",
    "barplot(table(data$Fday))\n",
    "\n",
    "\n",
    "#inference\n",
    "\n",
    "#1. similar distribution of bikecounts over all hours, and seasons\n",
    "#2.functioning day has way more on yes, holiday has way more on no holiday"
   ]
  },
  {
   "cell_type": "code",
   "execution_count": 9,
   "metadata": {},
   "outputs": [
    {
     "data": {
      "image/png": "[encoded data removed]",
      "text/plain": [
       "plot without title"
      ]
     },
     "metadata": {
      "image/png": {
       "height": 420,
       "width": 420
      }
     },
     "output_type": "display_data"
    }
   ],
   "source": [
    "# distributions of users for each hour in the day\n",
    "\n",
    "\n",
    "boxplot(data$BikeCount~data$Hour,xlab=\"Hour\", ylab=\"Count of users\")\n",
    "\n",
    "#inference\n",
    "\n",
    "# fairly low avg bike counts from 0-7 hours, moderate from 8-16, 17-22 high peaking at 18, "
   ]
  },
  {
   "cell_type": "code",
   "execution_count": 10,
   "metadata": {},
   "outputs": [],
   "source": [
    "# removing date\n",
    "\n",
    "data$Date = NULL"
   ]
  },
  {
   "cell_type": "code",
   "execution_count": 11,
   "metadata": {},
   "outputs": [
    {
     "data": {
      "image/png": "[encoded data removed]",
      "text/plain": [
       "plot without title"
      ]
     },
     "metadata": {
      "image/png": {
       "height": 420,
       "width": 420
      }
     },
     "output_type": "display_data"
    }
   ],
   "source": [
    "#Define you own panel\n",
    "myPanel <- function(x, y, z, ...) {\n",
    "    panel.levelplot(x,y,z,...)\n",
    "    panel.text(x, y, round(z, 2))\n",
    "}\n",
    "#Define the color scheme\n",
    "cols = colorRampPalette(c(\"red\",\"blue\"))\n",
    "#Plot the correlation matrix.\n",
    "levelplot(round(cor(data[c(1, 3:10)]),3), col.regions = cols(100), main = \"correlation\", xlab = NULL, ylab = NULL, \n",
    "          scales = list(x = list(rot = 90)), panel = myPanel)"
   ]
  },
  {
   "cell_type": "code",
   "execution_count": 12,
   "metadata": {},
   "outputs": [],
   "source": [
    "#inference\n",
    "\n",
    "\n",
    "# high correlation between temp and dptemp, \n",
    "# temp, dptemp, sr positive correlation with response variable\n",
    "# humidity, rainfall, snowfall, negative coorrelation\n",
    "# windspeed not very correlated with response variable"
   ]
  },
  {
   "cell_type": "code",
   "execution_count": null,
   "metadata": {},
   "outputs": [],
   "source": [
    "# here im taking log(BikeCount+1) to log transform the count as the response variable BikeCount has natural outliers"
   ]
  },
  {
   "cell_type": "code",
   "execution_count": 21,
   "metadata": {
    "scrolled": true
   },
   "outputs": [],
   "source": [
    "set.seed(999)\n",
    "forest <- randomForest(log(BikeCount+1) ~Hour + Temp\n",
    "                     +Humidity+Wind.speed+Visibility+\n",
    "                     DPtemp+SR+Rainfall+Snowfall+Seasons+\n",
    "                     Holiday+Fday, data=data,importance=TRUE, ntree=250)\n",
    "\n",
    "\n"
   ]
  },
  {
   "cell_type": "code",
   "execution_count": 22,
   "metadata": {},
   "outputs": [
    {
     "data": {
      "text/plain": [
       "\n",
       "Call:\n",
       " randomForest(formula = log(BikeCount + 1) ~ Hour + Temp + Humidity +      Wind.speed + Visibility + DPtemp + SR + Rainfall + Snowfall +      Seasons + Holiday + Fday, data = data, importance = TRUE,      ntree = 250) \n",
       "               Type of random forest: regression\n",
       "                     Number of trees: 250\n",
       "No. of variables tried at each split: 4\n",
       "\n",
       "          Mean of squared residuals: 0.1902007\n",
       "                    % Var explained: 92.45"
      ]
     },
     "metadata": {},
     "output_type": "display_data"
    }
   ],
   "source": [
    "forest"
   ]
  },
  {
   "cell_type": "code",
   "execution_count": 28,
   "metadata": {},
   "outputs": [],
   "source": [
    "prediction=predict(forest,test)\n",
    "test$logBikeCount=prediction"
   ]
  },
  {
   "cell_type": "code",
   "execution_count": 33,
   "metadata": {},
   "outputs": [],
   "source": [
    "test$predictedBikeCount=round(exp(test$logBikeCount),digits=0)-1"
   ]
  },
  {
   "cell_type": "code",
   "execution_count": 34,
   "metadata": {},
   "outputs": [
    {
     "data": {
      "text/html": [
       "<table>\n",
       "<caption>A data.frame: 1752 × 17</caption>\n",
       "<thead>\n",
       "\t<tr><th scope=col>Date</th><th scope=col>BikeCount</th><th scope=col>Hour</th><th scope=col>Temp</th><th scope=col>Humidity</th><th scope=col>Wind.speed</th><th scope=col>Visibility</th><th scope=col>DPtemp</th><th scope=col>SR</th><th scope=col>Rainfall</th><th scope=col>Snowfall</th><th scope=col>Seasons</th><th scope=col>Holiday</th><th scope=col>Fday</th><th scope=col>logreg</th><th scope=col>logBikeCount</th><th scope=col>predictedBikeCount</th></tr>\n",
       "\t<tr><th scope=col>&lt;chr&gt;</th><th scope=col>&lt;int&gt;</th><th scope=col>&lt;fct&gt;</th><th scope=col>&lt;dbl&gt;</th><th scope=col>&lt;int&gt;</th><th scope=col>&lt;dbl&gt;</th><th scope=col>&lt;int&gt;</th><th scope=col>&lt;dbl&gt;</th><th scope=col>&lt;dbl&gt;</th><th scope=col>&lt;dbl&gt;</th><th scope=col>&lt;dbl&gt;</th><th scope=col>&lt;fct&gt;</th><th scope=col>&lt;fct&gt;</th><th scope=col>&lt;fct&gt;</th><th scope=col>&lt;dbl&gt;</th><th scope=col>&lt;dbl&gt;</th><th scope=col>&lt;dbl&gt;</th></tr>\n",
       "</thead>\n",
       "<tbody>\n",
       "\t<tr><td>1/12/2017</td><td>360</td><td>11</td><td>-0.5</td><td>21</td><td>1.3</td><td>1936</td><td>-20.2</td><td>0.94</td><td>0</td><td>0.0</td><td>Winter</td><td>No Holiday</td><td>Yes</td><td>5.432163</td><td>5.432163</td><td>228</td></tr>\n",
       "\t<tr><td>1/12/2017</td><td>862</td><td>18</td><td> 0.6</td><td>66</td><td>1.4</td><td>2000</td><td> -5.0</td><td>0.00</td><td>0</td><td>0.0</td><td>Winter</td><td>No Holiday</td><td>Yes</td><td>6.031699</td><td>6.031699</td><td>415</td></tr>\n",
       "\t<tr><td>1/12/2017</td><td>323</td><td>23</td><td>-1.3</td><td>84</td><td>1.0</td><td>1265</td><td> -3.6</td><td>0.00</td><td>0</td><td>0.0</td><td>Winter</td><td>No Holiday</td><td>Yes</td><td>5.347857</td><td>5.347857</td><td>209</td></tr>\n",
       "\t<tr><td>2/12/2017</td><td> 89</td><td>4 </td><td>-3.8</td><td>79</td><td>2.0</td><td>1167</td><td> -6.9</td><td>0.00</td><td>0</td><td>0.0</td><td>Winter</td><td>No Holiday</td><td>Yes</td><td>4.073991</td><td>4.073991</td><td> 58</td></tr>\n",
       "\t<tr><td>2/12/2017</td><td>219</td><td>8 </td><td>-4.2</td><td>79</td><td>2.1</td><td>1436</td><td> -7.3</td><td>0.01</td><td>0</td><td>0.0</td><td>Winter</td><td>No Holiday</td><td>Yes</td><td>5.841529</td><td>5.841529</td><td>343</td></tr>\n",
       "\t<tr><td>2/12/2017</td><td>479</td><td>12</td><td> 4.3</td><td>41</td><td>1.3</td><td>1666</td><td> -7.8</td><td>1.09</td><td>0</td><td>0.0</td><td>Winter</td><td>No Holiday</td><td>Yes</td><td>5.925099</td><td>5.925099</td><td>373</td></tr>\n",
       "\t<tr><td>2/12/2017</td><td>589</td><td>15</td><td> 7.6</td><td>41</td><td>2.3</td><td>1953</td><td> -4.8</td><td>0.74</td><td>0</td><td>0.0</td><td>Winter</td><td>No Holiday</td><td>Yes</td><td>6.179439</td><td>6.179439</td><td>482</td></tr>\n",
       "\t<tr><td>2/12/2017</td><td>572</td><td>17</td><td> 6.0</td><td>51</td><td>2.5</td><td>1891</td><td> -3.3</td><td>0.06</td><td>0</td><td>0.0</td><td>Winter</td><td>No Holiday</td><td>Yes</td><td>6.197486</td><td>6.197486</td><td>491</td></tr>\n",
       "\t<tr><td>2/12/2017</td><td>489</td><td>18</td><td> 5.5</td><td>53</td><td>1.5</td><td>1697</td><td> -3.3</td><td>0.00</td><td>0</td><td>0.0</td><td>Winter</td><td>No Holiday</td><td>Yes</td><td>6.104659</td><td>6.104659</td><td>447</td></tr>\n",
       "\t<tr><td>2/12/2017</td><td>377</td><td>21</td><td> 4.1</td><td>55</td><td>1.2</td><td>1448</td><td> -4.1</td><td>0.00</td><td>0</td><td>0.0</td><td>Winter</td><td>No Holiday</td><td>Yes</td><td>5.857226</td><td>5.857226</td><td>349</td></tr>\n",
       "\t<tr><td>2/12/2017</td><td>366</td><td>23</td><td> 4.0</td><td>56</td><td>1.0</td><td>1352</td><td> -4.0</td><td>0.00</td><td>0</td><td>0.0</td><td>Winter</td><td>No Holiday</td><td>Yes</td><td>5.631832</td><td>5.631832</td><td>278</td></tr>\n",
       "\t<tr><td>3/12/2017</td><td>397</td><td>20</td><td> 5.2</td><td>87</td><td>1.4</td><td> 253</td><td>  3.2</td><td>0.00</td><td>0</td><td>0.0</td><td>Winter</td><td>No Holiday</td><td>Yes</td><td>5.478237</td><td>5.478237</td><td>238</td></tr>\n",
       "\t<tr><td>3/12/2017</td><td>385</td><td>21</td><td> 4.7</td><td>87</td><td>1.2</td><td> 247</td><td>  2.7</td><td>0.00</td><td>0</td><td>0.0</td><td>Winter</td><td>No Holiday</td><td>Yes</td><td>5.492009</td><td>5.492009</td><td>242</td></tr>\n",
       "\t<tr><td>4/12/2017</td><td>186</td><td>1 </td><td> 4.3</td><td>87</td><td>0.5</td><td> 221</td><td>  2.3</td><td>0.00</td><td>0</td><td>0.0</td><td>Winter</td><td>No Holiday</td><td>Yes</td><td>5.227895</td><td>5.227895</td><td>185</td></tr>\n",
       "\t<tr><td>4/12/2017</td><td>498</td><td>7 </td><td> 0.2</td><td>68</td><td>3.4</td><td> 702</td><td> -5.0</td><td>0.00</td><td>0</td><td>0.0</td><td>Winter</td><td>No Holiday</td><td>Yes</td><td>5.457606</td><td>5.457606</td><td>234</td></tr>\n",
       "\t<tr><td>4/12/2017</td><td>393</td><td>12</td><td>-0.3</td><td>38</td><td>4.8</td><td>1823</td><td>-12.9</td><td>1.11</td><td>0</td><td>0.0</td><td>Winter</td><td>No Holiday</td><td>Yes</td><td>5.695602</td><td>5.695602</td><td>297</td></tr>\n",
       "\t<tr><td>4/12/2017</td><td>391</td><td>13</td><td> 0.0</td><td>30</td><td>5.4</td><td>1938</td><td>-15.5</td><td>1.17</td><td>0</td><td>0.0</td><td>Winter</td><td>No Holiday</td><td>Yes</td><td>5.692539</td><td>5.692539</td><td>296</td></tr>\n",
       "\t<tr><td>4/12/2017</td><td>338</td><td>14</td><td> 0.1</td><td>27</td><td>4.5</td><td>2000</td><td>-16.7</td><td>1.09</td><td>0</td><td>0.0</td><td>Winter</td><td>No Holiday</td><td>Yes</td><td>5.713988</td><td>5.713988</td><td>302</td></tr>\n",
       "\t<tr><td>4/12/2017</td><td>515</td><td>17</td><td>-1.3</td><td>26</td><td>5.3</td><td>2000</td><td>-18.3</td><td>0.18</td><td>0</td><td>0.0</td><td>Winter</td><td>No Holiday</td><td>Yes</td><td>5.737029</td><td>5.737029</td><td>309</td></tr>\n",
       "\t<tr><td>4/12/2017</td><td>353</td><td>22</td><td>-5.3</td><td>45</td><td>2.5</td><td>2000</td><td>-15.3</td><td>0.00</td><td>0</td><td>0.0</td><td>Winter</td><td>No Holiday</td><td>Yes</td><td>5.363298</td><td>5.363298</td><td>212</td></tr>\n",
       "\t<tr><td>5/12/2017</td><td>124</td><td>2 </td><td>-6.8</td><td>41</td><td>2.5</td><td>2000</td><td>-17.8</td><td>0.00</td><td>0</td><td>0.0</td><td>Winter</td><td>No Holiday</td><td>Yes</td><td>4.555543</td><td>4.555543</td><td> 94</td></tr>\n",
       "\t<tr><td>5/12/2017</td><td>381</td><td>7 </td><td>-7.5</td><td>33</td><td>2.2</td><td>2000</td><td>-21.0</td><td>0.00</td><td>0</td><td>0.0</td><td>Winter</td><td>No Holiday</td><td>Yes</td><td>4.918521</td><td>4.918521</td><td>136</td></tr>\n",
       "\t<tr><td>5/12/2017</td><td>325</td><td>13</td><td>-1.6</td><td>27</td><td>0.0</td><td>1955</td><td>-18.2</td><td>0.00</td><td>0</td><td>0.0</td><td>Winter</td><td>No Holiday</td><td>Yes</td><td>5.751043</td><td>5.751043</td><td>314</td></tr>\n",
       "\t<tr><td>5/12/2017</td><td>334</td><td>14</td><td>-1.1</td><td>28</td><td>0.0</td><td>2000</td><td>-17.3</td><td>0.00</td><td>0</td><td>0.0</td><td>Winter</td><td>No Holiday</td><td>Yes</td><td>5.782286</td><td>5.782286</td><td>324</td></tr>\n",
       "\t<tr><td>5/12/2017</td><td>789</td><td>18</td><td>-2.6</td><td>40</td><td>0.0</td><td>2000</td><td>-14.4</td><td>0.00</td><td>0</td><td>0.0</td><td>Winter</td><td>No Holiday</td><td>Yes</td><td>6.106601</td><td>6.106601</td><td>448</td></tr>\n",
       "\t<tr><td>5/12/2017</td><td>418</td><td>20</td><td>-3.5</td><td>46</td><td>0.0</td><td>2000</td><td>-13.4</td><td>0.00</td><td>0</td><td>0.0</td><td>Winter</td><td>No Holiday</td><td>Yes</td><td>5.797431</td><td>5.797431</td><td>328</td></tr>\n",
       "\t<tr><td>5/12/2017</td><td>393</td><td>22</td><td>-2.8</td><td>49</td><td>0.0</td><td>2000</td><td>-12.0</td><td>0.00</td><td>0</td><td>0.0</td><td>Winter</td><td>No Holiday</td><td>Yes</td><td>5.698643</td><td>5.698643</td><td>297</td></tr>\n",
       "\t<tr><td>5/12/2017</td><td>244</td><td>23</td><td>-2.5</td><td>59</td><td>0.0</td><td>1210</td><td> -9.4</td><td>0.00</td><td>0</td><td>0.0</td><td>Winter</td><td>No Holiday</td><td>Yes</td><td>5.332316</td><td>5.332316</td><td>206</td></tr>\n",
       "\t<tr><td>6/12/2017</td><td>117</td><td>2 </td><td>-3.0</td><td>79</td><td>0.0</td><td>1862</td><td> -6.1</td><td>0.00</td><td>0</td><td>0.4</td><td>Winter</td><td>No Holiday</td><td>Yes</td><td>4.823933</td><td>4.823933</td><td>123</td></tr>\n",
       "\t<tr><td>6/12/2017</td><td>440</td><td>9 </td><td>-3.3</td><td>70</td><td>0.0</td><td>1324</td><td> -7.9</td><td>0.25</td><td>0</td><td>0.2</td><td>Winter</td><td>No Holiday</td><td>Yes</td><td>5.519931</td><td>5.519931</td><td>249</td></tr>\n",
       "\t<tr><td>...</td><td>...</td><td>...</td><td>...</td><td>...</td><td>...</td><td>...</td><td>...</td><td>...</td><td>...</td><td>...</td><td>...</td><td>...</td><td>...</td><td>...</td><td>...</td><td>...</td></tr>\n",
       "\t<tr><td>25/11/2018</td><td> 700</td><td>12</td><td> 6.9</td><td>59</td><td>0.9</td><td> 669</td><td> -0.5</td><td>1.31</td><td>0</td><td>2.2</td><td>Autumn</td><td>No Holiday</td><td>Yes</td><td>6.406703</td><td>6.406703</td><td> 605</td></tr>\n",
       "\t<tr><td>25/11/2018</td><td> 663</td><td>18</td><td> 7.3</td><td>72</td><td>0.7</td><td> 530</td><td>  2.5</td><td>0.00</td><td>0</td><td>0.4</td><td>Autumn</td><td>No Holiday</td><td>Yes</td><td>6.615386</td><td>6.615386</td><td> 745</td></tr>\n",
       "\t<tr><td>26/11/2018</td><td> 214</td><td>1 </td><td> 3.1</td><td>84</td><td>1.0</td><td> 365</td><td>  0.6</td><td>0.00</td><td>0</td><td>0.3</td><td>Autumn</td><td>No Holiday</td><td>Yes</td><td>5.821175</td><td>5.821175</td><td> 336</td></tr>\n",
       "\t<tr><td>26/11/2018</td><td> 339</td><td>6 </td><td> 1.8</td><td>88</td><td>1.1</td><td> 313</td><td>  0.0</td><td>0.00</td><td>0</td><td>0.3</td><td>Autumn</td><td>No Holiday</td><td>Yes</td><td>5.218984</td><td>5.218984</td><td> 184</td></tr>\n",
       "\t<tr><td>26/11/2018</td><td> 795</td><td>9 </td><td> 3.1</td><td>77</td><td>0.9</td><td> 457</td><td> -0.5</td><td>0.40</td><td>0</td><td>0.2</td><td>Autumn</td><td>No Holiday</td><td>Yes</td><td>6.492910</td><td>6.492910</td><td> 659</td></tr>\n",
       "\t<tr><td>26/11/2018</td><td> 794</td><td>15</td><td>13.2</td><td>43</td><td>1.1</td><td> 714</td><td>  0.8</td><td>1.26</td><td>0</td><td>0.0</td><td>Autumn</td><td>No Holiday</td><td>Yes</td><td>6.813896</td><td>6.813896</td><td> 909</td></tr>\n",
       "\t<tr><td>27/11/2018</td><td> 408</td><td>1 </td><td> 4.5</td><td>82</td><td>0.4</td><td> 350</td><td>  1.6</td><td>0.00</td><td>0</td><td>0.0</td><td>Autumn</td><td>No Holiday</td><td>Yes</td><td>5.851477</td><td>5.851477</td><td> 347</td></tr>\n",
       "\t<tr><td>27/11/2018</td><td> 815</td><td>7 </td><td> 3.6</td><td>83</td><td>0.9</td><td> 350</td><td>  0.9</td><td>0.00</td><td>0</td><td>0.0</td><td>Autumn</td><td>No Holiday</td><td>Yes</td><td>5.998856</td><td>5.998856</td><td> 402</td></tr>\n",
       "\t<tr><td>27/11/2018</td><td> 671</td><td>13</td><td>11.0</td><td>60</td><td>0.9</td><td> 411</td><td>  3.5</td><td>0.85</td><td>0</td><td>0.0</td><td>Autumn</td><td>No Holiday</td><td>Yes</td><td>6.603311</td><td>6.603311</td><td> 737</td></tr>\n",
       "\t<tr><td>27/11/2018</td><td>1538</td><td>18</td><td>10.2</td><td>74</td><td>1.2</td><td> 289</td><td>  5.7</td><td>0.00</td><td>0</td><td>0.0</td><td>Autumn</td><td>No Holiday</td><td>Yes</td><td>6.824248</td><td>6.824248</td><td> 919</td></tr>\n",
       "\t<tr><td>27/11/2018</td><td>1023</td><td>19</td><td> 9.3</td><td>52</td><td>2.7</td><td> 482</td><td>  0.0</td><td>0.00</td><td>0</td><td>0.0</td><td>Autumn</td><td>No Holiday</td><td>Yes</td><td>6.991270</td><td>6.991270</td><td>1086</td></tr>\n",
       "\t<tr><td>27/11/2018</td><td> 777</td><td>21</td><td> 7.5</td><td>35</td><td>1.8</td><td> 656</td><td> -7.0</td><td>0.00</td><td>0</td><td>0.0</td><td>Autumn</td><td>No Holiday</td><td>Yes</td><td>6.710158</td><td>6.710158</td><td> 820</td></tr>\n",
       "\t<tr><td>27/11/2018</td><td> 593</td><td>23</td><td> 5.8</td><td>34</td><td>2.6</td><td> 763</td><td> -8.8</td><td>0.00</td><td>0</td><td>0.0</td><td>Autumn</td><td>No Holiday</td><td>Yes</td><td>6.303025</td><td>6.303025</td><td> 545</td></tr>\n",
       "\t<tr><td>28/11/2018</td><td> 167</td><td>3 </td><td> 3.5</td><td>38</td><td>1.6</td><td> 907</td><td> -9.5</td><td>0.00</td><td>0</td><td>0.0</td><td>Autumn</td><td>No Holiday</td><td>Yes</td><td>5.265431</td><td>5.265431</td><td> 193</td></tr>\n",
       "\t<tr><td>28/11/2018</td><td> 583</td><td>10</td><td> 4.4</td><td>23</td><td>1.6</td><td>1201</td><td>-14.9</td><td>0.70</td><td>0</td><td>0.0</td><td>Autumn</td><td>No Holiday</td><td>Yes</td><td>6.329145</td><td>6.329145</td><td> 560</td></tr>\n",
       "\t<tr><td>28/11/2018</td><td>1039</td><td>19</td><td> 6.0</td><td>24</td><td>3.0</td><td>1861</td><td>-13.0</td><td>0.00</td><td>0</td><td>0.0</td><td>Autumn</td><td>No Holiday</td><td>Yes</td><td>6.821077</td><td>6.821077</td><td> 916</td></tr>\n",
       "\t<tr><td>28/11/2018</td><td> 842</td><td>20</td><td> 4.8</td><td>29</td><td>0.6</td><td>1756</td><td>-11.7</td><td>0.00</td><td>0</td><td>0.0</td><td>Autumn</td><td>No Holiday</td><td>Yes</td><td>6.610314</td><td>6.610314</td><td> 742</td></tr>\n",
       "\t<tr><td>29/11/2018</td><td> 517</td><td>0 </td><td> 2.2</td><td>30</td><td>0.7</td><td>1879</td><td>-13.6</td><td>0.00</td><td>0</td><td>0.0</td><td>Autumn</td><td>No Holiday</td><td>Yes</td><td>6.218839</td><td>6.218839</td><td> 501</td></tr>\n",
       "\t<tr><td>29/11/2018</td><td> 485</td><td>1 </td><td> 1.9</td><td>32</td><td>1.4</td><td>1999</td><td>-13.0</td><td>0.00</td><td>0</td><td>0.0</td><td>Autumn</td><td>No Holiday</td><td>Yes</td><td>6.124009</td><td>6.124009</td><td> 456</td></tr>\n",
       "\t<tr><td>29/11/2018</td><td> 328</td><td>6 </td><td> 1.1</td><td>39</td><td>1.3</td><td>1857</td><td>-11.3</td><td>0.00</td><td>0</td><td>0.0</td><td>Autumn</td><td>No Holiday</td><td>Yes</td><td>5.464073</td><td>5.464073</td><td> 235</td></tr>\n",
       "\t<tr><td>29/11/2018</td><td> 825</td><td>9 </td><td> 1.8</td><td>37</td><td>0.9</td><td>1310</td><td>-11.3</td><td>0.31</td><td>0</td><td>0.0</td><td>Autumn</td><td>No Holiday</td><td>Yes</td><td>6.532794</td><td>6.532794</td><td> 686</td></tr>\n",
       "\t<tr><td>29/11/2018</td><td> 623</td><td>11</td><td> 5.2</td><td>26</td><td>0.5</td><td>1471</td><td>-12.7</td><td>0.64</td><td>0</td><td>0.0</td><td>Autumn</td><td>No Holiday</td><td>Yes</td><td>6.429086</td><td>6.429086</td><td> 619</td></tr>\n",
       "\t<tr><td>29/11/2018</td><td> 668</td><td>14</td><td> 6.0</td><td>27</td><td>0.6</td><td>1452</td><td>-11.6</td><td>0.34</td><td>0</td><td>0.0</td><td>Autumn</td><td>No Holiday</td><td>Yes</td><td>6.428645</td><td>6.428645</td><td> 618</td></tr>\n",
       "\t<tr><td>29/11/2018</td><td> 652</td><td>15</td><td> 6.5</td><td>32</td><td>2.6</td><td>1321</td><td> -9.0</td><td>0.35</td><td>0</td><td>0.0</td><td>Autumn</td><td>No Holiday</td><td>Yes</td><td>6.492682</td><td>6.492682</td><td> 659</td></tr>\n",
       "\t<tr><td>29/11/2018</td><td> 996</td><td>17</td><td> 5.8</td><td>38</td><td>1.3</td><td>1674</td><td> -7.4</td><td>0.01</td><td>0</td><td>0.0</td><td>Autumn</td><td>No Holiday</td><td>Yes</td><td>6.806707</td><td>6.806707</td><td> 903</td></tr>\n",
       "\t<tr><td>29/11/2018</td><td> 792</td><td>21</td><td> 3.8</td><td>55</td><td>2.1</td><td>1231</td><td> -4.4</td><td>0.00</td><td>0</td><td>0.0</td><td>Autumn</td><td>No Holiday</td><td>Yes</td><td>6.631312</td><td>6.631312</td><td> 757</td></tr>\n",
       "\t<tr><td>29/11/2018</td><td> 726</td><td>22</td><td> 3.0</td><td>59</td><td>1.1</td><td>1218</td><td> -4.2</td><td>0.00</td><td>0</td><td>0.0</td><td>Autumn</td><td>No Holiday</td><td>Yes</td><td>6.563103</td><td>6.563103</td><td> 707</td></tr>\n",
       "\t<tr><td>29/11/2018</td><td> 559</td><td>23</td><td> 2.6</td><td>56</td><td>1.9</td><td>1394</td><td> -5.3</td><td>0.00</td><td>0</td><td>0.0</td><td>Autumn</td><td>No Holiday</td><td>Yes</td><td>6.244350</td><td>6.244350</td><td> 514</td></tr>\n",
       "\t<tr><td>30/11/2018</td><td> 809</td><td>9 </td><td>-0.4</td><td>57</td><td>0.6</td><td>1270</td><td> -7.8</td><td>0.45</td><td>0</td><td>0.0</td><td>Autumn</td><td>No Holiday</td><td>Yes</td><td>6.474880</td><td>6.474880</td><td> 648</td></tr>\n",
       "\t<tr><td>30/11/2018</td><td> 694</td><td>21</td><td> 2.6</td><td>39</td><td>0.3</td><td>1968</td><td> -9.9</td><td>0.00</td><td>0</td><td>0.0</td><td>Autumn</td><td>No Holiday</td><td>Yes</td><td>6.529157</td><td>6.529157</td><td> 684</td></tr>\n",
       "</tbody>\n",
       "</table>\n"
      ],
      "text/latex": [
       "A data.frame: 1752 × 17\n",
       "\\begin{tabular}{lllllllllllllllll}\n",
       " Date & BikeCount & Hour & Temp & Humidity & Wind.speed & Visibility & DPtemp & SR & Rainfall & Snowfall & Seasons & Holiday & Fday & logreg & logBikeCount & predictedBikeCount\\\\\n",
       " <chr> & <int> & <fct> & <dbl> & <int> & <dbl> & <int> & <dbl> & <dbl> & <dbl> & <dbl> & <fct> & <fct> & <fct> & <dbl> & <dbl> & <dbl>\\\\\n",
       "\\hline\n",
       "\t 1/12/2017 & 360 & 11 & -0.5 & 21 & 1.3 & 1936 & -20.2 & 0.94 & 0 & 0.0 & Winter & No Holiday & Yes & 5.432163 & 5.432163 & 228\\\\\n",
       "\t 1/12/2017 & 862 & 18 &  0.6 & 66 & 1.4 & 2000 &  -5.0 & 0.00 & 0 & 0.0 & Winter & No Holiday & Yes & 6.031699 & 6.031699 & 415\\\\\n",
       "\t 1/12/2017 & 323 & 23 & -1.3 & 84 & 1.0 & 1265 &  -3.6 & 0.00 & 0 & 0.0 & Winter & No Holiday & Yes & 5.347857 & 5.347857 & 209\\\\\n",
       "\t 2/12/2017 &  89 & 4  & -3.8 & 79 & 2.0 & 1167 &  -6.9 & 0.00 & 0 & 0.0 & Winter & No Holiday & Yes & 4.073991 & 4.073991 &  58\\\\\n",
       "\t 2/12/2017 & 219 & 8  & -4.2 & 79 & 2.1 & 1436 &  -7.3 & 0.01 & 0 & 0.0 & Winter & No Holiday & Yes & 5.841529 & 5.841529 & 343\\\\\n",
       "\t 2/12/2017 & 479 & 12 &  4.3 & 41 & 1.3 & 1666 &  -7.8 & 1.09 & 0 & 0.0 & Winter & No Holiday & Yes & 5.925099 & 5.925099 & 373\\\\\n",
       "\t 2/12/2017 & 589 & 15 &  7.6 & 41 & 2.3 & 1953 &  -4.8 & 0.74 & 0 & 0.0 & Winter & No Holiday & Yes & 6.179439 & 6.179439 & 482\\\\\n",
       "\t 2/12/2017 & 572 & 17 &  6.0 & 51 & 2.5 & 1891 &  -3.3 & 0.06 & 0 & 0.0 & Winter & No Holiday & Yes & 6.197486 & 6.197486 & 491\\\\\n",
       "\t 2/12/2017 & 489 & 18 &  5.5 & 53 & 1.5 & 1697 &  -3.3 & 0.00 & 0 & 0.0 & Winter & No Holiday & Yes & 6.104659 & 6.104659 & 447\\\\\n",
       "\t 2/12/2017 & 377 & 21 &  4.1 & 55 & 1.2 & 1448 &  -4.1 & 0.00 & 0 & 0.0 & Winter & No Holiday & Yes & 5.857226 & 5.857226 & 349\\\\\n",
       "\t 2/12/2017 & 366 & 23 &  4.0 & 56 & 1.0 & 1352 &  -4.0 & 0.00 & 0 & 0.0 & Winter & No Holiday & Yes & 5.631832 & 5.631832 & 278\\\\\n",
       "\t 3/12/2017 & 397 & 20 &  5.2 & 87 & 1.4 &  253 &   3.2 & 0.00 & 0 & 0.0 & Winter & No Holiday & Yes & 5.478237 & 5.478237 & 238\\\\\n",
       "\t 3/12/2017 & 385 & 21 &  4.7 & 87 & 1.2 &  247 &   2.7 & 0.00 & 0 & 0.0 & Winter & No Holiday & Yes & 5.492009 & 5.492009 & 242\\\\\n",
       "\t 4/12/2017 & 186 & 1  &  4.3 & 87 & 0.5 &  221 &   2.3 & 0.00 & 0 & 0.0 & Winter & No Holiday & Yes & 5.227895 & 5.227895 & 185\\\\\n",
       "\t 4/12/2017 & 498 & 7  &  0.2 & 68 & 3.4 &  702 &  -5.0 & 0.00 & 0 & 0.0 & Winter & No Holiday & Yes & 5.457606 & 5.457606 & 234\\\\\n",
       "\t 4/12/2017 & 393 & 12 & -0.3 & 38 & 4.8 & 1823 & -12.9 & 1.11 & 0 & 0.0 & Winter & No Holiday & Yes & 5.695602 & 5.695602 & 297\\\\\n",
       "\t 4/12/2017 & 391 & 13 &  0.0 & 30 & 5.4 & 1938 & -15.5 & 1.17 & 0 & 0.0 & Winter & No Holiday & Yes & 5.692539 & 5.692539 & 296\\\\\n",
       "\t 4/12/2017 & 338 & 14 &  0.1 & 27 & 4.5 & 2000 & -16.7 & 1.09 & 0 & 0.0 & Winter & No Holiday & Yes & 5.713988 & 5.713988 & 302\\\\\n",
       "\t 4/12/2017 & 515 & 17 & -1.3 & 26 & 5.3 & 2000 & -18.3 & 0.18 & 0 & 0.0 & Winter & No Holiday & Yes & 5.737029 & 5.737029 & 309\\\\\n",
       "\t 4/12/2017 & 353 & 22 & -5.3 & 45 & 2.5 & 2000 & -15.3 & 0.00 & 0 & 0.0 & Winter & No Holiday & Yes & 5.363298 & 5.363298 & 212\\\\\n",
       "\t 5/12/2017 & 124 & 2  & -6.8 & 41 & 2.5 & 2000 & -17.8 & 0.00 & 0 & 0.0 & Winter & No Holiday & Yes & 4.555543 & 4.555543 &  94\\\\\n",
       "\t 5/12/2017 & 381 & 7  & -7.5 & 33 & 2.2 & 2000 & -21.0 & 0.00 & 0 & 0.0 & Winter & No Holiday & Yes & 4.918521 & 4.918521 & 136\\\\\n",
       "\t 5/12/2017 & 325 & 13 & -1.6 & 27 & 0.0 & 1955 & -18.2 & 0.00 & 0 & 0.0 & Winter & No Holiday & Yes & 5.751043 & 5.751043 & 314\\\\\n",
       "\t 5/12/2017 & 334 & 14 & -1.1 & 28 & 0.0 & 2000 & -17.3 & 0.00 & 0 & 0.0 & Winter & No Holiday & Yes & 5.782286 & 5.782286 & 324\\\\\n",
       "\t 5/12/2017 & 789 & 18 & -2.6 & 40 & 0.0 & 2000 & -14.4 & 0.00 & 0 & 0.0 & Winter & No Holiday & Yes & 6.106601 & 6.106601 & 448\\\\\n",
       "\t 5/12/2017 & 418 & 20 & -3.5 & 46 & 0.0 & 2000 & -13.4 & 0.00 & 0 & 0.0 & Winter & No Holiday & Yes & 5.797431 & 5.797431 & 328\\\\\n",
       "\t 5/12/2017 & 393 & 22 & -2.8 & 49 & 0.0 & 2000 & -12.0 & 0.00 & 0 & 0.0 & Winter & No Holiday & Yes & 5.698643 & 5.698643 & 297\\\\\n",
       "\t 5/12/2017 & 244 & 23 & -2.5 & 59 & 0.0 & 1210 &  -9.4 & 0.00 & 0 & 0.0 & Winter & No Holiday & Yes & 5.332316 & 5.332316 & 206\\\\\n",
       "\t 6/12/2017 & 117 & 2  & -3.0 & 79 & 0.0 & 1862 &  -6.1 & 0.00 & 0 & 0.4 & Winter & No Holiday & Yes & 4.823933 & 4.823933 & 123\\\\\n",
       "\t 6/12/2017 & 440 & 9  & -3.3 & 70 & 0.0 & 1324 &  -7.9 & 0.25 & 0 & 0.2 & Winter & No Holiday & Yes & 5.519931 & 5.519931 & 249\\\\\n",
       "\t ... & ... & ... & ... & ... & ... & ... & ... & ... & ... & ... & ... & ... & ... & ... & ... & ...\\\\\n",
       "\t 25/11/2018 &  700 & 12 &  6.9 & 59 & 0.9 &  669 &  -0.5 & 1.31 & 0 & 2.2 & Autumn & No Holiday & Yes & 6.406703 & 6.406703 &  605\\\\\n",
       "\t 25/11/2018 &  663 & 18 &  7.3 & 72 & 0.7 &  530 &   2.5 & 0.00 & 0 & 0.4 & Autumn & No Holiday & Yes & 6.615386 & 6.615386 &  745\\\\\n",
       "\t 26/11/2018 &  214 & 1  &  3.1 & 84 & 1.0 &  365 &   0.6 & 0.00 & 0 & 0.3 & Autumn & No Holiday & Yes & 5.821175 & 5.821175 &  336\\\\\n",
       "\t 26/11/2018 &  339 & 6  &  1.8 & 88 & 1.1 &  313 &   0.0 & 0.00 & 0 & 0.3 & Autumn & No Holiday & Yes & 5.218984 & 5.218984 &  184\\\\\n",
       "\t 26/11/2018 &  795 & 9  &  3.1 & 77 & 0.9 &  457 &  -0.5 & 0.40 & 0 & 0.2 & Autumn & No Holiday & Yes & 6.492910 & 6.492910 &  659\\\\\n",
       "\t 26/11/2018 &  794 & 15 & 13.2 & 43 & 1.1 &  714 &   0.8 & 1.26 & 0 & 0.0 & Autumn & No Holiday & Yes & 6.813896 & 6.813896 &  909\\\\\n",
       "\t 27/11/2018 &  408 & 1  &  4.5 & 82 & 0.4 &  350 &   1.6 & 0.00 & 0 & 0.0 & Autumn & No Holiday & Yes & 5.851477 & 5.851477 &  347\\\\\n",
       "\t 27/11/2018 &  815 & 7  &  3.6 & 83 & 0.9 &  350 &   0.9 & 0.00 & 0 & 0.0 & Autumn & No Holiday & Yes & 5.998856 & 5.998856 &  402\\\\\n",
       "\t 27/11/2018 &  671 & 13 & 11.0 & 60 & 0.9 &  411 &   3.5 & 0.85 & 0 & 0.0 & Autumn & No Holiday & Yes & 6.603311 & 6.603311 &  737\\\\\n",
       "\t 27/11/2018 & 1538 & 18 & 10.2 & 74 & 1.2 &  289 &   5.7 & 0.00 & 0 & 0.0 & Autumn & No Holiday & Yes & 6.824248 & 6.824248 &  919\\\\\n",
       "\t 27/11/2018 & 1023 & 19 &  9.3 & 52 & 2.7 &  482 &   0.0 & 0.00 & 0 & 0.0 & Autumn & No Holiday & Yes & 6.991270 & 6.991270 & 1086\\\\\n",
       "\t 27/11/2018 &  777 & 21 &  7.5 & 35 & 1.8 &  656 &  -7.0 & 0.00 & 0 & 0.0 & Autumn & No Holiday & Yes & 6.710158 & 6.710158 &  820\\\\\n",
       "\t 27/11/2018 &  593 & 23 &  5.8 & 34 & 2.6 &  763 &  -8.8 & 0.00 & 0 & 0.0 & Autumn & No Holiday & Yes & 6.303025 & 6.303025 &  545\\\\\n",
       "\t 28/11/2018 &  167 & 3  &  3.5 & 38 & 1.6 &  907 &  -9.5 & 0.00 & 0 & 0.0 & Autumn & No Holiday & Yes & 5.265431 & 5.265431 &  193\\\\\n",
       "\t 28/11/2018 &  583 & 10 &  4.4 & 23 & 1.6 & 1201 & -14.9 & 0.70 & 0 & 0.0 & Autumn & No Holiday & Yes & 6.329145 & 6.329145 &  560\\\\\n",
       "\t 28/11/2018 & 1039 & 19 &  6.0 & 24 & 3.0 & 1861 & -13.0 & 0.00 & 0 & 0.0 & Autumn & No Holiday & Yes & 6.821077 & 6.821077 &  916\\\\\n",
       "\t 28/11/2018 &  842 & 20 &  4.8 & 29 & 0.6 & 1756 & -11.7 & 0.00 & 0 & 0.0 & Autumn & No Holiday & Yes & 6.610314 & 6.610314 &  742\\\\\n",
       "\t 29/11/2018 &  517 & 0  &  2.2 & 30 & 0.7 & 1879 & -13.6 & 0.00 & 0 & 0.0 & Autumn & No Holiday & Yes & 6.218839 & 6.218839 &  501\\\\\n",
       "\t 29/11/2018 &  485 & 1  &  1.9 & 32 & 1.4 & 1999 & -13.0 & 0.00 & 0 & 0.0 & Autumn & No Holiday & Yes & 6.124009 & 6.124009 &  456\\\\\n",
       "\t 29/11/2018 &  328 & 6  &  1.1 & 39 & 1.3 & 1857 & -11.3 & 0.00 & 0 & 0.0 & Autumn & No Holiday & Yes & 5.464073 & 5.464073 &  235\\\\\n",
       "\t 29/11/2018 &  825 & 9  &  1.8 & 37 & 0.9 & 1310 & -11.3 & 0.31 & 0 & 0.0 & Autumn & No Holiday & Yes & 6.532794 & 6.532794 &  686\\\\\n",
       "\t 29/11/2018 &  623 & 11 &  5.2 & 26 & 0.5 & 1471 & -12.7 & 0.64 & 0 & 0.0 & Autumn & No Holiday & Yes & 6.429086 & 6.429086 &  619\\\\\n",
       "\t 29/11/2018 &  668 & 14 &  6.0 & 27 & 0.6 & 1452 & -11.6 & 0.34 & 0 & 0.0 & Autumn & No Holiday & Yes & 6.428645 & 6.428645 &  618\\\\\n",
       "\t 29/11/2018 &  652 & 15 &  6.5 & 32 & 2.6 & 1321 &  -9.0 & 0.35 & 0 & 0.0 & Autumn & No Holiday & Yes & 6.492682 & 6.492682 &  659\\\\\n",
       "\t 29/11/2018 &  996 & 17 &  5.8 & 38 & 1.3 & 1674 &  -7.4 & 0.01 & 0 & 0.0 & Autumn & No Holiday & Yes & 6.806707 & 6.806707 &  903\\\\\n",
       "\t 29/11/2018 &  792 & 21 &  3.8 & 55 & 2.1 & 1231 &  -4.4 & 0.00 & 0 & 0.0 & Autumn & No Holiday & Yes & 6.631312 & 6.631312 &  757\\\\\n",
       "\t 29/11/2018 &  726 & 22 &  3.0 & 59 & 1.1 & 1218 &  -4.2 & 0.00 & 0 & 0.0 & Autumn & No Holiday & Yes & 6.563103 & 6.563103 &  707\\\\\n",
       "\t 29/11/2018 &  559 & 23 &  2.6 & 56 & 1.9 & 1394 &  -5.3 & 0.00 & 0 & 0.0 & Autumn & No Holiday & Yes & 6.244350 & 6.244350 &  514\\\\\n",
       "\t 30/11/2018 &  809 & 9  & -0.4 & 57 & 0.6 & 1270 &  -7.8 & 0.45 & 0 & 0.0 & Autumn & No Holiday & Yes & 6.474880 & 6.474880 &  648\\\\\n",
       "\t 30/11/2018 &  694 & 21 &  2.6 & 39 & 0.3 & 1968 &  -9.9 & 0.00 & 0 & 0.0 & Autumn & No Holiday & Yes & 6.529157 & 6.529157 &  684\\\\\n",
       "\\end{tabular}\n"
      ],
      "text/markdown": [
       "\n",
       "A data.frame: 1752 × 17\n",
       "\n",
       "| Date &lt;chr&gt; | BikeCount &lt;int&gt; | Hour &lt;fct&gt; | Temp &lt;dbl&gt; | Humidity &lt;int&gt; | Wind.speed &lt;dbl&gt; | Visibility &lt;int&gt; | DPtemp &lt;dbl&gt; | SR &lt;dbl&gt; | Rainfall &lt;dbl&gt; | Snowfall &lt;dbl&gt; | Seasons &lt;fct&gt; | Holiday &lt;fct&gt; | Fday &lt;fct&gt; | logreg &lt;dbl&gt; | logBikeCount &lt;dbl&gt; | predictedBikeCount &lt;dbl&gt; |\n",
       "|---|---|---|---|---|---|---|---|---|---|---|---|---|---|---|---|---|\n",
       "| 1/12/2017 | 360 | 11 | -0.5 | 21 | 1.3 | 1936 | -20.2 | 0.94 | 0 | 0.0 | Winter | No Holiday | Yes | 5.432163 | 5.432163 | 228 |\n",
       "| 1/12/2017 | 862 | 18 |  0.6 | 66 | 1.4 | 2000 |  -5.0 | 0.00 | 0 | 0.0 | Winter | No Holiday | Yes | 6.031699 | 6.031699 | 415 |\n",
       "| 1/12/2017 | 323 | 23 | -1.3 | 84 | 1.0 | 1265 |  -3.6 | 0.00 | 0 | 0.0 | Winter | No Holiday | Yes | 5.347857 | 5.347857 | 209 |\n",
       "| 2/12/2017 |  89 | 4  | -3.8 | 79 | 2.0 | 1167 |  -6.9 | 0.00 | 0 | 0.0 | Winter | No Holiday | Yes | 4.073991 | 4.073991 |  58 |\n",
       "| 2/12/2017 | 219 | 8  | -4.2 | 79 | 2.1 | 1436 |  -7.3 | 0.01 | 0 | 0.0 | Winter | No Holiday | Yes | 5.841529 | 5.841529 | 343 |\n",
       "| 2/12/2017 | 479 | 12 |  4.3 | 41 | 1.3 | 1666 |  -7.8 | 1.09 | 0 | 0.0 | Winter | No Holiday | Yes | 5.925099 | 5.925099 | 373 |\n",
       "| 2/12/2017 | 589 | 15 |  7.6 | 41 | 2.3 | 1953 |  -4.8 | 0.74 | 0 | 0.0 | Winter | No Holiday | Yes | 6.179439 | 6.179439 | 482 |\n",
       "| 2/12/2017 | 572 | 17 |  6.0 | 51 | 2.5 | 1891 |  -3.3 | 0.06 | 0 | 0.0 | Winter | No Holiday | Yes | 6.197486 | 6.197486 | 491 |\n",
       "| 2/12/2017 | 489 | 18 |  5.5 | 53 | 1.5 | 1697 |  -3.3 | 0.00 | 0 | 0.0 | Winter | No Holiday | Yes | 6.104659 | 6.104659 | 447 |\n",
       "| 2/12/2017 | 377 | 21 |  4.1 | 55 | 1.2 | 1448 |  -4.1 | 0.00 | 0 | 0.0 | Winter | No Holiday | Yes | 5.857226 | 5.857226 | 349 |\n",
       "| 2/12/2017 | 366 | 23 |  4.0 | 56 | 1.0 | 1352 |  -4.0 | 0.00 | 0 | 0.0 | Winter | No Holiday | Yes | 5.631832 | 5.631832 | 278 |\n",
       "| 3/12/2017 | 397 | 20 |  5.2 | 87 | 1.4 |  253 |   3.2 | 0.00 | 0 | 0.0 | Winter | No Holiday | Yes | 5.478237 | 5.478237 | 238 |\n",
       "| 3/12/2017 | 385 | 21 |  4.7 | 87 | 1.2 |  247 |   2.7 | 0.00 | 0 | 0.0 | Winter | No Holiday | Yes | 5.492009 | 5.492009 | 242 |\n",
       "| 4/12/2017 | 186 | 1  |  4.3 | 87 | 0.5 |  221 |   2.3 | 0.00 | 0 | 0.0 | Winter | No Holiday | Yes | 5.227895 | 5.227895 | 185 |\n",
       "| 4/12/2017 | 498 | 7  |  0.2 | 68 | 3.4 |  702 |  -5.0 | 0.00 | 0 | 0.0 | Winter | No Holiday | Yes | 5.457606 | 5.457606 | 234 |\n",
       "| 4/12/2017 | 393 | 12 | -0.3 | 38 | 4.8 | 1823 | -12.9 | 1.11 | 0 | 0.0 | Winter | No Holiday | Yes | 5.695602 | 5.695602 | 297 |\n",
       "| 4/12/2017 | 391 | 13 |  0.0 | 30 | 5.4 | 1938 | -15.5 | 1.17 | 0 | 0.0 | Winter | No Holiday | Yes | 5.692539 | 5.692539 | 296 |\n",
       "| 4/12/2017 | 338 | 14 |  0.1 | 27 | 4.5 | 2000 | -16.7 | 1.09 | 0 | 0.0 | Winter | No Holiday | Yes | 5.713988 | 5.713988 | 302 |\n",
       "| 4/12/2017 | 515 | 17 | -1.3 | 26 | 5.3 | 2000 | -18.3 | 0.18 | 0 | 0.0 | Winter | No Holiday | Yes | 5.737029 | 5.737029 | 309 |\n",
       "| 4/12/2017 | 353 | 22 | -5.3 | 45 | 2.5 | 2000 | -15.3 | 0.00 | 0 | 0.0 | Winter | No Holiday | Yes | 5.363298 | 5.363298 | 212 |\n",
       "| 5/12/2017 | 124 | 2  | -6.8 | 41 | 2.5 | 2000 | -17.8 | 0.00 | 0 | 0.0 | Winter | No Holiday | Yes | 4.555543 | 4.555543 |  94 |\n",
       "| 5/12/2017 | 381 | 7  | -7.5 | 33 | 2.2 | 2000 | -21.0 | 0.00 | 0 | 0.0 | Winter | No Holiday | Yes | 4.918521 | 4.918521 | 136 |\n",
       "| 5/12/2017 | 325 | 13 | -1.6 | 27 | 0.0 | 1955 | -18.2 | 0.00 | 0 | 0.0 | Winter | No Holiday | Yes | 5.751043 | 5.751043 | 314 |\n",
       "| 5/12/2017 | 334 | 14 | -1.1 | 28 | 0.0 | 2000 | -17.3 | 0.00 | 0 | 0.0 | Winter | No Holiday | Yes | 5.782286 | 5.782286 | 324 |\n",
       "| 5/12/2017 | 789 | 18 | -2.6 | 40 | 0.0 | 2000 | -14.4 | 0.00 | 0 | 0.0 | Winter | No Holiday | Yes | 6.106601 | 6.106601 | 448 |\n",
       "| 5/12/2017 | 418 | 20 | -3.5 | 46 | 0.0 | 2000 | -13.4 | 0.00 | 0 | 0.0 | Winter | No Holiday | Yes | 5.797431 | 5.797431 | 328 |\n",
       "| 5/12/2017 | 393 | 22 | -2.8 | 49 | 0.0 | 2000 | -12.0 | 0.00 | 0 | 0.0 | Winter | No Holiday | Yes | 5.698643 | 5.698643 | 297 |\n",
       "| 5/12/2017 | 244 | 23 | -2.5 | 59 | 0.0 | 1210 |  -9.4 | 0.00 | 0 | 0.0 | Winter | No Holiday | Yes | 5.332316 | 5.332316 | 206 |\n",
       "| 6/12/2017 | 117 | 2  | -3.0 | 79 | 0.0 | 1862 |  -6.1 | 0.00 | 0 | 0.4 | Winter | No Holiday | Yes | 4.823933 | 4.823933 | 123 |\n",
       "| 6/12/2017 | 440 | 9  | -3.3 | 70 | 0.0 | 1324 |  -7.9 | 0.25 | 0 | 0.2 | Winter | No Holiday | Yes | 5.519931 | 5.519931 | 249 |\n",
       "| ... | ... | ... | ... | ... | ... | ... | ... | ... | ... | ... | ... | ... | ... | ... | ... | ... |\n",
       "| 25/11/2018 |  700 | 12 |  6.9 | 59 | 0.9 |  669 |  -0.5 | 1.31 | 0 | 2.2 | Autumn | No Holiday | Yes | 6.406703 | 6.406703 |  605 |\n",
       "| 25/11/2018 |  663 | 18 |  7.3 | 72 | 0.7 |  530 |   2.5 | 0.00 | 0 | 0.4 | Autumn | No Holiday | Yes | 6.615386 | 6.615386 |  745 |\n",
       "| 26/11/2018 |  214 | 1  |  3.1 | 84 | 1.0 |  365 |   0.6 | 0.00 | 0 | 0.3 | Autumn | No Holiday | Yes | 5.821175 | 5.821175 |  336 |\n",
       "| 26/11/2018 |  339 | 6  |  1.8 | 88 | 1.1 |  313 |   0.0 | 0.00 | 0 | 0.3 | Autumn | No Holiday | Yes | 5.218984 | 5.218984 |  184 |\n",
       "| 26/11/2018 |  795 | 9  |  3.1 | 77 | 0.9 |  457 |  -0.5 | 0.40 | 0 | 0.2 | Autumn | No Holiday | Yes | 6.492910 | 6.492910 |  659 |\n",
       "| 26/11/2018 |  794 | 15 | 13.2 | 43 | 1.1 |  714 |   0.8 | 1.26 | 0 | 0.0 | Autumn | No Holiday | Yes | 6.813896 | 6.813896 |  909 |\n",
       "| 27/11/2018 |  408 | 1  |  4.5 | 82 | 0.4 |  350 |   1.6 | 0.00 | 0 | 0.0 | Autumn | No Holiday | Yes | 5.851477 | 5.851477 |  347 |\n",
       "| 27/11/2018 |  815 | 7  |  3.6 | 83 | 0.9 |  350 |   0.9 | 0.00 | 0 | 0.0 | Autumn | No Holiday | Yes | 5.998856 | 5.998856 |  402 |\n",
       "| 27/11/2018 |  671 | 13 | 11.0 | 60 | 0.9 |  411 |   3.5 | 0.85 | 0 | 0.0 | Autumn | No Holiday | Yes | 6.603311 | 6.603311 |  737 |\n",
       "| 27/11/2018 | 1538 | 18 | 10.2 | 74 | 1.2 |  289 |   5.7 | 0.00 | 0 | 0.0 | Autumn | No Holiday | Yes | 6.824248 | 6.824248 |  919 |\n",
       "| 27/11/2018 | 1023 | 19 |  9.3 | 52 | 2.7 |  482 |   0.0 | 0.00 | 0 | 0.0 | Autumn | No Holiday | Yes | 6.991270 | 6.991270 | 1086 |\n",
       "| 27/11/2018 |  777 | 21 |  7.5 | 35 | 1.8 |  656 |  -7.0 | 0.00 | 0 | 0.0 | Autumn | No Holiday | Yes | 6.710158 | 6.710158 |  820 |\n",
       "| 27/11/2018 |  593 | 23 |  5.8 | 34 | 2.6 |  763 |  -8.8 | 0.00 | 0 | 0.0 | Autumn | No Holiday | Yes | 6.303025 | 6.303025 |  545 |\n",
       "| 28/11/2018 |  167 | 3  |  3.5 | 38 | 1.6 |  907 |  -9.5 | 0.00 | 0 | 0.0 | Autumn | No Holiday | Yes | 5.265431 | 5.265431 |  193 |\n",
       "| 28/11/2018 |  583 | 10 |  4.4 | 23 | 1.6 | 1201 | -14.9 | 0.70 | 0 | 0.0 | Autumn | No Holiday | Yes | 6.329145 | 6.329145 |  560 |\n",
       "| 28/11/2018 | 1039 | 19 |  6.0 | 24 | 3.0 | 1861 | -13.0 | 0.00 | 0 | 0.0 | Autumn | No Holiday | Yes | 6.821077 | 6.821077 |  916 |\n",
       "| 28/11/2018 |  842 | 20 |  4.8 | 29 | 0.6 | 1756 | -11.7 | 0.00 | 0 | 0.0 | Autumn | No Holiday | Yes | 6.610314 | 6.610314 |  742 |\n",
       "| 29/11/2018 |  517 | 0  |  2.2 | 30 | 0.7 | 1879 | -13.6 | 0.00 | 0 | 0.0 | Autumn | No Holiday | Yes | 6.218839 | 6.218839 |  501 |\n",
       "| 29/11/2018 |  485 | 1  |  1.9 | 32 | 1.4 | 1999 | -13.0 | 0.00 | 0 | 0.0 | Autumn | No Holiday | Yes | 6.124009 | 6.124009 |  456 |\n",
       "| 29/11/2018 |  328 | 6  |  1.1 | 39 | 1.3 | 1857 | -11.3 | 0.00 | 0 | 0.0 | Autumn | No Holiday | Yes | 5.464073 | 5.464073 |  235 |\n",
       "| 29/11/2018 |  825 | 9  |  1.8 | 37 | 0.9 | 1310 | -11.3 | 0.31 | 0 | 0.0 | Autumn | No Holiday | Yes | 6.532794 | 6.532794 |  686 |\n",
       "| 29/11/2018 |  623 | 11 |  5.2 | 26 | 0.5 | 1471 | -12.7 | 0.64 | 0 | 0.0 | Autumn | No Holiday | Yes | 6.429086 | 6.429086 |  619 |\n",
       "| 29/11/2018 |  668 | 14 |  6.0 | 27 | 0.6 | 1452 | -11.6 | 0.34 | 0 | 0.0 | Autumn | No Holiday | Yes | 6.428645 | 6.428645 |  618 |\n",
       "| 29/11/2018 |  652 | 15 |  6.5 | 32 | 2.6 | 1321 |  -9.0 | 0.35 | 0 | 0.0 | Autumn | No Holiday | Yes | 6.492682 | 6.492682 |  659 |\n",
       "| 29/11/2018 |  996 | 17 |  5.8 | 38 | 1.3 | 1674 |  -7.4 | 0.01 | 0 | 0.0 | Autumn | No Holiday | Yes | 6.806707 | 6.806707 |  903 |\n",
       "| 29/11/2018 |  792 | 21 |  3.8 | 55 | 2.1 | 1231 |  -4.4 | 0.00 | 0 | 0.0 | Autumn | No Holiday | Yes | 6.631312 | 6.631312 |  757 |\n",
       "| 29/11/2018 |  726 | 22 |  3.0 | 59 | 1.1 | 1218 |  -4.2 | 0.00 | 0 | 0.0 | Autumn | No Holiday | Yes | 6.563103 | 6.563103 |  707 |\n",
       "| 29/11/2018 |  559 | 23 |  2.6 | 56 | 1.9 | 1394 |  -5.3 | 0.00 | 0 | 0.0 | Autumn | No Holiday | Yes | 6.244350 | 6.244350 |  514 |\n",
       "| 30/11/2018 |  809 | 9  | -0.4 | 57 | 0.6 | 1270 |  -7.8 | 0.45 | 0 | 0.0 | Autumn | No Holiday | Yes | 6.474880 | 6.474880 |  648 |\n",
       "| 30/11/2018 |  694 | 21 |  2.6 | 39 | 0.3 | 1968 |  -9.9 | 0.00 | 0 | 0.0 | Autumn | No Holiday | Yes | 6.529157 | 6.529157 |  684 |\n",
       "\n"
      ],
      "text/plain": [
       "     Date       BikeCount Hour Temp Humidity Wind.speed Visibility DPtemp SR  \n",
       "1    1/12/2017  360       11   -0.5 21       1.3        1936       -20.2  0.94\n",
       "2    1/12/2017  862       18    0.6 66       1.4        2000        -5.0  0.00\n",
       "3    1/12/2017  323       23   -1.3 84       1.0        1265        -3.6  0.00\n",
       "4    2/12/2017   89       4    -3.8 79       2.0        1167        -6.9  0.00\n",
       "5    2/12/2017  219       8    -4.2 79       2.1        1436        -7.3  0.01\n",
       "6    2/12/2017  479       12    4.3 41       1.3        1666        -7.8  1.09\n",
       "7    2/12/2017  589       15    7.6 41       2.3        1953        -4.8  0.74\n",
       "8    2/12/2017  572       17    6.0 51       2.5        1891        -3.3  0.06\n",
       "9    2/12/2017  489       18    5.5 53       1.5        1697        -3.3  0.00\n",
       "10   2/12/2017  377       21    4.1 55       1.2        1448        -4.1  0.00\n",
       "11   2/12/2017  366       23    4.0 56       1.0        1352        -4.0  0.00\n",
       "12   3/12/2017  397       20    5.2 87       1.4         253         3.2  0.00\n",
       "13   3/12/2017  385       21    4.7 87       1.2         247         2.7  0.00\n",
       "14   4/12/2017  186       1     4.3 87       0.5         221         2.3  0.00\n",
       "15   4/12/2017  498       7     0.2 68       3.4         702        -5.0  0.00\n",
       "16   4/12/2017  393       12   -0.3 38       4.8        1823       -12.9  1.11\n",
       "17   4/12/2017  391       13    0.0 30       5.4        1938       -15.5  1.17\n",
       "18   4/12/2017  338       14    0.1 27       4.5        2000       -16.7  1.09\n",
       "19   4/12/2017  515       17   -1.3 26       5.3        2000       -18.3  0.18\n",
       "20   4/12/2017  353       22   -5.3 45       2.5        2000       -15.3  0.00\n",
       "21   5/12/2017  124       2    -6.8 41       2.5        2000       -17.8  0.00\n",
       "22   5/12/2017  381       7    -7.5 33       2.2        2000       -21.0  0.00\n",
       "23   5/12/2017  325       13   -1.6 27       0.0        1955       -18.2  0.00\n",
       "24   5/12/2017  334       14   -1.1 28       0.0        2000       -17.3  0.00\n",
       "25   5/12/2017  789       18   -2.6 40       0.0        2000       -14.4  0.00\n",
       "26   5/12/2017  418       20   -3.5 46       0.0        2000       -13.4  0.00\n",
       "27   5/12/2017  393       22   -2.8 49       0.0        2000       -12.0  0.00\n",
       "28   5/12/2017  244       23   -2.5 59       0.0        1210        -9.4  0.00\n",
       "29   6/12/2017  117       2    -3.0 79       0.0        1862        -6.1  0.00\n",
       "30   6/12/2017  440       9    -3.3 70       0.0        1324        -7.9  0.25\n",
       "...  ...        ...       ...  ...  ...      ...        ...        ...    ... \n",
       "1723 25/11/2018  700      12    6.9 59       0.9         669        -0.5  1.31\n",
       "1724 25/11/2018  663      18    7.3 72       0.7         530         2.5  0.00\n",
       "1725 26/11/2018  214      1     3.1 84       1.0         365         0.6  0.00\n",
       "1726 26/11/2018  339      6     1.8 88       1.1         313         0.0  0.00\n",
       "1727 26/11/2018  795      9     3.1 77       0.9         457        -0.5  0.40\n",
       "1728 26/11/2018  794      15   13.2 43       1.1         714         0.8  1.26\n",
       "1729 27/11/2018  408      1     4.5 82       0.4         350         1.6  0.00\n",
       "1730 27/11/2018  815      7     3.6 83       0.9         350         0.9  0.00\n",
       "1731 27/11/2018  671      13   11.0 60       0.9         411         3.5  0.85\n",
       "1732 27/11/2018 1538      18   10.2 74       1.2         289         5.7  0.00\n",
       "1733 27/11/2018 1023      19    9.3 52       2.7         482         0.0  0.00\n",
       "1734 27/11/2018  777      21    7.5 35       1.8         656        -7.0  0.00\n",
       "1735 27/11/2018  593      23    5.8 34       2.6         763        -8.8  0.00\n",
       "1736 28/11/2018  167      3     3.5 38       1.6         907        -9.5  0.00\n",
       "1737 28/11/2018  583      10    4.4 23       1.6        1201       -14.9  0.70\n",
       "1738 28/11/2018 1039      19    6.0 24       3.0        1861       -13.0  0.00\n",
       "1739 28/11/2018  842      20    4.8 29       0.6        1756       -11.7  0.00\n",
       "1740 29/11/2018  517      0     2.2 30       0.7        1879       -13.6  0.00\n",
       "1741 29/11/2018  485      1     1.9 32       1.4        1999       -13.0  0.00\n",
       "1742 29/11/2018  328      6     1.1 39       1.3        1857       -11.3  0.00\n",
       "1743 29/11/2018  825      9     1.8 37       0.9        1310       -11.3  0.31\n",
       "1744 29/11/2018  623      11    5.2 26       0.5        1471       -12.7  0.64\n",
       "1745 29/11/2018  668      14    6.0 27       0.6        1452       -11.6  0.34\n",
       "1746 29/11/2018  652      15    6.5 32       2.6        1321        -9.0  0.35\n",
       "1747 29/11/2018  996      17    5.8 38       1.3        1674        -7.4  0.01\n",
       "1748 29/11/2018  792      21    3.8 55       2.1        1231        -4.4  0.00\n",
       "1749 29/11/2018  726      22    3.0 59       1.1        1218        -4.2  0.00\n",
       "1750 29/11/2018  559      23    2.6 56       1.9        1394        -5.3  0.00\n",
       "1751 30/11/2018  809      9    -0.4 57       0.6        1270        -7.8  0.45\n",
       "1752 30/11/2018  694      21    2.6 39       0.3        1968        -9.9  0.00\n",
       "     Rainfall Snowfall Seasons Holiday    Fday logreg   logBikeCount\n",
       "1    0        0.0      Winter  No Holiday Yes  5.432163 5.432163    \n",
       "2    0        0.0      Winter  No Holiday Yes  6.031699 6.031699    \n",
       "3    0        0.0      Winter  No Holiday Yes  5.347857 5.347857    \n",
       "4    0        0.0      Winter  No Holiday Yes  4.073991 4.073991    \n",
       "5    0        0.0      Winter  No Holiday Yes  5.841529 5.841529    \n",
       "6    0        0.0      Winter  No Holiday Yes  5.925099 5.925099    \n",
       "7    0        0.0      Winter  No Holiday Yes  6.179439 6.179439    \n",
       "8    0        0.0      Winter  No Holiday Yes  6.197486 6.197486    \n",
       "9    0        0.0      Winter  No Holiday Yes  6.104659 6.104659    \n",
       "10   0        0.0      Winter  No Holiday Yes  5.857226 5.857226    \n",
       "11   0        0.0      Winter  No Holiday Yes  5.631832 5.631832    \n",
       "12   0        0.0      Winter  No Holiday Yes  5.478237 5.478237    \n",
       "13   0        0.0      Winter  No Holiday Yes  5.492009 5.492009    \n",
       "14   0        0.0      Winter  No Holiday Yes  5.227895 5.227895    \n",
       "15   0        0.0      Winter  No Holiday Yes  5.457606 5.457606    \n",
       "16   0        0.0      Winter  No Holiday Yes  5.695602 5.695602    \n",
       "17   0        0.0      Winter  No Holiday Yes  5.692539 5.692539    \n",
       "18   0        0.0      Winter  No Holiday Yes  5.713988 5.713988    \n",
       "19   0        0.0      Winter  No Holiday Yes  5.737029 5.737029    \n",
       "20   0        0.0      Winter  No Holiday Yes  5.363298 5.363298    \n",
       "21   0        0.0      Winter  No Holiday Yes  4.555543 4.555543    \n",
       "22   0        0.0      Winter  No Holiday Yes  4.918521 4.918521    \n",
       "23   0        0.0      Winter  No Holiday Yes  5.751043 5.751043    \n",
       "24   0        0.0      Winter  No Holiday Yes  5.782286 5.782286    \n",
       "25   0        0.0      Winter  No Holiday Yes  6.106601 6.106601    \n",
       "26   0        0.0      Winter  No Holiday Yes  5.797431 5.797431    \n",
       "27   0        0.0      Winter  No Holiday Yes  5.698643 5.698643    \n",
       "28   0        0.0      Winter  No Holiday Yes  5.332316 5.332316    \n",
       "29   0        0.4      Winter  No Holiday Yes  4.823933 4.823933    \n",
       "30   0        0.2      Winter  No Holiday Yes  5.519931 5.519931    \n",
       "...  ...      ...      ...     ...        ...  ...      ...         \n",
       "1723 0        2.2      Autumn  No Holiday Yes  6.406703 6.406703    \n",
       "1724 0        0.4      Autumn  No Holiday Yes  6.615386 6.615386    \n",
       "1725 0        0.3      Autumn  No Holiday Yes  5.821175 5.821175    \n",
       "1726 0        0.3      Autumn  No Holiday Yes  5.218984 5.218984    \n",
       "1727 0        0.2      Autumn  No Holiday Yes  6.492910 6.492910    \n",
       "1728 0        0.0      Autumn  No Holiday Yes  6.813896 6.813896    \n",
       "1729 0        0.0      Autumn  No Holiday Yes  5.851477 5.851477    \n",
       "1730 0        0.0      Autumn  No Holiday Yes  5.998856 5.998856    \n",
       "1731 0        0.0      Autumn  No Holiday Yes  6.603311 6.603311    \n",
       "1732 0        0.0      Autumn  No Holiday Yes  6.824248 6.824248    \n",
       "1733 0        0.0      Autumn  No Holiday Yes  6.991270 6.991270    \n",
       "1734 0        0.0      Autumn  No Holiday Yes  6.710158 6.710158    \n",
       "1735 0        0.0      Autumn  No Holiday Yes  6.303025 6.303025    \n",
       "1736 0        0.0      Autumn  No Holiday Yes  5.265431 5.265431    \n",
       "1737 0        0.0      Autumn  No Holiday Yes  6.329145 6.329145    \n",
       "1738 0        0.0      Autumn  No Holiday Yes  6.821077 6.821077    \n",
       "1739 0        0.0      Autumn  No Holiday Yes  6.610314 6.610314    \n",
       "1740 0        0.0      Autumn  No Holiday Yes  6.218839 6.218839    \n",
       "1741 0        0.0      Autumn  No Holiday Yes  6.124009 6.124009    \n",
       "1742 0        0.0      Autumn  No Holiday Yes  5.464073 5.464073    \n",
       "1743 0        0.0      Autumn  No Holiday Yes  6.532794 6.532794    \n",
       "1744 0        0.0      Autumn  No Holiday Yes  6.429086 6.429086    \n",
       "1745 0        0.0      Autumn  No Holiday Yes  6.428645 6.428645    \n",
       "1746 0        0.0      Autumn  No Holiday Yes  6.492682 6.492682    \n",
       "1747 0        0.0      Autumn  No Holiday Yes  6.806707 6.806707    \n",
       "1748 0        0.0      Autumn  No Holiday Yes  6.631312 6.631312    \n",
       "1749 0        0.0      Autumn  No Holiday Yes  6.563103 6.563103    \n",
       "1750 0        0.0      Autumn  No Holiday Yes  6.244350 6.244350    \n",
       "1751 0        0.0      Autumn  No Holiday Yes  6.474880 6.474880    \n",
       "1752 0        0.0      Autumn  No Holiday Yes  6.529157 6.529157    \n",
       "     predictedBikeCount\n",
       "1    228               \n",
       "2    415               \n",
       "3    209               \n",
       "4     58               \n",
       "5    343               \n",
       "6    373               \n",
       "7    482               \n",
       "8    491               \n",
       "9    447               \n",
       "10   349               \n",
       "11   278               \n",
       "12   238               \n",
       "13   242               \n",
       "14   185               \n",
       "15   234               \n",
       "16   297               \n",
       "17   296               \n",
       "18   302               \n",
       "19   309               \n",
       "20   212               \n",
       "21    94               \n",
       "22   136               \n",
       "23   314               \n",
       "24   324               \n",
       "25   448               \n",
       "26   328               \n",
       "27   297               \n",
       "28   206               \n",
       "29   123               \n",
       "30   249               \n",
       "...  ...               \n",
       "1723  605              \n",
       "1724  745              \n",
       "1725  336              \n",
       "1726  184              \n",
       "1727  659              \n",
       "1728  909              \n",
       "1729  347              \n",
       "1730  402              \n",
       "1731  737              \n",
       "1732  919              \n",
       "1733 1086              \n",
       "1734  820              \n",
       "1735  545              \n",
       "1736  193              \n",
       "1737  560              \n",
       "1738  916              \n",
       "1739  742              \n",
       "1740  501              \n",
       "1741  456              \n",
       "1742  235              \n",
       "1743  686              \n",
       "1744  619              \n",
       "1745  618              \n",
       "1746  659              \n",
       "1747  903              \n",
       "1748  757              \n",
       "1749  707              \n",
       "1750  514              \n",
       "1751  648              \n",
       "1752  684              "
      ]
     },
     "metadata": {},
     "output_type": "display_data"
    }
   ],
   "source": [
    "test"
   ]
  },
  {
   "cell_type": "code",
   "execution_count": 43,
   "metadata": {},
   "outputs": [],
   "source": [
    "# install.packages('datetime')"
   ]
  },
  {
   "cell_type": "code",
   "execution_count": 64,
   "metadata": {},
   "outputs": [
    {
     "name": "stderr",
     "output_type": "stream",
     "text": [
      "Warning message:\n",
      "\"package 'scales' was built under R version 4.0.2\"\n",
      "\n",
      "Attaching package: 'scales'\n",
      "\n",
      "\n",
      "The following objects are masked from 'package:psych':\n",
      "\n",
      "    alpha, rescale\n",
      "\n",
      "\n"
     ]
    }
   ],
   "source": [
    "library(datetime)\n",
    "library(scales)"
   ]
  },
  {
   "cell_type": "code",
   "execution_count": 60,
   "metadata": {},
   "outputs": [],
   "source": [
    "## Day of the Week\n",
    "data$Date = substr(data$Date,1,10)\n",
    "days<-weekdays(as.Date(data$Date))\n",
    "data$days=days\n",
    "data$days <- factor(data$days, levels=c(\"Monday\",\"Tuesday\", \"Wednesday\", \"Thursday\", \"Friday\", \"Saturday\",\"Sunday\"))"
   ]
  },
  {
   "cell_type": "code",
   "execution_count": 65,
   "metadata": {},
   "outputs": [
    {
     "data": {
      "image/png": "[encoded data removed]",
      "text/plain": [
       "plot without title"
      ]
     },
     "metadata": {
      "image/png": {
       "height": 420,
       "width": 420
      }
     },
     "output_type": "display_data"
    }
   ],
   "source": [
    "## Weekdays Graph\n",
    "ggplot(data=data, aes(x = days, y=BikeCount, fill=days))+\n",
    "geom_bar(stat = \"identity\")+\n",
    "ggtitle(label = \"Weekday Comparison of Casual Users\")+\n",
    "theme_minimal()+theme(plot.title = element_text(hjust = 0.5, lineheight = 0.8, face = \"bold\"),legend.position = \"none\")+\n",
    "xlab(\"Weekdays\")+ylab(\"Casual Count\")+ scale_y_continuous(labels = comma)"
   ]
  },
  {
   "cell_type": "code",
   "execution_count": null,
   "metadata": {},
   "outputs": [],
   "source": []
  },
  {
   "cell_type": "markdown",
   "metadata": {},
   "source": [
    "# Model Deployment and Predcition"
   ]
  },
  {
   "cell_type": "code",
   "execution_count": 70,
   "metadata": {},
   "outputs": [],
   "source": [
    "data = data %>% dplyr::mutate_if(is.factor, as.numeric)"
   ]
  },
  {
   "cell_type": "code",
   "execution_count": 72,
   "metadata": {
    "scrolled": true
   },
   "outputs": [
    {
     "name": "stdout",
     "output_type": "stream",
     "text": [
      "'data.frame':\t7008 obs. of  15 variables:\n",
      " $ Date      : chr  \"13/03/2018\" \"15/03/2018\" \"29/11/2018\" \"4/04/2018\" ...\n",
      " $ BikeCount : int  705 289 126 378 236 708 715 1001 502 17 ...\n",
      " $ Hour      : num  15 15 6 10 18 11 9 2 21 19 ...\n",
      " $ Temp      : num  18.3 12.1 1.8 10.4 2.4 18.2 21.1 18.9 10.7 22.2 ...\n",
      " $ Humidity  : int  43 97 34 81 17 36 70 55 70 96 ...\n",
      " $ Wind.speed: num  2.2 2 0.9 1.4 3.1 1 0.3 2.3 2.8 1.2 ...\n",
      " $ Visibility: int  1509 177 1990 2000 1990 620 766 2000 236 673 ...\n",
      " $ DPtemp    : num  5.4 11.6 -12.4 7.2 -20.2 2.8 15.4 9.6 5.4 21.5 ...\n",
      " $ SR        : num  2.43 0.2 0 0.36 0.78 1.99 0.9 0 0 0.09 ...\n",
      " $ Rainfall  : num  0 0 0 0 0 0 0 0 0 3.5 ...\n",
      " $ Snowfall  : num  0 0 0 0 0 0 0 0 0 0 ...\n",
      " $ Seasons   : num  2 2 1 2 4 2 3 1 2 3 ...\n",
      " $ Holiday   : num  2 2 2 2 1 2 2 2 2 2 ...\n",
      " $ Fday      : num  2 2 2 2 2 2 2 2 2 2 ...\n",
      " $ days      : num  3 5 2 2 5 1 2 6 4 5 ...\n"
     ]
    }
   ],
   "source": [
    "str(data)"
   ]
  },
  {
   "cell_type": "code",
   "execution_count": 73,
   "metadata": {},
   "outputs": [],
   "source": [
    "data$logBikeCount <- log(data$BikeCount + 1)"
   ]
  },
  {
   "cell_type": "code",
   "execution_count": 75,
   "metadata": {},
   "outputs": [
    {
     "data": {
      "text/plain": [
       "\n",
       "Call:\n",
       " randomForest(formula = logBikeCount ~ Seasons + Holiday + Hour +      Temp + Humidity + Wind.speed + Visibility + DPtemp + SR +      Rainfall + Snowfall + Fday + days, data = data) \n",
       "               Type of random forest: regression\n",
       "                     Number of trees: 500\n",
       "No. of variables tried at each split: 4\n",
       "\n",
       "          Mean of squared residuals: 0.1728626\n",
       "                    % Var explained: 93.14"
      ]
     },
     "metadata": {},
     "output_type": "display_data"
    }
   ],
   "source": [
    "set.seed(999)\n",
    "\n",
    "forest1 <- randomForest(logBikeCount ~ Seasons + Holiday + Hour + Temp +\n",
    "                        Humidity + Wind.speed + Visibility + DPtemp +\n",
    "                        SR + Rainfall + Snowfall + Fday + days, data = data)\n",
    "\n",
    "forest1"
   ]
  },
  {
   "cell_type": "code",
   "execution_count": 76,
   "metadata": {},
   "outputs": [
    {
     "name": "stderr",
     "output_type": "stream",
     "text": [
      "Warning message:\n",
      "\"'newdata' had 1752 rows but variables found have 7008 rows\"\n"
     ]
    },
    {
     "ename": "ERROR",
     "evalue": "Error in model.frame.default(Terms, newdata, na.action = na.omit): variable lengths differ (found for 'days')\n",
     "output_type": "error",
     "traceback": [
      "Error in model.frame.default(Terms, newdata, na.action = na.omit): variable lengths differ (found for 'days')\nTraceback:\n",
      "1. predict(forest1, test)",
      "2. predict.randomForest(forest1, test)",
      "3. model.frame(Terms, newdata, na.action = na.omit)",
      "4. model.frame.default(Terms, newdata, na.action = na.omit)"
     ]
    }
   ],
   "source": [
    "# Predict\n",
    "predict1 <- predict(forest1, test)\n",
    "summary(forest1)"
   ]
  },
  {
   "cell_type": "code",
   "execution_count": null,
   "metadata": {},
   "outputs": [],
   "source": []
  },
  {
   "cell_type": "code",
   "execution_count": null,
   "metadata": {},
   "outputs": [],
   "source": []
  },
  {
   "cell_type": "code",
   "execution_count": null,
   "metadata": {},
   "outputs": [],
   "source": []
  },
  {
   "cell_type": "code",
   "execution_count": null,
   "metadata": {},
   "outputs": [],
   "source": []
  },
  {
   "cell_type": "code",
   "execution_count": null,
   "metadata": {},
   "outputs": [],
   "source": []
  }
 ],
 "metadata": {
  "kernelspec": {
   "display_name": "R",
   "language": "R",
   "name": "ir"
  },
  "language_info": {
   "codemirror_mode": "r",
   "file_extension": ".r",
   "mimetype": "text/x-r-source",
   "name": "R",
   "pygments_lexer": "r",
   "version": "4.0.1"
  }
 },
 "nbformat": 4,
 "nbformat_minor": 4
}
